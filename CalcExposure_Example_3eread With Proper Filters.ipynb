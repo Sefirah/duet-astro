{
 "cells": [
  {
   "cell_type": "code",
   "execution_count": 1,
   "metadata": {
    "collapsed": false
   },
   "outputs": [],
   "source": [
    "import astropy.units as u\n",
    "from tdsat_telescope import load_telescope_parameters\n",
    "from tdsat_sensitivity import src_rate, bgd_sky_qe_rate, bgd_electronics, calc_exposure\n",
    "from tdsat_neff import get_neff\n",
    "from bbmag import bb_abmag_fluence\n",
    "import numpy as np\n",
    "from matplotlib import pyplot as plt\n",
    "\n",
    "from astropy.visualization import quantity_support\n"
   ]
  },
  {
   "cell_type": "code",
   "execution_count": 6,
   "metadata": {
    "collapsed": false
   },
   "outputs": [
    {
     "name": "stdout",
     "output_type": "stream",
     "text": [
      "Transmission efficiency: 0.8166518036622619\n"
     ]
    }
   ],
   "source": [
    "siglimit = 10. # sigma\n",
    "read_noise = 3.*(2**0.5) # Read noise for two frames\n",
    "\n",
    "# Target value\n",
    "AB = 22*u.ABmag\n",
    "\n",
    "point_drift = 1*u.arcsec # To be added to the PSF in quadrature\n",
    "point_jitter = 5*u.arcsec\n",
    "# Define bands\n",
    "td1_band = [193, 233]*u.nm\n",
    "\n",
    "\n",
    "# Transmission efficiency\n",
    "trans_eff = (0.975)**8 # from Jim. \n",
    "\n",
    "print('Transmission efficiency: {}'.format(trans_eff))\n",
    "\n",
    "dist = 200*u.Mpc\n",
    "ab_vega = 1.73\n",
    "\n",
    "# Load Tony's lightcurves\n",
    "shock = np.loadtxt('input_data/shock.dat')\n",
    "blukn = np.loadtxt('input_data/kilonova_blue.dat')\n",
    "\n"
   ]
  },
  {
   "cell_type": "code",
   "execution_count": 17,
   "metadata": {
    "collapsed": false
   },
   "outputs": [
    {
     "name": "stdout",
     "output_type": "stream",
     "text": [
      "Telescope Configuration 11\n",
      "Name: Small Focal Plane CMOS\n",
      "Entrance Pupil diameter 26.0 cm\n",
      "Optical Efficiency 0.7893639053254439\n",
      "PSF FWHM 4.288 arcsec\n",
      "Pixel size 6.4 arcsec\n",
      "Effective Aperture 23.1 cm\n",
      "Effective Area 419.09631397051237 cm2\n",
      "Effective PSF size 6.6623527375845235 arcsec\n",
      "Number of effective bgd pixels: 2.990374488245114\n",
      "\n",
      "---------\n",
      "Optics reflectivity loader\n",
      "Input file input_data/al_mgf2_mirror_coatings.csv\n",
      "Detector Q.E. loader\n",
      "Band 1 has input file input_data/detector_180_220nm.csv\n",
      "Red filter loader\n",
      "Band 1 has input file input_data/duet1_filter.csv\n",
      "Background Computation Integrating over Pixel Area\n",
      "Telescope diameter: 26.0 cm\n",
      "Collecting Area: 530.929158456675 cm2\n",
      "Band: [193. 233.] nm\n",
      "Bandpass: 40.0 nm\n",
      "\n",
      "\n",
      "Pixel Area: 40.96000000000001 arcsec2\n",
      "\n",
      "Background fluence per arcsec2 1.9393440281124168e-06 1 / (arcsec2 cm2 s)\n",
      "Rate 0.04217463983323972 1 / s\n",
      "Sky background rate per pixel band1: 0.027187268223972362 1 / s\n",
      "Optics reflectivity loader\n",
      "Input file input_data/al_mgf2_mirror_coatings.csv\n",
      "Detector Q.E. loader\n",
      "Band 2 has input file input_data/detector_260_300nm.csv\n",
      "Red filter loader\n",
      "Band 2 has input file input_data/duet2_filter.csv\n",
      "Background Computation Integrating over Pixel Area\n",
      "Telescope diameter: 26.0 cm\n",
      "Collecting Area: 530.929158456675 cm2\n",
      "Band: [193. 233.] nm\n",
      "Bandpass: 40.0 nm\n",
      "\n",
      "\n",
      "Pixel Area: 40.96000000000001 arcsec2\n",
      "\n",
      "Background fluence per arcsec2 6.486751025064045e-05 1 / (arcsec2 cm2 s)\n",
      "Rate 1.4106645556655015 1 / s\n",
      "Sky background rate per pixel band2: 0.9093643905573264 1 / s\n"
     ]
    }
   ],
   "source": [
    "# Load telescope info\n",
    "config=11\n",
    "diameter, qe, psf_size, pixel_size, efficiency = load_telescope_parameters(config)\n",
    "area = 4 * np.pi * (diameter*0.5)**2\n",
    "\n",
    "# Add in fuzz...\n",
    "psf_size = (psf_size**2 + point_drift**2 + point_jitter**2)**0.5\n",
    "\n",
    "\n",
    "print('Effective PSF size {}'.format(psf_size))\n",
    "# Get the number of effective background pixels\n",
    "neff = get_neff(psf_size, pixel_size)\n",
    "print('Number of effective bgd pixels: {}'.format(neff))\n",
    "print()\n",
    "\n",
    "print('---------')\n",
    "\n",
    "\n",
    "# Compute sky background\n",
    "bgd_ph_rate = bgd_sky_qe_rate(diag=True,high_zodi=True,\n",
    "                              diameter=diameter,\n",
    "                              band=td1_band,\n",
    "                              pixel_size=pixel_size, real_red=True)\n",
    "bgd_band1 = trans_eff * efficiency * bgd_ph_rate\n",
    "print('Sky background rate per pixel band1: {}'.format(bgd_band1))\n",
    "\n",
    "\n",
    "bgd_ph_rate = bgd_sky_qe_rate(diag=True,high_zodi=True,\n",
    "                              diameter=diameter,\n",
    "                              band=td1_band,qe_band=2,\n",
    "                              pixel_size=pixel_size, real_red=True)\n",
    "bgd_band2 = trans_eff  * efficiency * bgd_ph_rate\n",
    "print('Sky background rate per pixel band2: {}'.format(bgd_band2))\n",
    "\n",
    "\n",
    "# Do model at peak Swift UVOT luminosity\n",
    "swiftmag = 0\n",
    "all_exp1 = []\n",
    "all_exp2 = []\n",
    "\n",
    "\n",
    "all_time = blukn[:, 0]*u.d\n",
    "for row in blukn:\n",
    "    thismag = (row[16]+ab_vega)*u.ABmag\n",
    "    swiftmag = thismag\n",
    "    bbtemp = row[4]*u.K\n",
    "    peaktime = row[0]\n",
    "\n",
    "    band1_fluence, band2_fluence = bb_abmag_fluence(dist = dist,\n",
    "                                                    bbtemp = bbtemp,\n",
    "                                                    swiftmag = swiftmag,\n",
    "                                                    diag=False)\n",
    "\n",
    "    band1_rate = trans_eff  * efficiency * area * band1_fluence\n",
    "    band2_rate = trans_eff * efficiency * area * band2_fluence\n",
    "\n",
    "\n",
    "\n",
    "    exposure1 = calc_exposure(siglimit, band1_rate, bgd_band1,read_noise, neff)\n",
    "    exposure2 = calc_exposure(siglimit, band2_rate, bgd_band2,read_noise, neff)\n",
    "\n",
    "\n",
    "#    print('{} {} {} {} {}'.format(peaktime, bbtemp, thismag, band1_rate, exposure1))\n",
    "    all_exp1 = np.append(all_exp1, exposure1)\n",
    "    all_exp2 = np.append(all_exp2, exposure2)\n",
    "\n",
    "\n",
    "\n",
    "# for row in shock:\n",
    "#     thismag = (row[14]+ab_vega)*u.ABmag\n",
    "#     if thismag < swiftmag:\n",
    "#         swiftmag = thismag\n",
    "#         bbtemp = row[3]*u.K\n",
    "#         peaktime = row[1]\n",
    "# print(swiftmag, bbtemp, peaktime*24)\n"
   ]
  },
  {
   "cell_type": "code",
   "execution_count": 18,
   "metadata": {
    "collapsed": false
   },
   "outputs": [
    {
     "data": {
      "image/png": "[encoded data removed]",
      "text/plain": [
       "<Figure size 432x288 with 1 Axes>"
      ]
     },
     "metadata": {
      "needs_background": "light"
     },
     "output_type": "display_data"
    }
   ],
   "source": [
    "with quantity_support():\n",
    "    plt.figure()\n",
    "    plt.scatter(all_time.to(u.hr), all_exp1/300*u.s, label='DUET 1')\n",
    "    plt.scatter(all_time.to(u.hr), all_exp2/300*u.s, label='DUET 2')\n",
    "    plt.title('Blue Kilonova at 200 Mpc')\n",
    "\n",
    "    plt.xlim([0.1, 24])\n",
    "    plt.ylim([0, 5])\n",
    "    plt.ylabel('300-s exposures for 10-σ')\n",
    "    plt.xlabel('Hours')\n",
    "    plt.legend()\n",
    "    plt.show()"
   ]
  },
  {
   "cell_type": "code",
   "execution_count": 21,
   "metadata": {
    "collapsed": false
   },
   "outputs": [
    {
     "name": "stdout",
     "output_type": "stream",
     "text": [
      "Telescope Configuration 11\n",
      "Name: Small Focal Plane CMOS\n",
      "Entrance Pupil diameter 26.0 cm\n",
      "Optical Efficiency 0.7893639053254439\n",
      "PSF FWHM 4.288 arcsec\n",
      "Pixel size 6.4 arcsec\n",
      "Effective Aperture 23.1 cm\n",
      "Effective Area 419.09631397051237 cm2\n",
      "Effective PSF size 6.6623527375845235 arcsec\n",
      "Number of effective bgd pixels: 2.990374488245114\n",
      "\n",
      "---------\n",
      "Optics reflectivity loader\n",
      "Input file input_data/al_mgf2_mirror_coatings.csv\n",
      "Detector Q.E. loader\n",
      "Band 1 has input file input_data/detector_180_220nm.csv\n",
      "Red filter loader\n",
      "Band 1 has input file input_data/duet1_filter.csv\n",
      "Background Computation Integrating over Pixel Area\n",
      "Telescope diameter: 26.0 cm\n",
      "Collecting Area: 530.929158456675 cm2\n",
      "Band: [193. 233.] nm\n",
      "Bandpass: 40.0 nm\n",
      "\n",
      "\n",
      "Pixel Area: 40.96000000000001 arcsec2\n",
      "\n",
      "Background fluence per arcsec2 1.9393440281124168e-06 1 / (arcsec2 cm2 s)\n",
      "Rate 0.04217463983323972 1 / s\n",
      "Sky background rate per pixel band1: 0.027187268223972362 1 / s\n",
      "Optics reflectivity loader\n",
      "Input file input_data/al_mgf2_mirror_coatings.csv\n",
      "Detector Q.E. loader\n",
      "Band 2 has input file input_data/detector_260_300nm.csv\n",
      "Red filter loader\n",
      "Band 2 has input file input_data/duet2_filter.csv\n",
      "Background Computation Integrating over Pixel Area\n",
      "Telescope diameter: 26.0 cm\n",
      "Collecting Area: 530.929158456675 cm2\n",
      "Band: [193. 233.] nm\n",
      "Bandpass: 40.0 nm\n",
      "\n",
      "\n",
      "Pixel Area: 40.96000000000001 arcsec2\n",
      "\n",
      "Background fluence per arcsec2 6.486751025064045e-05 1 / (arcsec2 cm2 s)\n",
      "Rate 1.4106645556655015 1 / s\n",
      "Sky background rate per pixel band2: 0.9093643905573264 1 / s\n"
     ]
    }
   ],
   "source": [
    "dist = 200*u.Mpc\n",
    "ab_vega = 1.73\n",
    "\n",
    "# Load Tony's lightcurves\n",
    "shock = np.loadtxt('input_data/shock.dat')\n",
    "blukn = np.loadtxt('input_data/kilonova_blue.dat')\n",
    "\n",
    "config=11\n",
    "diameter, qe, psf_size, pixel_size, efficiency = load_telescope_parameters(config)\n",
    "area = 4 * np.pi * (diameter*0.5)**2\n",
    "\n",
    "# Add in fuzz...\n",
    "psf_size = (psf_size**2 + point_drift**2 + point_jitter**2)**0.5\n",
    "\n",
    "\n",
    "print('Effective PSF size {}'.format(psf_size))\n",
    "# Get the number of effective background pixels\n",
    "neff = get_neff(psf_size, pixel_size)\n",
    "print('Number of effective bgd pixels: {}'.format(neff))\n",
    "print()\n",
    "\n",
    "print('---------')\n",
    "\n",
    "\n",
    "# Compute sky background\n",
    "bgd_ph_rate = bgd_sky_qe_rate(diag=True,high_zodi=True,\n",
    "                              diameter=diameter,\n",
    "                              band=td1_band,\n",
    "                              pixel_size=pixel_size, real_red=True)\n",
    "bgd_band1 = trans_eff * efficiency * bgd_ph_rate\n",
    "print('Sky background rate per pixel band1: {}'.format(bgd_band1))\n",
    "\n",
    "\n",
    "bgd_ph_rate = bgd_sky_qe_rate(diag=True,high_zodi=True,\n",
    "                              diameter=diameter,\n",
    "                              band=td1_band,qe_band=2,\n",
    "                              pixel_size=pixel_size, real_red=True)\n",
    "bgd_band2 = trans_eff  * efficiency * bgd_ph_rate\n",
    "print('Sky background rate per pixel band2: {}'.format(bgd_band2))\n",
    "\n",
    "\n",
    "\n",
    "\n",
    "\n",
    "\n",
    "# Do model at peak Swift UVOT luminosity\n",
    "swiftmag = 0\n",
    "all_exp1 = []\n",
    "all_exp2 = []\n",
    "\n",
    "all_time = shock[:, 1]*u.d\n",
    "for row in shock:\n",
    "    thismag = (row[14]+ab_vega)*u.ABmag\n",
    "    swiftmag = thismag\n",
    "    bbtemp = row[3]*u.K\n",
    "\n",
    "    band1_fluence, band2_fluence = bb_abmag_fluence(dist = dist,\n",
    "                                                    bbtemp = bbtemp,\n",
    "                                                    swiftmag = swiftmag,\n",
    "                                                    diag=False)\n",
    "\n",
    "    band1_rate = trans_eff  * efficiency * area * band1_fluence\n",
    "    band2_rate = trans_eff * efficiency * area * band2_fluence\n",
    "\n",
    "\n",
    "\n",
    "    exposure1 = calc_exposure(siglimit, band1_rate, bgd_band1,read_noise, neff)\n",
    "    exposure2 = calc_exposure(siglimit, band2_rate, bgd_band2,read_noise, neff)\n",
    "\n",
    "\n",
    "#    print('{} {} {} {} {}'.format(peaktime, bbtemp, thismag, band1_rate, exposure))\n",
    "    all_exp1 = np.append(all_exp1, exposure1)\n",
    "    all_exp2 = np.append(all_exp2, exposure2)\n",
    "\n",
    "\n",
    "\n"
   ]
  },
  {
   "cell_type": "code",
   "execution_count": 22,
   "metadata": {
    "collapsed": false
   },
   "outputs": [
    {
     "data": {
      "image/png": "[encoded data removed]",
      "text/plain": [
       "<Figure size 432x288 with 1 Axes>"
      ]
     },
     "metadata": {
      "needs_background": "light"
     },
     "output_type": "display_data"
    }
   ],
   "source": [
    "with quantity_support():\n",
    "    plt.figure()\n",
    "    plt.scatter(all_time.to(u.hr), all_exp1/300*u.s, label='DUET 1')\n",
    "    plt.scatter(all_time.to(u.hr), all_exp2/300*u.s, label='DUET 2')\n",
    "    plt.title('Shock Model at 200 Mpc')\n",
    "\n",
    "    plt.ylim([0, 5])\n",
    "    plt.xlim([0.1, 24])\n",
    "    plt.ylabel('300-s exposures for 10-σ')\n",
    "    plt.xlabel('Hours')\n",
    "    \n",
    "    plt.show()"
   ]
  }
 ],
 "metadata": {
  "anaconda-cloud": {},
  "kernelspec": {
   "display_name": "Python [conda env:tdsat]",
   "language": "python",
   "name": "conda-env-tdsat-py"
  },
  "language_info": {
   "codemirror_mode": {
    "name": "ipython",
    "version": 3
   },
   "file_extension": ".py",
   "mimetype": "text/x-python",
   "name": "python",
   "nbconvert_exporter": "python",
   "pygments_lexer": "ipython3",
   "version": "3.6.8"
  }
 },
 "nbformat": 4,
 "nbformat_minor": 2
}
