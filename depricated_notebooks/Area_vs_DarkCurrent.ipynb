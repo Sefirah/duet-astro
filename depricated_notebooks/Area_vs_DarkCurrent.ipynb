{
 "cells": [
  {
   "cell_type": "code",
   "execution_count": 12,
   "metadata": {
    "collapsed": false
   },
   "outputs": [],
   "source": [
    "import numpy as np\n",
    "import astropy\n",
    "import astropy.units as ur\n",
    "import astropy.constants as cr\n",
    "%matplotlib inline\n",
    "from tdsat_sensitivity import find_limit, compute_snr\n",
    "import matplotlib.pyplot as plt\n"
   ]
  },
  {
   "cell_type": "code",
   "execution_count": 34,
   "metadata": {
    "collapsed": false
   },
   "outputs": [
    {
     "name": "stdout",
     "output_type": "stream",
     "text": [
      "Found SNR: 10.050166150682543 for 30.0 cm diameter\n",
      "Found SNR: 9.94794290398101 for 30.0 cm diameter\n",
      "Found SNR: 10.085768782413448 for 30.5 cm diameter\n",
      "Found SNR: 10.142363531669256 for 31.5 cm diameter\n",
      "Found SNR: 10.044983393848746 for 32.5 cm diameter\n",
      "Found SNR: 10.102786210761572 for 34.0 cm diameter\n",
      "Found SNR: 9.956461855828298 for 36.5 cm diameter\n",
      "Found SNR: 10.109991361719882 for 38.0 cm diameter\n"
     ]
    }
   ],
   "source": [
    "# Set inputs here. Currently set at Ultrasat values to compare with Rick\n",
    "qe = 0.7\n",
    "exposure = 300*ur.s\n",
    "psf_size = 6*ur.arcsec\n",
    "efficiency = 0.7\n",
    "\n",
    "\n",
    "\n",
    "td1_band = [180, 220]*ur.nm\n",
    "\n",
    "\n",
    "\n",
    "# td2_band = [260, 320]*ur.nm\n",
    "# td3_band = [340, 380]*ur.nm\n",
    "\n",
    "AB = 22*ur.ABmag\n",
    "\n",
    "\n",
    "snr = 1\n",
    "target = 10.\n",
    "\n",
    "area_vs_dc = []\n",
    "diameter = 29*ur.cm\n",
    "\n",
    "dc_arr = [0.001,0.005, 0.01, 0.03, 0.06, 0.1,0.2, 0.25]\n",
    "for dc in dc_arr:\n",
    "    snr = compute_snr(td1_band, AB, diameter = diameter, psf_size= psf_size, dark_current = dc * (1/ur.s))\n",
    "#    print('Starting SNR: {}'.format(snr))\n",
    "    while( (target - snr) > 0.1):\n",
    "        diameter += 0.5 *ur.cm    \n",
    "        snr = compute_snr(td1_band, AB, diag=False, diameter=diameter,\n",
    "                          psf_size=psf_size, dark_current = dc * (1/ur.s))\n",
    "\n",
    "    print('Found SNR: {} for {} diameter'.format(snr, diameter))\n",
    "#     snr = compute_snr(td1_band, AB, diag=True, bgd_elec_diag = True,\n",
    "#                       dark_current = dc * (1/ur.s),diameter=diameter, psf_size=psf_size)\n",
    "    area_vs_dc.append(diameter.value)\n",
    "    \n",
    "    diameter = (diameter.value - 0.5)*ur.cm\n"
   ]
  },
  {
   "cell_type": "code",
   "execution_count": 39,
   "metadata": {
    "collapsed": false
   },
   "outputs": [
    {
     "data": {
      "image/png": "[encoded data removed]",
      "text/plain": [
       "<matplotlib.figure.Figure at 0x11d18e048>"
      ]
     },
     "metadata": {},
     "output_type": "display_data"
    }
   ],
   "source": [
    "f = plt.figure(figsize=[12, 9])\n",
    "\n",
    "plt.scatter(dc_arr, area_vs_dc)\n",
    "plt.title('Entrance Diameter vs Dark Current to get 10-σ @ 22 Mag for TD1')\n",
    "plt.ylabel('Telescope Diameter Requied (arcsec)')\n",
    "plt.xlabel('Dark current (e- / sec)')\n",
    "plt.show()\n",
    "f.savefig('area_vs_darkcurrent.pdf')\n"
   ]
  },
  {
   "cell_type": "code",
   "execution_count": null,
   "metadata": {
    "collapsed": true
   },
   "outputs": [],
   "source": []
  }
 ],
 "metadata": {
  "anaconda-cloud": {},
  "kernelspec": {
   "display_name": "Python [default]",
   "language": "python",
   "name": "python3"
  },
  "language_info": {
   "codemirror_mode": {
    "name": "ipython",
    "version": 3
   },
   "file_extension": ".py",
   "mimetype": "text/x-python",
   "name": "python",
   "nbconvert_exporter": "python",
   "pygments_lexer": "ipython3",
   "version": "3.5.1"
  }
 },
 "nbformat": 4,
 "nbformat_minor": 2
}
