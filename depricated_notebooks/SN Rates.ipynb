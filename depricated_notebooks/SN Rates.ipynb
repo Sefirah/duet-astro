{
 "cells": [
  {
   "cell_type": "code",
   "execution_count": 2,
   "metadata": {
    "collapsed": true
   },
   "outputs": [],
   "source": [
    "from astropy import units as u\n",
    "from astropy.coordinates import Distance\n",
    "from numpy import pi"
   ]
  },
  {
   "cell_type": "code",
   "execution_count": 3,
   "metadata": {
    "collapsed": false
   },
   "outputs": [
    {
     "name": "stdout",
     "output_type": "stream",
     "text": [
      "Shock breakout peak luminosity 22.010299956639813 mag(AB)\n",
      "Shock cooling peak luminosity 23.010299956639813 mag(AB)\n"
     ]
    }
   ],
   "source": [
    "r = 400 * u.Mpc\n",
    "d = Distance(r)\n",
    "\n",
    "\n",
    "\n",
    "peak_abs_mag = -16 * u.ABmag\n",
    "peak_apparent_mag = peak_abs_mag + d.distmod\n",
    "print('Shock breakout peak luminosity {}'.format(peak_apparent_mag))\n",
    "\n",
    "\n",
    "\n",
    "\n",
    "peak_abs_mag = -15 * u.ABmag\n",
    "peak_apparent_mag = peak_abs_mag + d.distmod\n",
    "print('Shock cooling peak luminosity {}'.format(peak_apparent_mag))\n"
   ]
  },
  {
   "cell_type": "code",
   "execution_count": 4,
   "metadata": {
    "collapsed": false
   },
   "outputs": [],
   "source": [
    "solid_angle = ((100)*u.deg**2).to(u.rad**2)\n",
    "fraction = solid_angle / (4*pi*u.rad**2)\n",
    "vol = (4 * pi / 3) * r**3\n",
    "eff_vol = vol*fraction"
   ]
  },
  {
   "cell_type": "code",
   "execution_count": 5,
   "metadata": {
    "collapsed": false
   },
   "outputs": [
    {
     "name": "stdout",
     "output_type": "stream",
     "text": [
      "Core-collapse supernova rate:   45.814 1 / yr\n",
      "Type Ia supernova rate:     19.5 1 / yr\n"
     ]
    }
   ],
   "source": [
    "type2_rate = (0.258 + 0.447) * 1e-4*(1/(u.year*u.Mpc**3))\n",
    "type1a_rate = (0.3e-4) *(1/(u.year*u.Mpc**3))\n",
    "\n",
    "print('Core-collapse supernova rate: {:8.5}'.format(type2_rate *eff_vol))\n",
    "print('Type Ia supernova rate: {:8.3}'.format(type1a_rate *eff_vol))"
   ]
  },
  {
   "cell_type": "code",
   "execution_count": 7,
   "metadata": {
    "collapsed": false
   },
   "outputs": [
    {
     "name": "stdout",
     "output_type": "stream",
     "text": [
      "Blue Kilonova peak luminosity 22.505149978319906 mag(AB)\n"
     ]
    }
   ],
   "source": [
    "r = 200 * u.Mpc\n",
    "d = Distance(r)\n",
    "\n",
    "\n",
    "\n",
    "peak_abs_mag = -14 * u.ABmag\n",
    "peak_apparent_mag = peak_abs_mag + d.distmod\n",
    "print('Blue Kilonova peak luminosity {}'.format(peak_apparent_mag))\n"
   ]
  },
  {
   "cell_type": "code",
   "execution_count": null,
   "metadata": {
    "collapsed": true
   },
   "outputs": [],
   "source": []
  }
 ],
 "metadata": {
  "anaconda-cloud": {},
  "kernelspec": {
   "display_name": "Python [conda env:nickenv]",
   "language": "python",
   "name": "conda-env-nickenv-py"
  },
  "language_info": {
   "codemirror_mode": {
    "name": "ipython",
    "version": 3
   },
   "file_extension": ".py",
   "mimetype": "text/x-python",
   "name": "python",
   "nbconvert_exporter": "python",
   "pygments_lexer": "ipython3",
   "version": "3.7.2"
  }
 },
 "nbformat": 4,
 "nbformat_minor": 2
}
