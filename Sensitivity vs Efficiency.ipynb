{
 "cells": [
  {
   "cell_type": "code",
   "execution_count": 1,
   "metadata": {
    "collapsed": false
   },
   "outputs": [],
   "source": [
    "import numpy as np\n",
    "import astropy\n",
    "import astropy.units as ur\n",
    "import astropy.constants as cr\n",
    "%matplotlib inline\n",
    "from tdsat_sensitivity import find_limit, compute_snr\n",
    "import matplotlib.pyplot as plt\n"
   ]
  },
  {
   "cell_type": "code",
   "execution_count": 2,
   "metadata": {
    "collapsed": false
   },
   "outputs": [],
   "source": [
    "# Set inputs here. Currently set at Ultrasat values to compare with Rick\n",
    "qe = 0.8\n",
    "exposure = 300*ur.s\n",
    "psf_size = 10*ur.arcsec\n",
    "efficiency = 0.87\n",
    "\n",
    "\n",
    "td1_band = [180, 220]*ur.nm\n",
    "td2_band = [260, 320]*ur.nm\n",
    "td3_band = [340, 380]*ur.nm\n",
    "\n",
    "\n",
    "\n"
   ]
  },
  {
   "cell_type": "code",
   "execution_count": 3,
   "metadata": {
    "collapsed": false
   },
   "outputs": [
    {
     "name": "stdout",
     "output_type": "stream",
     "text": [
      "0.9 865.9014751456867 cm2 6.0 10.422954328290173\n",
      "0.85 817.795837637593 cm2 5.0 10.466391297074805\n",
      "0.8 769.6902001294993 cm2 4.0 10.37754603805874\n",
      "0.75 721.5845626214056 cm2 3.0 10.13785117391575\n",
      "Not found...\n",
      "0.7 673.4789251133119 cm2 0.0 9.798963530831504\n",
      "Not found...\n",
      "0.65 625.3732876052181 cm2 0.0 9.208418942547892\n",
      "Not found...\n",
      "0.6 577.2676500971246 cm2 0.0 8.604777495080084\n",
      "Not found...\n",
      "0.55 529.1620125890308 cm2 0.0 7.987322392661146\n",
      "Not found...\n",
      "0.5 481.0563750809371 cm2 0.0 7.35527611336309\n",
      "Not found...\n",
      "0.45 432.95073757284337 cm2 0.0 6.707793424299714\n"
     ]
    }
   ],
   "source": [
    "# Loop over \"effective area\" where we basically freeze the telescope diameter at 35 cm\n",
    "# and then see what the effective of changing the optical efficiency is. Do this here\n",
    "# for the \"low\" zodiacal light case for the td2_band.\n",
    "\n",
    "diameter = 35*ur.cm\n",
    "effArea = []\n",
    "psf_req = []\n",
    "for eff in np.arange(10)/20.:\n",
    "    efficiency = (0.9 - eff)\n",
    "    area = efficiency*np.pi * (0.5*diameter)**2\n",
    "    psf_array = (15 - np.arange(15))\n",
    "    psf_array = np.append(psf_array, 0.01)\n",
    "    found = False\n",
    "    last_psf = 15\n",
    "    for psf in psf_array:\n",
    "\n",
    "        psf_size = psf*ur.arcsec\n",
    "        \n",
    "        snr = compute_snr(td2_band,22*ur.ABmag, low_zodi=True,diameter=diameter,\n",
    "                          efficiency = efficiency, qe = qe, psf_size = psf_size)\n",
    "        \n",
    "        if (snr <= 10.):\n",
    "            last_psf = psf\n",
    "            continue\n",
    "        else:\n",
    "            found = True\n",
    "            break\n",
    "            \n",
    "    if found:\n",
    "        psf_req.append(last_psf)\n",
    "        print(efficiency, area, last_psf, snr)\n",
    "\n",
    "    else:\n",
    "        print('Not found...')\n",
    "        psf_req.append(0.)\n",
    "        print(efficiency, area, 0., snr)\n",
    "\n",
    "    effArea.append(area.value)\n",
    " \n",
    "    \n",
    "\n"
   ]
  },
  {
   "cell_type": "code",
   "execution_count": 4,
   "metadata": {
    "collapsed": false
   },
   "outputs": [
    {
     "data": {
      "image/png": "[encoded data removed]",
      "text/plain": [
       "<matplotlib.figure.Figure at 0x1195f59b0>"
      ]
     },
     "metadata": {},
     "output_type": "display_data"
    }
   ],
   "source": [
    "\n",
    "plt.scatter(effArea, psf_req)\n",
    "plt.title('Effective Area vs PSF to get to 22 Mag for TD2')\n",
    "plt.ylabel('PSF Requied (arcsec)')\n",
    "plt.xlabel('Effective Area (cm2)')\n",
    "plt.show()\n",
    "\n"
   ]
  },
  {
   "cell_type": "code",
   "execution_count": 5,
   "metadata": {
    "collapsed": false
   },
   "outputs": [
    {
     "name": "stdout",
     "output_type": "stream",
     "text": [
      "0.9 865.9014751456867 cm2 15 10.707175090175102\n",
      "0.85 817.795837637593 cm2 15 10.2506840688817\n",
      "0.8 769.6902001294993 cm2 13.0 10.068299997411755\n",
      "0.75 721.5845626214056 cm2 5.0 10.027053891829345\n",
      "Not found...\n",
      "0.7 673.4789251133119 cm2 0.0 9.524967516487997\n",
      "Not found...\n",
      "0.65 625.3732876052181 cm2 0.0 8.94849413727628\n",
      "Not found...\n",
      "0.6 577.2676500971246 cm2 0.0 8.359499109899462\n",
      "Not found...\n",
      "0.55 529.1620125890308 cm2 0.0 7.7573128630782495\n",
      "Not found...\n",
      "0.5 481.0563750809371 cm2 0.0 7.141210467928171\n",
      "Not found...\n",
      "0.45 432.95073757284337 cm2 0.0 6.510405429717152\n"
     ]
    }
   ],
   "source": [
    "# Loop over \"effective area\" where we basically freeze the telescope diameter at 35 cm\n",
    "# and then see what the effective of changing the optical efficiency is. Do this here\n",
    "# for the \"low\" zodiacal light case for the td2_band.\n",
    "\n",
    "diameter = 35*ur.cm\n",
    "effArea = []\n",
    "psf_req = []\n",
    "for eff in np.arange(10)/20.:\n",
    "    efficiency = (0.9 - eff)\n",
    "    area = efficiency*np.pi * (0.5*diameter)**2\n",
    "    psf_array = (15 - np.arange(15))\n",
    "    psf_array = np.append(psf_array, 0.01)\n",
    "    found = False\n",
    "    last_psf = 15\n",
    "    for psf in psf_array:\n",
    "\n",
    "        psf_size = psf*ur.arcsec\n",
    "        \n",
    "        snr = compute_snr(td1_band,22*ur.ABmag, low_zodi=True,diameter=diameter,\n",
    "                          efficiency = efficiency, qe = qe, psf_size = psf_size)\n",
    "        \n",
    "        if (snr <= 10.):\n",
    "            last_psf = psf\n",
    "            continue\n",
    "        else:\n",
    "            found = True\n",
    "            break\n",
    "            \n",
    "    if found:\n",
    "        psf_req.append(last_psf)\n",
    "        print(efficiency, area, last_psf, snr)\n",
    "\n",
    "    else:\n",
    "        print('Not found...')\n",
    "        psf_req.append(0.)\n",
    "        print(efficiency, area, 0., snr)\n",
    "\n",
    "    effArea.append(area.value)\n",
    " \n",
    "    \n",
    "\n"
   ]
  },
  {
   "cell_type": "code",
   "execution_count": null,
   "metadata": {
    "collapsed": true
   },
   "outputs": [],
   "source": [
    "\n",
    "plt.scatter(effArea, psf_req)\n",
    "plt.title('Effective Area vs PSF to get to 22 Mag for TD2')\n",
    "plt.ylabel('PSF Requied (arcsec)')\n",
    "plt.xlabel('Effective Area (cm2)')\n",
    "plt.show()"
   ]
  }
 ],
 "metadata": {
  "anaconda-cloud": {},
  "kernelspec": {
   "display_name": "Python [default]",
   "language": "python",
   "name": "python3"
  },
  "language_info": {
   "codemirror_mode": {
    "name": "ipython",
    "version": 3
   },
   "file_extension": ".py",
   "mimetype": "text/x-python",
   "name": "python",
   "nbconvert_exporter": "python",
   "pygments_lexer": "ipython3",
   "version": "3.5.1"
  }
 },
 "nbformat": 4,
 "nbformat_minor": 2
}
