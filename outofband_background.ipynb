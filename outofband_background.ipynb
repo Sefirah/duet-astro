{
 "cells": [
  {
   "cell_type": "code",
   "execution_count": 11,
   "metadata": {
    "collapsed": true
   },
   "outputs": [],
   "source": [
    "import numpy as np\n",
    "import matplotlib.pyplot as plt\n",
    "from astropy import units as ur\n",
    "from zodi import load_zodi\n",
    "%matplotlib notebook"
   ]
  },
  {
   "cell_type": "code",
   "execution_count": 12,
   "metadata": {
    "collapsed": true
   },
   "outputs": [],
   "source": [
    "# Load zodiacal spectrum at low, med and high intensity (doesn't actually matter in this case since it's just ratios)\n",
    "zodi_low = load_zodi(scale=72)\n",
    "zodi_med = load_zodi(scale=300)\n",
    "zodi_hi = load_zodi(scale=1000)"
   ]
  },
  {
   "cell_type": "code",
   "execution_count": 13,
   "metadata": {
    "collapsed": true
   },
   "outputs": [],
   "source": [
    "# Specify in-band filter throughput TD1 as a function of wavelenght in A (for now a block function)\n",
    "# Input ratio of in-band to out-of-band background\n",
    "# Return necessary out-of-band quantum efficiency\n",
    "def td_one(zodi,ratio):\n",
    "    qe_in = 0.8\n",
    "    wav = np.array(zodi['wavelength'])\n",
    "    flux_in = np.sum(zodi['flux'][(wav >= 1800) & (wav <= 2200)] * qe_in)\n",
    "    flux_out_raw = np.sum(zodi['flux'][(wav < 1800) | (wav > 2200) & (wav < 9000)])\n",
    "    return flux_in/(ratio*flux_out_raw)"
   ]
  },
  {
   "cell_type": "code",
   "execution_count": 14,
   "metadata": {
    "collapsed": false
   },
   "outputs": [
    {
     "name": "stdout",
     "output_type": "stream",
     "text": [
      "For a in-band to out-of-band background ratio of 0.1, out-of-band QE needs to be 0.00191089271416\n",
      "\n",
      "For a in-band to out-of-band background ratio of 0.5, out-of-band QE needs to be 0.000382178542832\n",
      "\n",
      "For a in-band to out-of-band background ratio of 1, out-of-band QE needs to be 0.000191089271416\n"
     ]
    }
   ],
   "source": [
    "print 'For a in-band to out-of-band background ratio of 0.1, out-of-band QE needs to be', td_one(zodi_low,0.1)\n",
    "print ''\n",
    "print 'For a in-band to out-of-band background ratio of 0.5, out-of-band QE needs to be', td_one(zodi_low,0.5)\n",
    "print ''\n",
    "print 'For a in-band to out-of-band background ratio of 1, out-of-band QE needs to be', td_one(zodi_low,1)"
   ]
  },
  {
   "cell_type": "code",
   "execution_count": 15,
   "metadata": {
    "collapsed": true
   },
   "outputs": [],
   "source": [
    "# Same but for TD2\n",
    "def td_two(zodi,ratio):\n",
    "    qe_in = 0.8\n",
    "    wav = np.array(zodi['wavelength'])\n",
    "    flux_in = np.sum(zodi['flux'][(wav >= 2600) & (wav <= 3000)] * qe_in)\n",
    "    flux_out_raw = np.sum(zodi['flux'][(wav < 2600) | (wav > 3000) & (wav < 9000)])\n",
    "    return flux_in/(ratio*flux_out_raw)"
   ]
  },
  {
   "cell_type": "code",
   "execution_count": 16,
   "metadata": {
    "collapsed": false
   },
   "outputs": [
    {
     "name": "stdout",
     "output_type": "stream",
     "text": [
      "For a in-band to out-of-band background ratio of 0.1, out-of-band QE needs to be 0.0554896981581\n",
      "\n",
      "For a in-band to out-of-band background ratio of 0.5, out-of-band QE needs to be 0.0110979396316\n",
      "\n",
      "For a in-band to out-of-band background ratio of 1, out-of-band QE needs to be 0.00554896981581\n"
     ]
    }
   ],
   "source": [
    "print 'For a in-band to out-of-band background ratio of 0.1, out-of-band QE needs to be', td_two(zodi_low,0.1)\n",
    "print ''\n",
    "print 'For a in-band to out-of-band background ratio of 0.5, out-of-band QE needs to be', td_two(zodi_low,0.5)\n",
    "print ''\n",
    "print 'For a in-band to out-of-band background ratio of 1, out-of-band QE needs to be', td_two(zodi_low,1)"
   ]
  },
  {
   "cell_type": "code",
   "execution_count": 17,
   "metadata": {
    "collapsed": true
   },
   "outputs": [],
   "source": [
    "# Same but for TD3\n",
    "def td_three(zodi,ratio):\n",
    "    qe_in = 0.8\n",
    "    wav = np.array(zodi['wavelength'])\n",
    "    flux_in = np.sum(zodi['flux'][(wav >= 3400) & (wav <= 3800)] * qe_in)\n",
    "    flux_out_raw = np.sum(zodi['flux'][(wav < 3400) | (wav > 3800) & (wav < 9000)])\n",
    "    return flux_in/(ratio*flux_out_raw)"
   ]
  },
  {
   "cell_type": "code",
   "execution_count": 18,
   "metadata": {
    "collapsed": false
   },
   "outputs": [
    {
     "name": "stdout",
     "output_type": "stream",
     "text": [
      "For a in-band to out-of-band background ratio of 0.1, out-of-band QE needs to be 0.246644156388\n",
      "\n",
      "For a in-band to out-of-band background ratio of 0.5, out-of-band QE needs to be 0.0493288312776\n",
      "\n",
      "For a in-band to out-of-band background ratio of 1, out-of-band QE needs to be 0.0246644156388\n"
     ]
    }
   ],
   "source": [
    "print 'For a in-band to out-of-band background ratio of 0.1, out-of-band QE needs to be', td_three(zodi_low,0.1)\n",
    "print ''\n",
    "print 'For a in-band to out-of-band background ratio of 0.5, out-of-band QE needs to be', td_three(zodi_low,0.5)\n",
    "print ''\n",
    "print 'For a in-band to out-of-band background ratio of 1, out-of-band QE needs to be', td_three(zodi_low,1)"
   ]
  },
  {
   "cell_type": "code",
   "execution_count": null,
   "metadata": {
    "collapsed": true
   },
   "outputs": [],
   "source": []
  },
  {
   "cell_type": "code",
   "execution_count": null,
   "metadata": {
    "collapsed": true
   },
   "outputs": [],
   "source": []
  }
 ],
 "metadata": {
  "kernelspec": {
   "display_name": "Python [conda env:py27]",
   "language": "python",
   "name": "conda-env-py27-py"
  },
  "language_info": {
   "codemirror_mode": {
    "name": "ipython",
    "version": 2
   },
   "file_extension": ".py",
   "mimetype": "text/x-python",
   "name": "python",
   "nbconvert_exporter": "python",
   "pygments_lexer": "ipython2",
   "version": "2.7.12"
  }
 },
 "nbformat": 4,
 "nbformat_minor": 2
}
