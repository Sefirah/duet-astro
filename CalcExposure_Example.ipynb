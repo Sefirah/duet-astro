{
 "cells": [
  {
   "cell_type": "code",
   "execution_count": 1,
   "metadata": {
    "collapsed": false
   },
   "outputs": [],
   "source": [
    "import astropy.units as u\n",
    "from tdsat_telescope import load_telescope_parameters\n",
    "from tdsat_sensitivity import src_rate, bgd_sky_rate, outofband_bgd_sky_rate, bgd_electronics, calc_exposure\n",
    "from tdsat_neff import get_neff\n"
   ]
  },
  {
   "cell_type": "code",
   "execution_count": 4,
   "metadata": {
    "collapsed": false
   },
   "outputs": [
    {
     "name": "stdout",
     "output_type": "stream",
     "text": [
      "\n",
      "Telescope Configuration 5\n",
      "Entrance Pupil diameter 33.0 cm\n",
      "Optical Effifiency 0.8824609733700643\n",
      "PSF FWHM 9.288 arcsec\n",
      "Pixel size 4.3 arcsec\n",
      "Effective Aperture 31.0 cm\n",
      "Effective Area 754.7676350249478 cm2\n",
      "378.2520224204891 s\n",
      "\n"
     ]
    }
   ],
   "source": [
    "siglimit = 10. # sigma\n",
    "read_noise = 7. # Read noise\n",
    "AB = 22*u.ABmag\n",
    "\n",
    "config=5\n",
    "print()\n",
    "diameter, qe, psf_size, pixel_size, efficiency = load_telescope_parameters(config, diag=True)\n",
    "qe=0.6\n",
    "neff = get_neff(psf_size, pixel_size)\n",
    "\n",
    "bgd_ph_rate, bgd_elec_rate = bgd_sky_rate(diag=False, diameter=diameter,\n",
    "                                        efficiency=efficiency, qe = qe, pixel_size=pixel_size)\n",
    "\n",
    "# Here need to set pixel area\n",
    "out_of_band_ph_rate, out_of_band_bgd_elec_rate = outofband_bgd_sky_rate(diag=False, diameter=diameter,\n",
    "                                                efficiency=efficiency, qe = qe, pixel_size=pixel_size)\n",
    "\n",
    "outofband_qe = 1e-4\n",
    "bgd_rate = efficiency*(qe*bgd_ph_rate + outofband_qe*out_of_band_ph_rate)\n",
    "\n",
    "\n",
    "\n",
    "\n",
    "\n",
    "src_ph_rate, src_elec_rate = src_rate(diag=False,ABmag=AB,\n",
    "                                      diameter=diameter,\n",
    "                                      efficiency=efficiency,\n",
    "                                      qe = qe)\n",
    "\n",
    "\n",
    "src_cps = src_ph_rate * efficiency * qe\n",
    "exposure = calc_exposure(10., src_cps, bgd_rate,read_noise, neff)\n",
    "print(exposure)\n",
    "print()"
   ]
  },
  {
   "cell_type": "code",
   "execution_count": null,
   "metadata": {
    "collapsed": true
   },
   "outputs": [],
   "source": []
  }
 ],
 "metadata": {
  "anaconda-cloud": {},
  "kernelspec": {
   "display_name": "Python [conda env:nickenv]",
   "language": "python",
   "name": "conda-env-nickenv-py"
  },
  "language_info": {
   "codemirror_mode": {
    "name": "ipython",
    "version": 3
   },
   "file_extension": ".py",
   "mimetype": "text/x-python",
   "name": "python",
   "nbconvert_exporter": "python",
   "pygments_lexer": "ipython3",
   "version": "3.7.2"
  }
 },
 "nbformat": 4,
 "nbformat_minor": 2
}
