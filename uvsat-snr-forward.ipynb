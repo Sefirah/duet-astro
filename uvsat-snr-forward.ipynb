{
 "cells": [
  {
   "cell_type": "code",
   "execution_count": 1,
   "metadata": {
    "collapsed": false
   },
   "outputs": [],
   "source": [
    "import numpy as np\n",
    "import astropy\n",
    "import astropy.units as ur\n",
    "import astropy.constants as cr\n",
    "%matplotlib inline\n",
    "from tdsat_rates import src_rate, bgd_rate, find_limit, compute_snr\n",
    "\n"
   ]
  },
  {
   "cell_type": "code",
   "execution_count": 2,
   "metadata": {
    "collapsed": false
   },
   "outputs": [
    {
     "name": "stdout",
     "output_type": "stream",
     "text": [
      "Background Computation Integrating over Pixel Area\n"
     ]
    },
    {
     "ename": "NameError",
     "evalue": "name 'F_λ' is not defined",
     "output_type": "error",
     "traceback": [
      "\u001b[0;31m---------------------------------------------------------------------------\u001b[0m",
      "\u001b[0;31mNameError\u001b[0m                                 Traceback (most recent call last)",
      "\u001b[0;32m<ipython-input-2-282cc3b66f4d>\u001b[0m in \u001b[0;36m<module>\u001b[0;34m()\u001b[0m\n\u001b[1;32m      3\u001b[0m \u001b[0mABmag\u001b[0m \u001b[0;34m=\u001b[0m \u001b[0;36m23\u001b[0m\u001b[0;34m*\u001b[0m\u001b[0mur\u001b[0m\u001b[0;34m.\u001b[0m\u001b[0mABmag\u001b[0m\u001b[0;34m\u001b[0m\u001b[0m\n\u001b[1;32m      4\u001b[0m \u001b[0;34m\u001b[0m\u001b[0m\n\u001b[0;32m----> 5\u001b[0;31m \u001b[0mfind_limit\u001b[0m\u001b[0;34m(\u001b[0m\u001b[0mtd1_band\u001b[0m\u001b[0;34m,\u001b[0m \u001b[0mdiag\u001b[0m\u001b[0;34m=\u001b[0m\u001b[0;32mTrue\u001b[0m\u001b[0;34m)\u001b[0m\u001b[0;34m\u001b[0m\u001b[0m\n\u001b[0m",
      "\u001b[0;32m/Users/bwgref/science/local/git/tdsat/tdsat_rates.py\u001b[0m in \u001b[0;36mfind_limit\u001b[0;34m(band, **kwargs)\u001b[0m\n\u001b[1;32m    174\u001b[0m \u001b[0;31m#     nbgd_ph, nbgd_elec = bgd_rate(band=band, diag=False,diameter = diameter,\u001b[0m\u001b[0;34m\u001b[0m\u001b[0;34m\u001b[0m\u001b[0m\n\u001b[1;32m    175\u001b[0m \u001b[0;31m#         pixel_size = pixel_size, **kwargs)\u001b[0m\u001b[0;34m\u001b[0m\u001b[0;34m\u001b[0m\u001b[0m\n\u001b[0;32m--> 176\u001b[0;31m     \u001b[0mnbgd_ph\u001b[0m\u001b[0;34m,\u001b[0m \u001b[0mnbgd_elec\u001b[0m \u001b[0;34m=\u001b[0m \u001b[0mbgd_rate\u001b[0m\u001b[0;34m(\u001b[0m\u001b[0mpixel_size\u001b[0m \u001b[0;34m=\u001b[0m \u001b[0mpixel_size\u001b[0m\u001b[0;34m,\u001b[0m \u001b[0;34m**\u001b[0m\u001b[0mkwargs\u001b[0m\u001b[0;34m)\u001b[0m\u001b[0;34m\u001b[0m\u001b[0m\n\u001b[0m\u001b[1;32m    177\u001b[0m \u001b[0;34m\u001b[0m\u001b[0m\n\u001b[1;32m    178\u001b[0m     \u001b[0;32mreturn\u001b[0m\u001b[0;34m\u001b[0m\u001b[0m\n",
      "\u001b[0;32m/Users/bwgref/science/local/git/tdsat/tdsat_rates.py\u001b[0m in \u001b[0;36mbgd_rate\u001b[0;34m(**kwargs)\u001b[0m\n\u001b[1;32m    141\u001b[0m     \u001b[0;32mif\u001b[0m \u001b[0mdiag\u001b[0m\u001b[0;34m:\u001b[0m\u001b[0;34m\u001b[0m\u001b[0m\n\u001b[1;32m    142\u001b[0m         \u001b[0mprint\u001b[0m\u001b[0;34m(\u001b[0m\u001b[0;34m'Background Computation Integrating over Pixel Area'\u001b[0m\u001b[0;34m)\u001b[0m\u001b[0;34m\u001b[0m\u001b[0m\n\u001b[0;32m--> 143\u001b[0;31m         \u001b[0mprint\u001b[0m\u001b[0;34m(\u001b[0m\u001b[0;34m'Fλ total per arcsec2 {}'\u001b[0m\u001b[0;34m.\u001b[0m\u001b[0mformat\u001b[0m\u001b[0;34m(\u001b[0m\u001b[0mF_λ\u001b[0m\u001b[0;34m)\u001b[0m\u001b[0;34m)\u001b[0m\u001b[0;34m\u001b[0m\u001b[0m\n\u001b[0m\u001b[1;32m    144\u001b[0m         \u001b[0mprint\u001b[0m\u001b[0;34m(\u001b[0m\u001b[0;34m'Fλ ABmag per arcsec2 {}'\u001b[0m\u001b[0;34m.\u001b[0m\u001b[0mformat\u001b[0m\u001b[0;34m(\u001b[0m\u001b[0;34m(\u001b[0m\u001b[0mF_λ\u001b[0m\u001b[0;34m*\u001b[0m\u001b[0mscale_factor\u001b[0m\u001b[0;34m*\u001b[0m\u001b[0mpixel_area\u001b[0m\u001b[0;34m)\u001b[0m\u001b[0;34m.\u001b[0m\u001b[0mto\u001b[0m\u001b[0;34m(\u001b[0m\u001b[0mur\u001b[0m\u001b[0;34m.\u001b[0m\u001b[0mABmag\u001b[0m\u001b[0;34m,\u001b[0m \u001b[0mequivalencies\u001b[0m\u001b[0;34m=\u001b[0m\u001b[0mur\u001b[0m\u001b[0;34m.\u001b[0m\u001b[0mspectral_density\u001b[0m\u001b[0;34m(\u001b[0m\u001b[0mλ_mid\u001b[0m\u001b[0;34m)\u001b[0m\u001b[0;34m)\u001b[0m\u001b[0;34m)\u001b[0m\u001b[0;34m)\u001b[0m\u001b[0;34m\u001b[0m\u001b[0m\n\u001b[1;32m    145\u001b[0m         \u001b[0mprint\u001b[0m\u001b[0;34m(\u001b[0m\u001b[0;34m'Bandpass: {}'\u001b[0m\u001b[0;34m.\u001b[0m\u001b[0mformat\u001b[0m\u001b[0;34m(\u001b[0m\u001b[0mλ_bandpass\u001b[0m\u001b[0;34m)\u001b[0m\u001b[0;34m)\u001b[0m\u001b[0;34m\u001b[0m\u001b[0m\n",
      "\u001b[0;31mNameError\u001b[0m: name 'F_λ' is not defined"
     ]
    }
   ],
   "source": [
    "\n",
    "td1_band = [180, 220]*ur.nm\n",
    "ABmag = 23*ur.ABmag\n",
    "\n",
    "find_limit(td1_band, diag=True)"
   ]
  },
  {
   "cell_type": "code",
   "execution_count": null,
   "metadata": {
    "collapsed": true
   },
   "outputs": [],
   "source": [
    "def find_limit(band,\n",
    "               **kwargs):\n",
    "\n",
    "    from astropy import units as ur\n",
    "    \n",
    "        \n",
    "    exposure = kwargs.pop('exposure', 300*ur.s)\n",
    "    psf_size = kwargs.pop('psf_size', 10*ur.arcsec)\n",
    "    snr_limit = kwargs.pop('snr_limit', 5.0)\n",
    "    diameter = kwargs.pop('diameter', 21*ur.cm)\n",
    "    diag = kwargs.pop('diag', True)\n",
    "    aperture_size_pixels = kwargs.pop('aperture_size_pixels', 25.)\n",
    "    efficiency = kwargs.pop('efficiency', 0.87)\n",
    "    qe = kwargs.pop('det_qe', 0.8)\n",
    "\n",
    "    pixel_size = psf_size*0.5\n",
    "\n",
    "    # Returns rates per pixel:\n",
    "    nbgd_ph, nbgd_elec = bgd_rate(band=band, diag=False,diameter = diameter, pixel_size = pixel_size, **kwargs)\n",
    "\n",
    "    # Below is now background electrons in the PSF\n",
    "    bgd = nbgd_elec * aperture_size_pixels * efficiency * qe * exposure\n",
    "    \n",
    "    for dmag in np.arange(1000):\n",
    "        magtest = (15. + dmag * 0.1) * ur.ABmag\n",
    "        src_ph, src_elec = src_rate(ABmag=magtest, diag=False,diameter=diameter,band=band, **kwargs)\n",
    "        \n",
    "        # Turn this in to electrons per second:\n",
    "        src = exposure * src_elec * efficiency * qe\n",
    "\n",
    "        σ = np.sqrt(src + bgd)\n",
    "        SNR = src / σ\n",
    "\n",
    "        if SNR < snr_limit:\n",
    "\n",
    "            if diag:\n",
    "                print()\n",
    "                print('Inputs: ')\n",
    "                print('Exposure {}'.format(exposure))\n",
    "                print('Optics Diameter: {}'.format(diameter))\n",
    "                print('PSF Size: {}'.format(psf_size))\n",
    "                print()\n",
    "                print('Outputs:')\n",
    "                print('Source Counts: {}'.format(src))\n",
    "                print('Background Counts: {}'.format(bgd))\n",
    "                print('Magnitude limit: {}'.format(magtest))\n",
    "                print('Signal to noise ratio: {}'.format(SNR))\n",
    "                print()\n",
    "            break\n",
    "    return magtest\n"
   ]
  },
  {
   "cell_type": "code",
   "execution_count": null,
   "metadata": {
    "collapsed": true
   },
   "outputs": [],
   "source": [
    "def compute_snr(band, ABmag, **kwargs):\n",
    "    \"\"\"\n",
    "    \n",
    "    \n",
    "    \"\"\"\n",
    "    import astropy.units as ur\n",
    "    exposure = kwargs.pop('exposure', 300*ur.s)\n",
    "    psf_size = kwargs.pop('psf_size', 10*ur.arcsec)\n",
    "    snr_limit = kwargs.pop('snr_limit', 5.0)\n",
    "    diameter = kwargs.pop('diameter', 30*ur.cm)\n",
    "    diag = kwargs.pop('diag', False)\n",
    "    aperture_size_pixels = kwargs.pop('aperture_size_pixels', 25.)\n",
    "    efficiency = kwargs.pop('efficiency', 0.87)\n",
    "    qe = kwargs.pop('det_qe', 0.8)\n",
    "\n",
    "    qe = kwargs.pop('det_qe', 0.8)\n",
    "\n",
    "    pixel_size = psf_size*0.5\n",
    "\n",
    "    # Returns rates per pixel:\n",
    "    nbgd_ph, nbgd_elec = bgd_rate(band=band, diag=False,diameter = diameter, pixel_size = pixel_size, **kwargs)\n",
    "\n",
    "    # Below is now background electrons in the PSF\n",
    "    bgd = nbgd_elec * aperture_size_pixels * efficiency * qe * exposure\n",
    "    \n",
    "    src_ph, src_elec = src_rate(ABmag=ABmag, diag=False,diameter=diameter,band=band, **kwargs)\n",
    "    # Turn this in to electrons per second:\n",
    "    src = exposure * src_elec * efficiency * qe\n",
    "\n",
    "    σ = np.sqrt(src + bgd)\n",
    "    SNR = src / σ\n",
    "\n",
    "    if diag:\n",
    "    \n",
    "        print()\n",
    "        print('Exposure {}:'.format(exposure))\n",
    "        print('Magnitude test: {}'.format(ABmag))\n",
    "        print('Optical Efficiency: {}'.format(efficiency))\n",
    "        print('Source Counts: {}'.format(src))\n",
    "        print('Background Counts: {}'.format(bgd))\n",
    "        print('Signal to noise ratio: {}'.format(SNR))\n",
    "\n",
    "    return SNR\n",
    "\n"
   ]
  },
  {
   "cell_type": "code",
   "execution_count": null,
   "metadata": {
    "collapsed": false
   },
   "outputs": [],
   "source": [
    "# High Zodiacal background\n",
    "fuv_band = [180, 220]*ur.nm\n",
    "psf_size = 10*ur.arcsec\n",
    "diameter=21*ur.cm\n",
    "exposure=300*ur.s\n",
    "maglimit = find_limit(fuv_band, snr_limit=10., exposure=exposure, diameter=diameter,\n",
    "                      psf_size = psf_size, aperture_size_pixels=25, diag=True, high_zodi=True)\n",
    "print(fuv_band, maglimit)\n",
    "print()\n",
    "\n",
    "nuv_band = [260, 300]*ur.nm\n",
    "maglimit = find_limit(nuv_band, snr_limit=10., exposure=exposure,\n",
    "                      psf_size = psf_size, aperture_size_pixels=25, diag=True, high_zodi=True)\n",
    "print(nuv_band, maglimit)\n",
    "print()\n",
    "\n",
    "\n",
    "u_band = [340, 380]*ur.nm\n",
    "maglimit = find_limit(u_band, snr_limit=10., exposure=exposure, \n",
    "                      psf_size = psf_size, aperture_size_pixels=25, diag=True, high_zodi=True)\n",
    "print(u_band, maglimit)\n",
    "\n",
    "\n",
    "\n"
   ]
  },
  {
   "cell_type": "code",
   "execution_count": null,
   "metadata": {
    "collapsed": false
   },
   "outputs": [],
   "source": [
    "# NEP backgrounds:\n",
    "# How deep do you get 10% photometry for?\n",
    "\n",
    "fuv_band = [180, 220]*ur.nm\n",
    "psf_size = 10*ur.arcsec\n",
    "diameter=24*ur.cm\n",
    "exposure=300*ur.s\n",
    "maglimit = find_limit(fuv_band, snr_limit=10., exposure=exposure, diameter=diameter,\n",
    "                      psf_size = psf_size, aperture_size_pixels=25, diag=True, high_zodi=False)\n",
    "print(fuv_band, maglimit)\n",
    "print()\n",
    "\n",
    "nuv_band = [260, 300]*ur.nm\n",
    "maglimit = find_limit(nuv_band, snr_limit=10., exposure=exposure,\n",
    "                      psf_size = psf_size, aperture_size_pixels=25, diag=True, high_zodi=False)\n",
    "print(nuv_band, maglimit)\n",
    "print()\n",
    "\n",
    "\n",
    "u_band = [340, 380]*ur.nm\n",
    "maglimit = find_limit(u_band, snr_limit=10., exposure=exposure, \n",
    "                      psf_size = psf_size, aperture_size_pixels=25, diag=True, high_zodi=False)\n",
    "print(u_band, maglimit)\n",
    "\n",
    "\n"
   ]
  },
  {
   "cell_type": "code",
   "execution_count": null,
   "metadata": {
    "collapsed": false
   },
   "outputs": [],
   "source": [
    "# Test here to see what varying the PSF does\n",
    "# keeping the AB mags fixed with a 300-second exposure.\n",
    "\n",
    "\n",
    "fuv_band = [180, 220]*ur.nm\n",
    "nuv_band = [260, 300]*ur.nm\n",
    "u_band = [340, 380]*ur.nm\n",
    "diameter=24*ur.cm\n",
    "exposure=900*ur.s\n",
    "ABmag=22*ur.ABmag\n",
    "efficiency=0.8\n",
    "aperture_size_pixels=25.\n",
    "\n",
    "psf_size = [0.1, 1, 5, 10, 12.5, 15, 20, 25]\n",
    "for psf in psf_size:\n",
    "    thispsf = psf*ur.arcsec\n",
    "    print(thispsf)\n",
    "    fuv_snr = compute_snr(fuv_band, ABmag, exposure=exposure,\n",
    "                          psf_size=thispsf,efficiency = efficiency, aperture_size_pixels=aperture_size_pixels)\n",
    "    nuv_snr = compute_snr(nuv_band, ABmag, exposure = exposure,\n",
    "                         psf_size=thispsf, efficiency = efficiency, aperture_size_pixels=aperture_size_pixels)\n",
    "    u_snr = compute_snr(u_band, ABmag, exposure=exposure,\n",
    "                       psf_size=thispsf, efficiency = efficiency, aperture_size_pixels=aperture_size_pixels)\n",
    "\n",
    "    print(fuv_snr, nuv_snr, u_snr)\n",
    "    print()"
   ]
  },
  {
   "cell_type": "code",
   "execution_count": null,
   "metadata": {
    "collapsed": true
   },
   "outputs": [],
   "source": [
    "# Test here to see what varying the exposure time does:\n",
    "\n",
    "fuv_band = [180, 220]*ur.nm\n",
    "nuv_band = [260, 300]*ur.nm\n",
    "u_band = [340, 380]*ur.nm\n",
    "snr_limit = 5.\n",
    "psf_size = 10*ur.arcsec\n",
    "diameter=24*ur.cm\n",
    "\n",
    "fuv_limit = []\n",
    "nuv_limit = []\n",
    "u_limit = []\n",
    "exposure = (10**(np.arange(50)/12.5)+1)*ur.s\n",
    "for exp in exposure:\n",
    "    maglimit = find_limit(fuv_band, snr_limit=snr_limit, exposure=exp, diameter=diameter,\n",
    "                      psf_size = psf_size, aperture_size_pixels=9, diag=False)\n",
    "    fuv_limit.append(maglimit.value)\n",
    "    maglimit = find_limit(nuv_band, snr_limit=snr_limit, exposure=exp, diameter=diameter,\n",
    "                      psf_size = psf_size, aperture_size_pixels=9, diag=False)\n",
    "    nuv_limit.append(maglimit.value)\n",
    "\n",
    "    maglimit = find_limit(u_band, snr_limit=snr_limit, exposure=exp, diameter=diameter,\n",
    "                      psf_size = psf_size, aperture_size_pixels=9, diag=False)\n",
    "    u_limit.append(maglimit.value)\n",
    "\n",
    "\n",
    "    \n",
    "\n",
    "\n"
   ]
  },
  {
   "cell_type": "code",
   "execution_count": null,
   "metadata": {
    "collapsed": false
   },
   "outputs": [],
   "source": [
    "plt.scatter(exposure.value, fuv_limit, label='TD1')\n",
    "plt.scatter(exposure.value, nuv_limit, label = 'TD2')\n",
    "plt.scatter(exposure.value, u_limit, label= 'TD3')\n",
    "\n",
    "plt.title('Diameter {} cm, PSF {} arcsec FWHM'.format(diameter, psf_size))\n",
    "plt.xscale('log')\n",
    "plt.xlabel('Exposure (sec)')\n",
    "plt.ylabel('Magnitude at {:2.0f}-σ'.format(snr_limit))\n",
    "plt.ylim([26, 16])\n",
    "plt.legend()\n",
    "plt.show()\n",
    "\n"
   ]
  },
  {
   "cell_type": "code",
   "execution_count": null,
   "metadata": {
    "collapsed": true
   },
   "outputs": [],
   "source": []
  }
 ],
 "metadata": {
  "anaconda-cloud": {},
  "kernelspec": {
   "display_name": "Python [default]",
   "language": "python",
   "name": "python3"
  },
  "language_info": {
   "codemirror_mode": {
    "name": "ipython",
    "version": 3
   },
   "file_extension": ".py",
   "mimetype": "text/x-python",
   "name": "python",
   "nbconvert_exporter": "python",
   "pygments_lexer": "ipython3",
   "version": "3.5.1"
  }
 },
 "nbformat": 4,
 "nbformat_minor": 2
}
