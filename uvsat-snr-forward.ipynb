{
 "cells": [
  {
   "cell_type": "code",
   "execution_count": 1,
   "metadata": {
    "collapsed": false
   },
   "outputs": [],
   "source": [
    "import numpy as np\n",
    "import astropy\n",
    "import astropy.units as ur\n",
    "import astropy.constants as cr\n",
    "%matplotlib inline\n",
    "from tdsat_sensitivity import src_rate, bgd_rate, find_limit, compute_snr\n",
    "import matplotlib.pyplot as plt\n"
   ]
  },
  {
   "cell_type": "code",
   "execution_count": 36,
   "metadata": {
    "collapsed": false
   },
   "outputs": [
    {
     "name": "stdout",
     "output_type": "stream",
     "text": [
      "\n",
      "SNR Computation\n",
      "Inputs: \n",
      "Exposure 300.0 s\n",
      "Efficiency 0.9\n",
      "Optics Diameter: 30.0 cm\n",
      "PSF Size: 10.0 arcsec\n",
      "\n",
      "Outputs:\n",
      "Source Counts: 346.4128184082678\n",
      "Background Counts: 1051.2535077215907\n",
      "Magnitude limit: 22.3 mag(AB)\n",
      "Signal to noise ratio: 9.265998019151702\n",
      "\n",
      "22.3 mag(AB)\n"
     ]
    }
   ],
   "source": [
    "td1_band = [180, 220]*ur.nm\n",
    "td2_band = [260, 300]*ur.nm\n",
    "td3_band = [340, 380]*ur.nm\n",
    "\n",
    "snr_limit = 10\n",
    "exposure = 300*ur.s\n",
    "diameter=30*ur.cm\n",
    "psf_size = 10*ur.arcsec\n",
    "efficiency = 0.9\n",
    "Area_Tel = np.pi*(0.5*diameter)**2\n",
    "\n",
    "qe = 0.8\n",
    "\n",
    "# For the ABmag where you hit a 10-sigma detection\n",
    "maglimit = find_limit(td1_band,snr_limit,snr_diag=True,bgd_diag=False, \n",
    "                      high_zodi=True, diameter=diameter, exposure=exposure,\n",
    "                      psf_size=psf_size, efficiency=efficiency, qe = qe)\n",
    "print(maglimit)\n",
    "\n",
    "\n",
    "# Now get the SNR for a ABmag 22 source:\n",
    "# snr = compute_snr(td2_band,22*ur.ABmag,\n",
    "#                   high_zodi=False,diameter=diameter,\n",
    "#                   efficiency = efficiency,exposure=exposure,\n",
    "#                   qe = qe, psf_size = psf_size, diag=False)\n"
   ]
  },
  {
   "cell_type": "code",
   "execution_count": 28,
   "metadata": {
    "collapsed": false
   },
   "outputs": [
    {
     "name": "stdout",
     "output_type": "stream",
     "text": [
      "15.0 arcsec 1.0363559161788733\n",
      "0.9 865.9014751456867 cm2 0 1.0363559161788733\n",
      "15.0 arcsec 1.0071569155295566\n",
      "0.85 817.795837637593 cm2 0 1.0071569155295566\n",
      "15.0 arcsec 0.9770857280705046\n",
      "0.8 769.6902001294993 cm2 0 0.9770857280705046\n",
      "15.0 arcsec 0.9460591881585034\n",
      "0.75 721.5845626214056 cm2 0 0.9460591881585034\n",
      "15.0 arcsec 0.9139800079865996\n",
      "0.7 673.4789251133119 cm2 0 0.9139800079865996\n",
      "15.0 arcsec 0.8807331732705672\n",
      "0.65 625.3732876052181 cm2 0 0.8807331732705672\n",
      "15.0 arcsec 0.8461810621842711\n",
      "0.6 577.2676500971246 cm2 0 0.8461810621842711\n",
      "15.0 arcsec 0.8101566870052729\n",
      "0.55 529.1620125890308 cm2 0 0.8101566870052729\n",
      "15.0 arcsec 0.7724540924866783\n",
      "0.5 481.0563750809371 cm2 0 0.7724540924866783\n",
      "15.0 arcsec 0.7328142960528786\n",
      "0.45 432.95073757284337 cm2 0 0.7328142960528786\n"
     ]
    }
   ],
   "source": [
    "diameter = 35*ur.cm\n",
    "effArea = []\n",
    "psf_req = []\n",
    "for eff in np.arange(10)/20.:\n",
    "    efficiency = (0.9 - eff)\n",
    "    area = efficiency*np.pi * (0.5*diameter)**2\n",
    "    psf_array = (15 - np.arange(15))\n",
    "    psf_array = np.append(psf_array, 0.01)\n",
    "    found = False\n",
    "    for psf in psf_array:\n",
    "        psf_size = psf*ur.arcsec\n",
    "        \n",
    "        snr = compute_snr(td2_band,22*ur.ABmag, high_zodi=True,diameter=diameter,\n",
    "                          efficiency = efficiency, qe = qe, psf_size = psf_size)\n",
    "        print(psf_size, snr)\n",
    "        if (snr <= 10.) or (np.isnan(snr)):\n",
    "            found = True\n",
    "            break\n",
    "        else:\n",
    "            last_psf = psf\n",
    "        last_psf = psf\n",
    "    if found:\n",
    "        psf_req.append(last_psf)\n",
    "        print(efficiency, area, last_psf, snr)\n",
    "\n",
    "\n",
    "    else:\n",
    "        psf_req.append(0.)\n",
    "        print(efficiency, area, 0., snr)\n",
    "\n",
    "\n",
    "    effArea.append(area.value)\n",
    " \n",
    "    \n",
    "\n"
   ]
  },
  {
   "cell_type": "code",
   "execution_count": 21,
   "metadata": {
    "collapsed": false
   },
   "outputs": [
    {
     "data": {
      "text/latex": [
       "$0.7328143 \\; \\mathrm{}$"
      ],
      "text/plain": [
       "<Quantity 0.7328142960528786>"
      ]
     },
     "execution_count": 21,
     "metadata": {},
     "output_type": "execute_result"
    }
   ],
   "source": []
  },
  {
   "cell_type": "code",
   "execution_count": 8,
   "metadata": {
    "collapsed": false
   },
   "outputs": [
    {
     "data": {
      "image/png": "[encoded data removed]",
      "text/plain": [
       "<matplotlib.figure.Figure at 0x11984f080>"
      ]
     },
     "metadata": {},
     "output_type": "display_data"
    }
   ],
   "source": [
    "# f = plt.figure()\n",
    "\n",
    "plt.scatter(effArea, psf_req)\n",
    "plt.ylabel('PSF Requied (arcsec)')\n",
    "plt.xlabel('Effective Area (cm2)')\n",
    "plt.show()\n",
    "\n"
   ]
  },
  {
   "cell_type": "code",
   "execution_count": null,
   "metadata": {
    "collapsed": false
   },
   "outputs": [],
   "source": [
    "area_val"
   ]
  },
  {
   "cell_type": "code",
   "execution_count": null,
   "metadata": {
    "collapsed": false
   },
   "outputs": [],
   "source": [
    "# Do a PSF scan over TD3 band\n",
    "\n",
    "\n",
    "f = plt.figure()\n",
    "for efficiency in [0.8, 0.7, 0.6, 0.5]:\n",
    "    diameter_array = [40, 38,36,34, 32, 30, 27, 24]\n",
    "    psf_req = []\n",
    "    \n",
    "    \n",
    "    for d in diameter_array:\n",
    "        diameter = d*ur.cm\n",
    "        psf_array = [20, 17, 15, 12, 10, 5, 2, 1]\n",
    "        found = False\n",
    "        for psf in psf_array:\n",
    "            psf_size = psf*ur.arcsec\n",
    "\n",
    "            maglimit = find_limit(td3_band,snr_limit,snr_diag=False,bgd_diag=False, \n",
    "                           medi_zodi=True, diameter=diameter, exposure=exposure,\n",
    "                            psf_size=psf_size, efficiency=efficiency, qe = qe)\n",
    "            if maglimit.value >= 22:\n",
    "                found = True\n",
    "                break\n",
    "        if found:\n",
    "            psf_req.append(psf)\n",
    "        else:\n",
    "            psf_req.append(0.)\n",
    "            \n",
    "        \n",
    "    plt.scatter(diameter_array, psf_req, label = '{} system efficiency'.format(efficiency))\n",
    "\n",
    "    \n",
    "#    plt.plot(diameter_array, psf_req, label = '{} system efficiency'.format(efficiency))\n",
    "\n",
    "plt.title('High Zodiacal Background, 10-σ in 300 s, U-band')\n",
    "plt.xlabel('Pupil Diameter (cm)')\n",
    "plt.ylabel('PSF Size (arsec)')\n",
    "plt.ylim([0, 25])\n",
    "plt.legend(loc='upper left')\n",
    "plt.show()\n",
    "plt.show()\n",
    "f.savefig(\"medium_background_requirements_to22.pdf\", bbox_inches='tight')"
   ]
  },
  {
   "cell_type": "code",
   "execution_count": null,
   "metadata": {
    "collapsed": false
   },
   "outputs": [],
   "source": [
    "# Do a PSF scan over TD2 band\n",
    "\n",
    "\n",
    "f = plt.figure()\n",
    "for efficiency in [0.8, 0.7, 0.6, 0.5]:\n",
    "    diameter_array = [40, 38,36,34, 32, 30, 27, 24]\n",
    "    psf_req = []\n",
    "    \n",
    "    for d in diameter_array:\n",
    "        diameter = d*ur.cm\n",
    "        psf_array = [5, 4, 3, 2, 1]\n",
    "        found = False\n",
    "        for psf in psf_array:\n",
    "            psf_size = psf*ur.arcsec\n",
    "\n",
    "            maglimit = find_limit(td2_band,snr_limit,snr_diag=False,bgd_diag=False, \n",
    "                           high_zodi=True, diameter=diameter, exposure=exposure,\n",
    "                            psf_size=psf_size, efficiency=efficiency, qe = qe)\n",
    "            if maglimit.value >= 22:\n",
    "                found = True\n",
    "                break\n",
    "        if found:\n",
    "            psf_req.append(psf)\n",
    "        else:\n",
    "            psf_req.append(0.)\n",
    "            \n",
    "        \n",
    "    plt.scatter(diameter_array, psf_req, label = '{} system efficiency'.format(efficiency))\n",
    "\n",
    "    \n",
    "#    plt.plot(diameter_array, psf_req, label = '{} system efficiency'.format(efficiency))\n",
    "\n",
    "plt.title('High Zodiacal Background, 10-σ in 300 s, U-band')\n",
    "plt.xlabel('Pupil Diameter (cm)')\n",
    "plt.ylabel('PSF Size (arsec)')\n",
    "plt.ylim([0, 6])\n",
    "plt.legend(loc='upper left')\n",
    "plt.show()\n",
    "plt.show()\n",
    "f.savefig(\"high_background_TD2_requirements_to22.pdf\", bbox_inches='tight')"
   ]
  },
  {
   "cell_type": "code",
   "execution_count": 14,
   "metadata": {
    "collapsed": false
   },
   "outputs": [],
   "source": [
    "x = (10 - np.arange(10))"
   ]
  },
  {
   "cell_type": "code",
   "execution_count": 15,
   "metadata": {
    "collapsed": false
   },
   "outputs": [
    {
     "data": {
      "text/plain": [
       "array([10,  9,  8,  7,  6,  5,  4,  3,  2,  1])"
      ]
     },
     "execution_count": 15,
     "metadata": {},
     "output_type": "execute_result"
    }
   ],
   "source": [
    "x"
   ]
  },
  {
   "cell_type": "code",
   "execution_count": null,
   "metadata": {
    "collapsed": true
   },
   "outputs": [],
   "source": []
  }
 ],
 "metadata": {
  "anaconda-cloud": {},
  "kernelspec": {
   "display_name": "Python [default]",
   "language": "python",
   "name": "python3"
  },
  "language_info": {
   "codemirror_mode": {
    "name": "ipython",
    "version": 3
   },
   "file_extension": ".py",
   "mimetype": "text/x-python",
   "name": "python",
   "nbconvert_exporter": "python",
   "pygments_lexer": "ipython3",
   "version": "3.5.1"
  }
 },
 "nbformat": 4,
 "nbformat_minor": 2
}
