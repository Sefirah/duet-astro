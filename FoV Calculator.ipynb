{
 "cells": [
  {
   "cell_type": "code",
   "execution_count": 18,
   "metadata": {
    "collapsed": true
   },
   "outputs": [],
   "source": [
    "from astropy import units as ur"
   ]
  },
  {
   "cell_type": "code",
   "execution_count": 51,
   "metadata": {
    "collapsed": false
   },
   "outputs": [
    {
     "name": "stdout",
     "output_type": "stream",
     "text": [
      "Plate scale: 1.67 micron / arcsec\n",
      "Number of pixels 4200.0, \n",
      " Focal Plane Size 4.2 cm\n"
     ]
    }
   ],
   "source": [
    "# Quick FoV Calculator\n",
    "\n",
    "# Specify PSF size\n",
    "psf_size = 12*ur.arcsec\n",
    "pixel_μm = 10. * ur.micron\n",
    "\n",
    "# Assume oversampled by 2\n",
    "pixel_size = 0.5*psf_size\n",
    "\n",
    "# Plate scale:\n",
    "print('Plate scale: {:4.2f}'.format(pixel_μm / pixel_size))\n",
    "\n",
    "# Want a 50deg2 FoV\n",
    "FoV = 7*ur.deg # Square to get 50deg2\n",
    "NumPixels = (FoV / pixel_size).cgs\n",
    "\n",
    "\n",
    "\n",
    "print('Number of pixels {}, \\n Focal Plane Size {}'.format(NumPixels, NumPixels * pixel_μm.to(ur.cm)))"
   ]
  },
  {
   "cell_type": "code",
   "execution_count": null,
   "metadata": {
    "collapsed": true
   },
   "outputs": [],
   "source": []
  }
 ],
 "metadata": {
  "anaconda-cloud": {},
  "kernelspec": {
   "display_name": "Python [default]",
   "language": "python",
   "name": "python3"
  },
  "language_info": {
   "codemirror_mode": {
    "name": "ipython",
    "version": 3
   },
   "file_extension": ".py",
   "mimetype": "text/x-python",
   "name": "python",
   "nbconvert_exporter": "python",
   "pygments_lexer": "ipython3",
   "version": "3.5.1"
  }
 },
 "nbformat": 4,
 "nbformat_minor": 2
}
