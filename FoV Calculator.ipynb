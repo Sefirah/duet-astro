{
 "cells": [
  {
   "cell_type": "code",
   "execution_count": 4,
   "metadata": {
    "collapsed": true
   },
   "outputs": [],
   "source": [
    "from astropy import units as ur"
   ]
  },
  {
   "cell_type": "code",
   "execution_count": 5,
   "metadata": {
    "collapsed": false
   },
   "outputs": [
    {
     "name": "stdout",
     "output_type": "stream",
     "text": [
      "Plate scale: 4.00 micron / arcsec\n",
      "Number of pixels 10080.0, \n",
      " Focal Plane Size 10.08 cm\n",
      "Fields to tile the sky 3367.591836734694\n",
      "Time to Survey the Whole Sky: 4.176081146744412 wk\n"
     ]
    }
   ],
   "source": [
    "# Quick FoV Calculator\n",
    "\n",
    "# Specify PSF size\n",
    "psf_size = 5*ur.arcsec\n",
    "pixel_μm = 10. * ur.micron\n",
    "\n",
    "# Assume oversampled by 2\n",
    "pixel_size = 0.5*psf_size\n",
    "\n",
    "# Plate scale:\n",
    "print('Plate scale: {:4.2f}'.format(pixel_μm / pixel_size))\n",
    "\n",
    "# Want a 50deg2 FoV\n",
    "FoV = 7*ur.deg # Square to get 50deg2\n",
    "NumPixels = (FoV / pixel_size).cgs\n",
    "\n",
    "\n",
    "\n",
    "print('Number of pixels {}, \\n Focal Plane Size {}'.format(NumPixels, NumPixels * pixel_μm.to(ur.cm)))\n",
    "\n",
    "\n",
    "# Whole sky is 41253 deg2\n",
    "AllSky = 41253 * ur.deg**2\n",
    "Fields = AllSky / (FoV**2)\n",
    "# Assume something like 50% overlap:\n",
    "Overlap = 0.25\n",
    "EffFields = Fields / Overlap\n",
    "\n",
    "print('Fields to tile the sky {}'.format(EffFields))\n",
    "# Assume 300-s per field:\n",
    "TimePerField = 300*ur.s\n",
    "\n",
    "# Assume 40% observational efficiency\n",
    "OrbitEfficiency = 0.4\n",
    "SurveyTime = (EffFields * TimePerField) / OrbitEfficiency\n",
    "print('Time to Survey the Whole Sky: {}'.format(SurveyTime.to(ur.wk)))\n",
    "\n",
    "\n",
    "\n",
    "\n",
    "\n",
    "\n",
    "\n",
    "\n"
   ]
  },
  {
   "cell_type": "code",
   "execution_count": 11,
   "metadata": {
    "collapsed": false
   },
   "outputs": [],
   "source": [
    "# From Mike Rud's design:\n",
    "\n",
    "RMS = 13 * ur.micron\n",
    "focal_length = 571.5 * ur.mm\n",
    "RMS_angle = ((RMS / focal_length).cgs * ur.rad).to(ur.arcsec) # radians\n"
   ]
  },
  {
   "cell_type": "code",
   "execution_count": 12,
   "metadata": {
    "collapsed": false
   },
   "outputs": [
    {
     "data": {
      "text/latex": [
       "$4.6919378 \\; \\mathrm{{}^{\\prime\\prime}}$"
      ],
      "text/plain": [
       "<Quantity 4.691937849890206 arcsec>"
      ]
     },
     "execution_count": 12,
     "metadata": {},
     "output_type": "execute_result"
    }
   ],
   "source": [
    "RMS_angle"
   ]
  },
  {
   "cell_type": "code",
   "execution_count": null,
   "metadata": {
    "collapsed": true
   },
   "outputs": [],
   "source": []
  }
 ],
 "metadata": {
  "anaconda-cloud": {},
  "kernelspec": {
   "display_name": "Python [default]",
   "language": "python",
   "name": "python3"
  },
  "language_info": {
   "codemirror_mode": {
    "name": "ipython",
    "version": 3
   },
   "file_extension": ".py",
   "mimetype": "text/x-python",
   "name": "python",
   "nbconvert_exporter": "python",
   "pygments_lexer": "ipython3",
   "version": "3.5.1"
  }
 },
 "nbformat": 4,
 "nbformat_minor": 2
}
