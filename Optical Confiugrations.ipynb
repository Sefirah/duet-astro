{
 "cells": [
  {
   "cell_type": "markdown",
   "metadata": {},
   "source": [
    "# Notebook to compare the optical configurations from Mike Rud"
   ]
  },
  {
   "cell_type": "code",
   "execution_count": 6,
   "metadata": {
    "collapsed": false
   },
   "outputs": [],
   "source": [
    "import numpy as np\n",
    "import astropy\n",
    "import astropy.units as ur\n",
    "import astropy.constants as cr\n",
    "%matplotlib inline\n",
    "from tdsat_sensitivity import find_limit, compute_snr\n",
    "from tdsat_telescope import load_telescope_parameters\n",
    "import matplotlib.pyplot as plt\n"
   ]
  },
  {
   "cell_type": "code",
   "execution_count": 7,
   "metadata": {
    "collapsed": false
   },
   "outputs": [],
   "source": [
    "# Inputs to change are here\n",
    "exposure = 300*ur.s\n",
    "td1_band = [180, 220]*ur.nm\n",
    "td2_band = [260, 320]*ur.nm\n",
    "td3_band = [340, 380]*ur.nm\n"
   ]
  },
  {
   "cell_type": "code",
   "execution_count": 8,
   "metadata": {
    "collapsed": false
   },
   "outputs": [
    {
     "name": "stdout",
     "output_type": "stream",
     "text": [
      "Telescope Configuration 0\n",
      "Entrance Pupil diameter 30.0 cm\n",
      "Optical Effifiency 0.87\n",
      "PSF FWHM 10.0 arcsec\n",
      "Effective Aperture 27.982137159266443 cm\n",
      "Effective Area 614.966761940202 cm2\n",
      "SNR in [ 180.  220.] nm at 22.0 mag(AB) is 11.569227306782246\n",
      "\n",
      "Telescope Configuration 1\n",
      "Entrance Pupil diameter 21.0 cm\n",
      "Optical Effifiency 0.45\n",
      "PSF FWHM 4.0 arcsec\n",
      "Effective Aperture 14.087228258248675 cm\n",
      "Effective Area 155.8622655262236 cm2\n",
      "SNR in [ 180.  220.] nm at 22.0 mag(AB) is 3.855174150139565\n",
      "\n",
      "Telescope Configuration 2\n",
      "Entrance Pupil diameter 30.0 cm\n",
      "Optical Effifiency 0.67\n",
      "PSF FWHM 9.0 arcsec\n",
      "Effective Aperture 24.556058315617353 cm\n",
      "Effective Area 473.5950925286613 cm2\n",
      "SNR in [ 180.  220.] nm at 22.0 mag(AB) is 9.565683582708033\n",
      "\n",
      "Telescope Configuration 3\n",
      "Entrance Pupil diameter 35.0 cm\n",
      "Optical Effifiency 0.7\n",
      "PSF FWHM 18.0 arcsec\n",
      "Effective Aperture 29.283100928692644 cm\n",
      "Effective Area 673.4789251133119 cm2\n",
      "SNR in [ 180.  220.] nm at 22.0 mag(AB) is 11.89836392596804\n",
      "\n",
      "Telescope Configuration 4\n",
      "Entrance Pupil diameter 40.0 cm\n",
      "Optical Effifiency 0.75\n",
      "PSF FWHM 23.0 arcsec\n",
      "Effective Aperture 34.64101615137754 cm\n",
      "Effective Area 942.4777960769379 cm2\n",
      "SNR in [ 180.  220.] nm at 22.0 mag(AB) is 14.414685715199512\n",
      "\n"
     ]
    }
   ],
   "source": [
    "# Loop over configs here and see what SNR you get\n",
    "band = td1_band\n",
    "testmag = 22*ur.ABmag\n",
    "for version in [0, 1, 2, 3, 4]:\n",
    "    diameter, qe, psf_fwhm, efficiency = load_telescope_parameters(version, diag=True)\n",
    "    snr = compute_snr(band, testmag,\n",
    "                      low_zodi=True,diameter=diameter,\n",
    "                      efficiency = efficiency, qe = qe, psf_size = psf_fwhm)\n",
    "    print('SNR in {} at {} is {}'.format(band, testmag, snr))\n",
    "    print()\n",
    " \n",
    "    \n",
    "\n"
   ]
  }
 ],
 "metadata": {
  "anaconda-cloud": {},
  "kernelspec": {
   "display_name": "Python [default]",
   "language": "python",
   "name": "python3"
  },
  "language_info": {
   "codemirror_mode": {
    "name": "ipython",
    "version": 3
   },
   "file_extension": ".py",
   "mimetype": "text/x-python",
   "name": "python",
   "nbconvert_exporter": "python",
   "pygments_lexer": "ipython3",
   "version": "3.5.1"
  }
 },
 "nbformat": 4,
 "nbformat_minor": 2
}
