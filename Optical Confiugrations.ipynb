{
 "cells": [
  {
   "cell_type": "markdown",
   "metadata": {},
   "source": [
    "# Notebook to compare the optical configurations from Mike Rud"
   ]
  },
  {
   "cell_type": "code",
   "execution_count": 4,
   "metadata": {
    "collapsed": false
   },
   "outputs": [],
   "source": [
    "import astropy.units as ur\n",
    "from tdsat_telescope import load_telescope_parameters\n"
   ]
  },
  {
   "cell_type": "code",
   "execution_count": 5,
   "metadata": {
    "collapsed": false
   },
   "outputs": [],
   "source": [
    "# Inputs to change are here\n",
    "exposure = 300*ur.s\n",
    "td1_band = [180, 220]*ur.nm\n",
    "td2_band = [260, 320]*ur.nm\n",
    "td3_band = [340, 380]*ur.nm\n"
   ]
  },
  {
   "cell_type": "code",
   "execution_count": 7,
   "metadata": {
    "collapsed": false
   },
   "outputs": [
    {
     "name": "stdout",
     "output_type": "stream",
     "text": [
      "Telescope Configuration 0\n",
      "Entrance Pupil diameter 30.0 cm\n",
      "Optical Effifiency 0.87\n",
      "PSF FWHM 10.0 arcsec\n",
      "Pixel size 5.0 arcsec\n",
      "Effective Aperture 27.982137159266443 cm\n",
      "Effective Area 614.966761940202 cm2\n",
      "SNR in [ 180.  220.] nm at 22.0 mag(AB) is 8.513870071328842\n",
      "\n",
      "Telescope Configuration 1\n",
      "Entrance Pupil diameter 21.0 cm\n",
      "Optical Effifiency 0.54\n",
      "PSF FWHM 4.0 arcsec\n",
      "Pixel size 2.0 arcsec\n",
      "Effective Aperture 15.431785379534023 cm\n",
      "Effective Area 187.03471863146837 cm2\n",
      "SNR in [ 180.  220.] nm at 22.0 mag(AB) is 3.0143641421291725\n",
      "\n",
      "Telescope Configuration 2\n",
      "Entrance Pupil diameter 30.0 cm\n",
      "Optical Effifiency 0.65\n",
      "PSF FWHM 9.0 arcsec\n",
      "Pixel size 4.5 arcsec\n",
      "Effective Aperture 24.18677324489565 cm\n",
      "Effective Area 459.45792558750725 cm2\n",
      "SNR in [ 180.  220.] nm at 22.0 mag(AB) is 6.699863369210851\n",
      "\n",
      "Telescope Configuration 3\n",
      "Entrance Pupil diameter 35.0 cm\n",
      "Optical Effifiency 0.67\n",
      "PSF FWHM 18.0 arcsec\n",
      "Pixel size 9.0 arcsec\n",
      "Effective Aperture 28.648734701553575 cm\n",
      "Effective Area 644.6155426084557 cm2\n",
      "SNR in [ 180.  220.] nm at 22.0 mag(AB) is 8.221870447480413\n",
      "\n",
      "Telescope Configuration 4\n",
      "Entrance Pupil diameter 40.0 cm\n",
      "Optical Effifiency 0.7\n",
      "PSF FWHM 23.0 arcsec\n",
      "Pixel size 11.5 arcsec\n",
      "Effective Aperture 33.46640106136302 cm\n",
      "Effective Area 879.645943005142 cm2\n",
      "SNR in [ 180.  220.] nm at 22.0 mag(AB) is 9.711116812824278\n",
      "\n",
      "Telescope Configuration 5\n",
      "Entrance Pupil diameter 33.0 cm\n",
      "Optical Effifiency 0.8824609733700643\n",
      "PSF FWHM 9.288 arcsec\n",
      "Pixel size 4.3 arcsec\n",
      "Effective Aperture 31.0 cm\n",
      "Effective Area 754.7676350249478 cm2\n",
      "SNR in [ 180.  220.] nm at 22.0 mag(AB) is 10.109710104483996\n",
      "\n"
     ]
    }
   ],
   "source": [
    "# Loop over configs here and see what SNR you get\n",
    "band = td1_band\n",
    "testmag = 22*ur.ABmag\n",
    "for version in [0, 1, 2, 3, 4, 5]:\n",
    "    diameter, qe, psf_fwhm,pixel_size, efficiency = load_telescope_parameters(version, diag=True)\n",
    "    snr = compute_snr(band, testmag,\n",
    "                      low_zodi=True,diameter=diameter,\n",
    "                      efficiency = efficiency, qe = qe, psf_size = psf_fwhm)\n",
    "    print('SNR in {} at {} is {}'.format(band, testmag, snr))\n",
    "    print()\n",
    " \n",
    "    \n",
    "\n"
   ]
  }
 ],
 "metadata": {
  "anaconda-cloud": {},
  "kernelspec": {
   "display_name": "Python [default]",
   "language": "python",
   "name": "python3"
  },
  "language_info": {
   "codemirror_mode": {
    "name": "ipython",
    "version": 3
   },
   "file_extension": ".py",
   "mimetype": "text/x-python",
   "name": "python",
   "nbconvert_exporter": "python",
   "pygments_lexer": "ipython3",
   "version": "3.5.1"
  }
 },
 "nbformat": 4,
 "nbformat_minor": 2
}
