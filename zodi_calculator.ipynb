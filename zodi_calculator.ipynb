{
 "cells": [
  {
   "cell_type": "code",
   "execution_count": 1,
   "metadata": {
    "collapsed": true
   },
   "outputs": [],
   "source": [
    "import matplotlib.pyplot as plt\n",
    "from zodi import load_zodi\n",
    "import matplotlib.pyplot as plt\n",
    "import numpy as np\n",
    "import astropy.units as u\n",
    "from tdsat_telescope import make_red_filter, load_qe\n",
    "from apply_transmission import apply_trans"
   ]
  },
  {
   "cell_type": "code",
   "execution_count": 2,
   "metadata": {
    "collapsed": true
   },
   "outputs": [],
   "source": [
    "# Load low Zodi\n",
    "scale = 75\n",
    "zodi = load_zodi(scale=scale)"
   ]
  },
  {
   "cell_type": "code",
   "execution_count": 3,
   "metadata": {
    "collapsed": false
   },
   "outputs": [
    {
     "name": "stdout",
     "output_type": "stream",
     "text": [
      "Low wavelength: 180.0 nm\n",
      "High wavelength: 220.0 nm\n",
      "Rejection level: 0.001\n"
     ]
    }
   ],
   "source": [
    "wave = zodi['wavelength']\n",
    "flux = zodi['flux']\n",
    "\n",
    "# Make the red filter and loda the qe\n",
    "low_wave = 180*u.nm\n",
    "high_wave = 220*u.nm\n",
    "rejection = 1e-3\n",
    "qe_wave, qe = load_qe(low_wave =low_wave, high_wave = high_wave, rejection=rejection)\n",
    "red_filter = make_red_filter(wave, diag=True)\n"
   ]
  },
  {
   "cell_type": "code",
   "execution_count": 4,
   "metadata": {
    "collapsed": false
   },
   "outputs": [],
   "source": [
    "# Apply red filter and the QE curve\n",
    "red_flux = apply_trans(wave, flux, wave, red_filter)\n",
    "qe_flux = apply_trans(wave, red_flux, qe_wave, qe/100.)\n"
   ]
  },
  {
   "cell_type": "code",
   "execution_count": 7,
   "metadata": {
    "collapsed": false
   },
   "outputs": [
    {
     "data": {
      "image/png": "[encoded data removed]",
      "text/plain": [
       "<matplotlib.figure.Figure at 0x11984eef0>"
      ]
     },
     "metadata": {},
     "output_type": "display_data"
    }
   ],
   "source": [
    "plt.scatter(zodi['wavelength'], zodi['flux'])\n",
    "plt.scatter(zodi['wavelength'], zodi['flux'] * red_filter)\n",
    "plt.scatter(zodi['wavelength'], red_flux)\n",
    "plt.scatter(zodi['wavelength'], qe_flux)\n",
    "plt.yscale('Log')\n",
    "plt.ylim([1e-12, 1e-3])\n",
    "plt.xlim([1200, 10000])\n",
    "plt.show()"
   ]
  },
  {
   "cell_type": "code",
   "execution_count": 6,
   "metadata": {
    "collapsed": false
   },
   "outputs": [
    {
     "name": "stdout",
     "output_type": "stream",
     "text": [
      "Received Sky Background: 1.6819495736507353e-06 W / (m2 sr)\n"
     ]
    }
   ],
   "source": [
    "received_flux = (qe_flux * wave.to(u.micron)).sum()\n",
    "print('Received Sky Background: {}'.format(received_flux))"
   ]
  },
  {
   "cell_type": "code",
   "execution_count": null,
   "metadata": {
    "collapsed": true
   },
   "outputs": [],
   "source": []
  }
 ],
 "metadata": {
  "anaconda-cloud": {},
  "kernelspec": {
   "display_name": "Python [default]",
   "language": "python",
   "name": "python3"
  },
  "language_info": {
   "codemirror_mode": {
    "name": "ipython",
    "version": 3
   },
   "file_extension": ".py",
   "mimetype": "text/x-python",
   "name": "python",
   "nbconvert_exporter": "python",
   "pygments_lexer": "ipython3",
   "version": "3.5.1"
  }
 },
 "nbformat": 4,
 "nbformat_minor": 2
}
