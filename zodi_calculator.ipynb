{
 "cells": [
  {
   "cell_type": "code",
   "execution_count": 1,
   "metadata": {
    "collapsed": false,
    "scrolled": false
   },
   "outputs": [
    {
     "name": "stdout",
     "output_type": "stream",
     "text": [
      "\n",
      "[1800.0, 2200.0]\n",
      "75\n",
      "2000.0 Angstrom2\n",
      "5.520010522893318e-21 erg / (Angstrom cm2 s)\n",
      "31.73205201491688 mag(AB) per arcsec2\n",
      "\n",
      "[1800.0, 2200.0]\n",
      "300\n",
      "2000.0 Angstrom2\n",
      "2.2080042091573273e-20 erg / (Angstrom cm2 s)\n",
      "30.22690203659698 mag(AB) per arcsec2\n",
      "\n",
      "[1800.0, 2200.0]\n",
      "6000\n",
      "2000.0 Angstrom2\n",
      "4.416008418314655e-19 erg / (Angstrom cm2 s)\n",
      "26.974327047437026 mag(AB) per arcsec2\n",
      "\n",
      "[2600.0, 3000.0]\n",
      "75\n",
      "2800.0 Angstrom2\n",
      "1.5922737219616827e-19 erg / (Angstrom cm2 s)\n",
      "27.351217281113414 mag(AB) per arcsec2\n",
      "\n",
      "[2600.0, 3000.0]\n",
      "300\n",
      "2800.0 Angstrom2\n",
      "6.369094887846731e-19 erg / (Angstrom cm2 s)\n",
      "25.846067302793507 mag(AB) per arcsec2\n",
      "\n",
      "[2600.0, 3000.0]\n",
      "6000\n",
      "2800.0 Angstrom2\n",
      "1.2738189775693467e-17 erg / (Angstrom cm2 s)\n",
      "22.593492313633554 mag(AB) per arcsec2\n",
      "\n",
      "[3400.0, 3800.0]\n",
      "75\n",
      "3600.0 Angstrom2\n",
      "6.913387296009224e-19 erg / (Angstrom cm2 s)\n",
      "25.211312035366625 mag(AB) per arcsec2\n",
      "\n",
      "[3400.0, 3800.0]\n",
      "300\n",
      "3600.0 Angstrom2\n",
      "2.7653549184036896e-18 erg / (Angstrom cm2 s)\n",
      "23.70616205704672 mag(AB) per arcsec2\n",
      "\n",
      "[3400.0, 3800.0]\n",
      "6000\n",
      "3600.0 Angstrom2\n",
      "5.530709836807386e-17 erg / (Angstrom cm2 s)\n",
      "20.453587067886765 mag(AB) per arcsec2\n"
     ]
    }
   ],
   "source": [
    "from zodi import load_zodi\n",
    "import astropy.units as ur\n",
    "import numpy as np\n",
    "\n",
    "fλ_unit = ur.erg/ur.cm**2/ur.s / ur.Angstrom\n",
    "fλ_density_unit = fλ_unit / (ur.arcsec *ur.arcsec)\n",
    "\n",
    "for band in [1800.0, 2200.0], [2600.0, 3000.0],[3400., 3800.]:\n",
    "    for scale in [75,300, 6000]:\n",
    "        zodi = load_zodi(scale=scale)\n",
    "    \n",
    "        print()\n",
    "        print(band)\n",
    "        print(scale)\n",
    "        midλ = np.mean(band) * ur.AA\n",
    "        print(midλ*ur.AA)\n",
    "\n",
    "        ctr = 0\n",
    "        flux_density = 0\n",
    "        for ind, wv in enumerate(zodi['wavelength']):\n",
    "            if ( (wv < band[0]) | (wv > band[1])):\n",
    "                continue\n",
    "            ctr += 1\n",
    "            flux_density += zodi['flux'][ind]\n",
    "\n",
    "        # Effective flux density in the band:\n",
    "        flux_density /= float(ctr)\n",
    "        fden = flux_density.to(fλ_density_unit)\n",
    "\n",
    "        # Take out the per-arcsec\n",
    "        fden_perarcsec = fden * (ur.arcsec * ur.arcsec)\n",
    "        print(fden_perarcsec)\n",
    "\n",
    "        print('{} per arcsec2'.format((fden_perarcsec).to(ur.ABmag, equivalencies=ur.spectral_density(midλ))))\n"
   ]
  },
  {
   "cell_type": "code",
   "execution_count": 2,
   "metadata": {
    "collapsed": true
   },
   "outputs": [],
   "source": [
    "import matplotlib.pyplot as plt"
   ]
  },
  {
   "cell_type": "code",
   "execution_count": 10,
   "metadata": {
    "collapsed": false
   },
   "outputs": [
    {
     "data": {
      "image/png": "[encoded data removed]",
      "text/plain": [
       "<matplotlib.figure.Figure at 0x11e582e10>"
      ]
     },
     "metadata": {},
     "output_type": "display_data"
    }
   ],
   "source": [
    "plt.scatter(zodi['wavelength'], zodi['flux'])\n",
    "plt.yscale('Log')\n",
    "plt.ylim([1e-10, 1e-3])\n",
    "plt.xlim([1200, 3000])\n",
    "\n",
    "\n",
    "plt.show()"
   ]
  },
  {
   "cell_type": "code",
   "execution_count": null,
   "metadata": {
    "collapsed": true
   },
   "outputs": [],
   "source": []
  }
 ],
 "metadata": {
  "anaconda-cloud": {},
  "kernelspec": {
   "display_name": "Python [default]",
   "language": "python",
   "name": "python3"
  },
  "language_info": {
   "codemirror_mode": {
    "name": "ipython",
    "version": 3
   },
   "file_extension": ".py",
   "mimetype": "text/x-python",
   "name": "python",
   "nbconvert_exporter": "python",
   "pygments_lexer": "ipython3",
   "version": "3.5.1"
  }
 },
 "nbformat": 4,
 "nbformat_minor": 2
}
