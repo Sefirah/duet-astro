{
 "cells": [
  {
   "cell_type": "code",
   "execution_count": 8,
   "metadata": {
    "collapsed": false,
    "scrolled": false
   },
   "outputs": [
    {
     "name": "stdout",
     "output_type": "stream",
     "text": [
      "\n",
      "[1800.0, 2200.0]\n",
      "75\n",
      "2000.0 Angstrom2\n",
      "5.551319302890272e-21 erg / (Angstrom cm2 s)\n",
      "31.72591125908714 mag(AB) per arcsec2\n",
      "\n",
      "[1800.0, 2200.0]\n",
      "300\n",
      "2000.0 Angstrom2\n",
      "2.220527721156109e-20 erg / (Angstrom cm2 s)\n",
      "30.220761280767235 mag(AB) per arcsec2\n",
      "\n",
      "[1800.0, 2200.0]\n",
      "6000\n",
      "2000.0 Angstrom2\n",
      "4.44105544231222e-19 erg / (Angstrom cm2 s)\n",
      "26.96818629160728 mag(AB) per arcsec2\n",
      "\n",
      "[2600.0, 3000.0]\n",
      "75\n",
      "2800.0 Angstrom2\n",
      "1.6013048909149082e-19 erg / (Angstrom cm2 s)\n",
      "27.345076525283673 mag(AB) per arcsec2\n",
      "\n",
      "[2600.0, 3000.0]\n",
      "300\n",
      "2800.0 Angstrom2\n",
      "6.405219563659633e-19 erg / (Angstrom cm2 s)\n",
      "25.83992654696377 mag(AB) per arcsec2\n",
      "\n",
      "[2600.0, 3000.0]\n",
      "6000\n",
      "2800.0 Angstrom2\n",
      "1.2810439127319263e-17 erg / (Angstrom cm2 s)\n",
      "22.587351557803817 mag(AB) per arcsec2\n",
      "\n",
      "[3400.0, 3800.0]\n",
      "75\n",
      "3600.0 Angstrom2\n",
      "6.952599127397371e-19 erg / (Angstrom cm2 s)\n",
      "25.205171279536888 mag(AB) per arcsec2\n",
      "\n",
      "[3400.0, 3800.0]\n",
      "300\n",
      "3600.0 Angstrom2\n",
      "2.7810396509589485e-18 erg / (Angstrom cm2 s)\n",
      "23.70002130121698 mag(AB) per arcsec2\n",
      "\n",
      "[3400.0, 3800.0]\n",
      "6000\n",
      "3600.0 Angstrom2\n",
      "5.562079301917895e-17 erg / (Angstrom cm2 s)\n",
      "20.44744631205703 mag(AB) per arcsec2\n"
     ]
    }
   ],
   "source": [
    "from zodi import load_zodi\n",
    "import astropy.units as ur\n",
    "import numpy as np\n",
    "\n",
    "fλ_unit = ur.erg/ur.cm**2/ur.s / ur.Angstrom\n",
    "fλ_density_unit = fλ_unit / (ur.arcsec *ur.arcsec)\n",
    "\n",
    "for band in [1800.0, 2200.0], [2600.0, 3000.0],[3400., 3800.]:\n",
    "    for scale in [75,300, 6000]:\n",
    "        zodi = load_zodi(scale=scale)\n",
    "    \n",
    "        print()\n",
    "        print(band)\n",
    "        print(scale)\n",
    "        midλ = np.mean(band) * ur.AA\n",
    "        print(midλ*ur.AA)\n",
    "\n",
    "        ctr = 0\n",
    "        flux_density = 0\n",
    "        for ind, wv in enumerate(zodi['wavelength']):\n",
    "            if ( (wv < band[0]) | (wv > band[1])):\n",
    "                continue\n",
    "            ctr += 1\n",
    "            flux_density += zodi['flux'][ind]\n",
    "\n",
    "        # Effective flux density in the band:\n",
    "        flux_density /= float(ctr)\n",
    "        fden = flux_density.to(fλ_density_unit)\n",
    "\n",
    "        # Take out the per-arcsec\n",
    "        fden_perarcsec = fden * (ur.arcsec * ur.arcsec)\n",
    "        print(fden_perarcsec)\n",
    "\n",
    "        print('{} per arcsec2'.format((fden_perarcsec).to(ur.ABmag, equivalencies=ur.spectral_density(midλ))))\n"
   ]
  },
  {
   "cell_type": "code",
   "execution_count": null,
   "metadata": {
    "collapsed": true
   },
   "outputs": [],
   "source": []
  }
 ],
 "metadata": {
  "anaconda-cloud": {},
  "kernelspec": {
   "display_name": "Python [default]",
   "language": "python",
   "name": "python3"
  },
  "language_info": {
   "codemirror_mode": {
    "name": "ipython",
    "version": 3
   },
   "file_extension": ".py",
   "mimetype": "text/x-python",
   "name": "python",
   "nbconvert_exporter": "python",
   "pygments_lexer": "ipython3",
   "version": "3.5.1"
  }
 },
 "nbformat": 4,
 "nbformat_minor": 2
}
