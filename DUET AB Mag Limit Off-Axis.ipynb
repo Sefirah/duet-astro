{
 "cells": [
  {
   "cell_type": "code",
   "execution_count": 1,
   "metadata": {
    "collapsed": false
   },
   "outputs": [],
   "source": [
    "import astropy.units as u\n",
    "from tdsat_telescope import load_telescope_parameters\n",
    "from tdsat_sensitivity import src_rate, bgd_sky_qe_rate, bgd_electronics, calc_exposure\n",
    "from tdsat_neff import get_neff\n",
    "from bbmag import bb_abmag_fluence\n",
    "import numpy as np\n",
    "from matplotlib import pyplot as plt\n",
    "\n",
    "from astropy.visualization import quantity_support\n",
    "import matplotlib\n",
    "font = {'family' : 'normal',\n",
    "        'weight' : 'bold',\n",
    "        'size'   : 22}\n",
    "\n",
    "matplotlib.rc('font', **font)"
   ]
  },
  {
   "cell_type": "code",
   "execution_count": 2,
   "metadata": {
    "collapsed": true
   },
   "outputs": [],
   "source": [
    "from bbmag import bb_abmag_fluence"
   ]
  },
  {
   "cell_type": "code",
   "execution_count": 3,
   "metadata": {
    "collapsed": false
   },
   "outputs": [
    {
     "name": "stdout",
     "output_type": "stream",
     "text": [
      "Transmission efficiency: 0.8166518036622619\n",
      "Telescope Configuration 11\n",
      "Name: Small Focal Plane CMOS\n",
      "Entrance Pupil diameter 26.0 cm\n",
      "Optical Efficiency 0.7893639053254439\n",
      "PSF FWHM 4.288 arcsec\n",
      "Pixel size 6.4 arcsec\n",
      "Effective Aperture 23.1 cm\n",
      "Effective Area 419.09631397051237 cm2\n",
      "Effective area (used) 419.0963139705124 cm2\n",
      "Effective PSF size 6.6623527375845235 arcsec\n",
      "Number of effective bgd pixels: 2.990374488245114\n",
      "\n"
     ]
    }
   ],
   "source": [
    "siglimit = 10. # sigma\n",
    "read_noise = 3.*(2**0.5) # Read noise for two frames\n",
    "\n",
    "\n",
    "\n",
    "point_drift = 1*u.arcsec # To be added to the PSF in quadrature\n",
    "point_jitter = 5*u.arcsec\n",
    "# Define bands\n",
    "td1_band = [193, 233]*u.nm\n",
    "\n",
    "\n",
    "# Transmission efficiency\n",
    "trans_eff = (0.975)**8 # from Jim. \n",
    "\n",
    "print('Transmission efficiency: {}'.format(trans_eff))\n",
    "\n",
    "# Load telescope info\n",
    "config=11\n",
    "diameter, qe, psf_size, pixel_size, efficiency = load_telescope_parameters(config)\n",
    "\n",
    "area = np.pi * (diameter*0.5)**2\n",
    "\n",
    "print('Effective area (used) {}'.format(area*efficiency))\n",
    "\n",
    "\n",
    "\n",
    "# Add in fuzz...\n",
    "psf_size = (psf_size**2 + point_drift**2 + point_jitter**2)**0.5\n",
    "\n",
    "\n",
    "print('Effective PSF size {}'.format(psf_size))\n",
    "# Get the number of effective background pixels\n",
    "neff = get_neff(psf_size, pixel_size)\n",
    "print('Number of effective bgd pixels: {}'.format(neff))\n",
    "print()\n"
   ]
  },
  {
   "cell_type": "code",
   "execution_count": 4,
   "metadata": {
    "collapsed": false
   },
   "outputs": [
    {
     "name": "stderr",
     "output_type": "stream",
     "text": [
      "/Users/bwgref/anaconda/envs/tdsat/lib/python3.6/site-packages/scipy/stats/_binned_statistic.py:607: FutureWarning: Using a non-tuple sequence for multidimensional indexing is deprecated; use `arr[tuple(seq)]` instead of `arr[seq]`. In the future this will be interpreted as an array index, `arr[np.array(seq)]`, which will result either in an error or a different result.\n",
      "  result = result[core]\n"
     ]
    },
    {
     "name": "stdout",
     "output_type": "stream",
     "text": [
      "Sky background rate per pixel band1: 0.043301937298254545 1 / s\n",
      "Sky background rate per pixel band2: 0.4792754576408422 1 / s\n"
     ]
    },
    {
     "name": "stderr",
     "output_type": "stream",
     "text": [
      "/Users/bwgref/anaconda/envs/tdsat/lib/python3.6/site-packages/matplotlib/font_manager.py:1241: UserWarning: findfont: Font family ['normal'] not found. Falling back to DejaVu Sans.\n",
      "  (prop.get_family(), self.defaultFamily[fontext]))\n"
     ]
    },
    {
     "data": {
      "image/png": "[encoded data removed]",
      "text/plain": [
       "<Figure size 864x576 with 1 Axes>"
      ]
     },
     "metadata": {
      "needs_background": "light"
     },
     "output_type": "display_data"
    }
   ],
   "source": [
    "light=True\n",
    "siglimit=10\n",
    "\n",
    "\n",
    "exp1 = []\n",
    "exp2 = []\n",
    "sm = []\n",
    "# Compute sky background\n",
    "bgd_ph_rate = bgd_sky_qe_rate(med_zodi=True,\n",
    "                              diameter=diameter,\n",
    "                              band=td1_band,\n",
    "                              pixel_size=pixel_size, real_red=True, light=light)\n",
    "bgd_band1 = trans_eff * efficiency * bgd_ph_rate\n",
    "print('Sky background rate per pixel band1: {}'.format(bgd_band1))\n",
    "\n",
    "\n",
    "bgd_ph_rate = bgd_sky_qe_rate(med_zodi=True,\n",
    "                              diameter=diameter,\n",
    "                              band=td1_band,qe_band=2,\n",
    "                              pixel_size=pixel_size, real_red=True, light=light)\n",
    "bgd_band2 = trans_eff  * efficiency * bgd_ph_rate\n",
    "print('Sky background rate per pixel band2: {}'.format(bgd_band2))\n",
    "\n",
    "for swiftmag in np.arange(19.5, 23, 0.1):\n",
    "    band1_fluence, band2_fluence = bb_abmag_fluence(swiftmag=swiftmag*u.ABmag, bbtemp=20e3*u.K, light=light)\n",
    "    band1_rate = trans_eff  * efficiency * area * band1_fluence\n",
    "    band2_rate = trans_eff * efficiency * area * band2_fluence\n",
    "\n",
    "    exposure1 = calc_exposure(siglimit, band1_rate, bgd_band1,read_noise, neff)\n",
    "    exposure2 = calc_exposure(siglimit, band2_rate, bgd_band2,read_noise, neff)\n",
    "\n",
    "    exp1 = np.append(exp1, exposure1)\n",
    "    exp2 = np.append(exp2, exposure2)\n",
    "    sm = np.append(sm, swiftmag)\n",
    "plt.figure(figsize=[12, 8])\n",
    "plt.scatter(sm, exp1, label='DUET 193-233 nm')\n",
    "plt.scatter(sm, exp2, label='DUET 260-320 nm')\n",
    "\n",
    "plt.ylim([100, 1000])\n",
    "plt.axhline(300, linestyle = '--')\n",
    "plt.axhline(600, linestyle = ':')\n",
    "plt.axhline(900, linestyle = ':')\n",
    "\n",
    "\n",
    "plt.ylabel('Time to {}-σ'.format(siglimit))\n",
    "plt.xlabel('Swift UVW2 ABmag, 20e3 K bb')\n",
    "plt.title('Sensitivity')\n",
    "plt.legend()\n",
    "plt.show()"
   ]
  },
  {
   "cell_type": "code",
   "execution_count": 5,
   "metadata": {
    "collapsed": false
   },
   "outputs": [
    {
     "name": "stderr",
     "output_type": "stream",
     "text": [
      "/Users/bwgref/anaconda/envs/tdsat/lib/python3.6/site-packages/scipy/stats/_binned_statistic.py:607: FutureWarning: Using a non-tuple sequence for multidimensional indexing is deprecated; use `arr[tuple(seq)]` instead of `arr[seq]`. In the future this will be interpreted as an array index, `arr[np.array(seq)]`, which will result either in an error or a different result.\n",
      "  result = result[core]\n"
     ]
    },
    {
     "name": "stdout",
     "output_type": "stream",
     "text": [
      "Sky background rate per pixel band1: 0.005343951525252733 1 / s\n",
      "Sky background rate per pixel band2: 0.1668555474489293 1 / s\n"
     ]
    },
    {
     "data": {
      "image/png": "[encoded data removed]",
      "text/plain": [
       "<Figure size 864x576 with 1 Axes>"
      ]
     },
     "metadata": {
      "needs_background": "light"
     },
     "output_type": "display_data"
    }
   ],
   "source": [
    "light=False\n",
    "siglimit=10\n",
    "\n",
    "\n",
    "exp1 = []\n",
    "exp2 = []\n",
    "sm = []\n",
    "# Compute sky background\n",
    "bgd_ph_rate = bgd_sky_qe_rate(med_zodi=True,\n",
    "                              diameter=diameter,\n",
    "                              band=td1_band,\n",
    "                              pixel_size=pixel_size, real_red=True, light=light)\n",
    "bgd_band1 = trans_eff * efficiency * bgd_ph_rate\n",
    "print('Sky background rate per pixel band1: {}'.format(bgd_band1))\n",
    "\n",
    "\n",
    "bgd_ph_rate = bgd_sky_qe_rate(med_zodi=True,\n",
    "                              diameter=diameter,\n",
    "                              band=td1_band,qe_band=2,\n",
    "                              pixel_size=pixel_size, real_red=True, light=light)\n",
    "bgd_band2 = trans_eff  * efficiency * bgd_ph_rate\n",
    "print('Sky background rate per pixel band2: {}'.format(bgd_band2))\n",
    "\n",
    "for swiftmag in np.arange(19.5, 24, 0.1):\n",
    "    band1_fluence, band2_fluence = bb_abmag_fluence(swiftmag=swiftmag*u.ABmag, bbtemp=20e3*u.K, light=light)\n",
    "    band1_rate = trans_eff  * efficiency * area * band1_fluence\n",
    "    band2_rate = trans_eff * efficiency * area * band2_fluence\n",
    "\n",
    "    exposure1 = calc_exposure(siglimit, band1_rate, bgd_band1,read_noise, neff)\n",
    "    exposure2 = calc_exposure(siglimit, band2_rate, bgd_band2,read_noise, neff)\n",
    "\n",
    "    exp1 = np.append(exp1, exposure1)\n",
    "    exp2 = np.append(exp2, exposure2)\n",
    "    sm = np.append(sm, swiftmag)\n",
    "plt.figure(figsize=[12, 8])\n",
    "plt.scatter(sm, exp1, label='DUET 193-233 nm')\n",
    "plt.scatter(sm, exp2, label='DUET 260-320 nm')\n",
    "\n",
    "plt.ylim([0, 1000])\n",
    "plt.axhline(300, linestyle = '--')\n",
    "\n",
    "plt.axhline(600, linestyle = ':')\n",
    "plt.axhline(900, linestyle = ':')\n",
    "\n",
    "\n",
    "plt.ylabel('Time to {}-σ'.format(siglimit))\n",
    "plt.xlabel('Swift UVW2 ABmag, 20e3 K bb')\n",
    "plt.title('Sensitivity for more aggressive filters')\n",
    "plt.legend()\n",
    "plt.show()"
   ]
  },
  {
   "cell_type": "code",
   "execution_count": 6,
   "metadata": {
    "collapsed": false
   },
   "outputs": [
    {
     "name": "stdout",
     "output_type": "stream",
     "text": [
      "Sky background rate per pixel band1: 0.043301937298254545 1 / s\n",
      "Sky background rate per pixel band2: 0.4792754576408422 1 / s\n"
     ]
    },
    {
     "data": {
      "image/png": "[encoded data removed]",
      "text/plain": [
       "<Figure size 864x576 with 1 Axes>"
      ]
     },
     "metadata": {
      "needs_background": "light"
     },
     "output_type": "display_data"
    }
   ],
   "source": [
    "light=True\n",
    "siglimit=5\n",
    "\n",
    "\n",
    "exp1 = []\n",
    "exp2 = []\n",
    "sm = []\n",
    "# Compute sky background\n",
    "bgd_ph_rate = bgd_sky_qe_rate(med_zodi=True,\n",
    "                              diameter=diameter,\n",
    "                              band=td1_band,\n",
    "                              pixel_size=pixel_size, real_red=True, light=light)\n",
    "bgd_band1 = trans_eff * efficiency * bgd_ph_rate\n",
    "print('Sky background rate per pixel band1: {}'.format(bgd_band1))\n",
    "\n",
    "\n",
    "bgd_ph_rate = bgd_sky_qe_rate(med_zodi=True,\n",
    "                              diameter=diameter,\n",
    "                              band=td1_band,qe_band=2,\n",
    "                              pixel_size=pixel_size, real_red=True, light=light)\n",
    "bgd_band2 = trans_eff  * efficiency * bgd_ph_rate\n",
    "print('Sky background rate per pixel band2: {}'.format(bgd_band2))\n",
    "\n",
    "for swiftmag in np.arange(19.5, 25, 0.05):\n",
    "    band1_fluence, band2_fluence = bb_abmag_fluence(swiftmag=swiftmag*u.ABmag, bbtemp=20e3*u.K, light=light)\n",
    "    band1_rate = trans_eff  * efficiency * area * band1_fluence\n",
    "    band2_rate = trans_eff * efficiency * area * band2_fluence\n",
    "\n",
    "\n",
    "\n",
    "\n",
    "    exposure1 = calc_exposure(siglimit, band1_rate, bgd_band1,read_noise, neff)\n",
    "    exposure2 = calc_exposure(siglimit, band2_rate, bgd_band2,read_noise, neff)\n",
    "\n",
    "    exp1 = np.append(exp1, exposure1)\n",
    "    exp2 = np.append(exp2, exposure2)\n",
    "    sm = np.append(sm, swiftmag)\n",
    "plt.figure(figsize=[12, 8])\n",
    "plt.scatter(sm, exp1, label='DUET 193-233 nm')\n",
    "plt.scatter(sm, exp2, label='DUET 260-320 nm')\n",
    "\n",
    "plt.ylim([0, 1000])\n",
    "plt.axhline(300, linestyle = '--')\n",
    "\n",
    "plt.axhline(600, linestyle = ':')\n",
    "\n",
    "plt.ylabel('Time to {}-σ'.format(siglimit))\n",
    "plt.xlabel('Swift UVW2 ABmag, 20e3 K bb')\n",
    "plt.title('Sensitivity')\n",
    "plt.legend()\n",
    "plt.show()"
   ]
  },
  {
   "cell_type": "code",
   "execution_count": 7,
   "metadata": {
    "collapsed": false
   },
   "outputs": [
    {
     "name": "stdout",
     "output_type": "stream",
     "text": [
      "260-320 nm Photometric Zero Point: 20.550000000000036\n",
      "193-233 nm Photometric Zero Point: 20.650000000000038\n"
     ]
    }
   ],
   "source": [
    "light=True\n",
    "siglimit=5\n",
    "\n",
    "\n",
    "exp1 = []\n",
    "exp2 = []\n",
    "sm = []\n",
    "\n",
    "\n",
    "for swiftmag in np.arange(18, 25, 0.05):\n",
    "    band1_fluence, band2_fluence = bb_abmag_fluence(swiftmag=swiftmag*u.ABmag, bbtemp=20e3*u.K, light=light)\n",
    "    band1_rate = trans_eff  * efficiency * area * band1_fluence\n",
    "    band2_rate = trans_eff * efficiency * area * band2_fluence\n",
    "\n",
    "    if (band2_rate.value < 1.0):\n",
    "        print('260-320 nm Photometric Zero Point: {}'.format(swiftmag))\n",
    "        break\n",
    "\n",
    "for swiftmag in np.arange(18, 25, 0.05):\n",
    "    band1_fluence, band2_fluence = bb_abmag_fluence(swiftmag=swiftmag*u.ABmag, bbtemp=20e3*u.K, light=light)\n",
    "    band1_rate = trans_eff  * efficiency * area * band1_fluence\n",
    "    band2_rate = trans_eff * efficiency * area * band2_fluence\n",
    "\n",
    "    if (band1_rate.value < 1.0):\n",
    "        print('193-233 nm Photometric Zero Point: {}'.format(swiftmag))\n",
    "        break\n",
    "\n",
    "        \n",
    "\n",
    "\n",
    "\n"
   ]
  },
  {
   "cell_type": "code",
   "execution_count": 8,
   "metadata": {
    "collapsed": false
   },
   "outputs": [
    {
     "name": "stdout",
     "output_type": "stream",
     "text": [
      "Sky background rate per pixel band1: 0.043301937298254545 1 / s\n",
      "Sky background rate per pixel band2: 0.4792754576408422 1 / s\n",
      "260-320 nm 300-s mag limit: 20.70000000000001\n",
      "193-233 nm 300-s mag limit: 21.40000000000002\n"
     ]
    }
   ],
   "source": [
    "light=True\n",
    "siglimit=10\n",
    "\n",
    "\n",
    "exp1 = []\n",
    "exp2 = []\n",
    "sm = []\n",
    "# Compute sky background\n",
    "bgd_ph_rate = bgd_sky_qe_rate(med_zodi=True,\n",
    "                              diameter=diameter,\n",
    "                              band=td1_band,\n",
    "                              pixel_size=pixel_size, real_red=True, light=light)\n",
    "bgd_band1 = trans_eff * efficiency * bgd_ph_rate\n",
    "print('Sky background rate per pixel band1: {}'.format(bgd_band1))\n",
    "\n",
    "\n",
    "bgd_ph_rate = bgd_sky_qe_rate(med_zodi=True,\n",
    "                              diameter=diameter,\n",
    "                              band=td1_band,qe_band=2,\n",
    "                              pixel_size=pixel_size, real_red=True, light=light)\n",
    "bgd_band2 = trans_eff  * efficiency * bgd_ph_rate\n",
    "print('Sky background rate per pixel band2: {}'.format(bgd_band2))\n",
    "\n",
    "for swiftmag in np.arange(20, 24, 0.05):\n",
    "    band1_fluence, band2_fluence = bb_abmag_fluence(swiftmag=swiftmag*u.ABmag, bbtemp=20e3*u.K, light=light)\n",
    "    band1_rate = trans_eff  * efficiency * area * band1_fluence\n",
    "    band2_rate = trans_eff * efficiency * area * band2_fluence\n",
    "\n",
    "    exposure2 = calc_exposure(siglimit, band2_rate, bgd_band2,read_noise, neff)\n",
    "    if (exposure2.value >300.):\n",
    "        print('260-320 nm 300-s mag limit: {}'.format(swiftmag))\n",
    "        break\n",
    "\n",
    "for swiftmag in np.arange(20, 24, 0.05):\n",
    "    band1_fluence, band2_fluence = bb_abmag_fluence(swiftmag=swiftmag*u.ABmag, bbtemp=20e3*u.K, light=light)\n",
    "    band1_rate = trans_eff  * efficiency * area * band1_fluence\n",
    "    band2_rate = trans_eff * efficiency * area * band2_fluence\n",
    "\n",
    "    exposure1 = calc_exposure(siglimit, band1_rate, bgd_band1,read_noise, neff)\n",
    "    if (exposure1.value >300.):\n",
    "        print('193-233 nm 300-s mag limit: {}'.format(swiftmag))\n",
    "        break\n",
    "\n",
    "\n"
   ]
  },
  {
   "cell_type": "code",
   "execution_count": 9,
   "metadata": {
    "collapsed": false
   },
   "outputs": [
    {
     "name": "stdout",
     "output_type": "stream",
     "text": [
      "Sky background rate per pixel band1: 0.043301937298254545 1 / s\n",
      "Sky background rate per pixel band2: 0.4792754576408422 1 / s\n",
      "260-320 nm 300-s mag limit: 21.550000000000008\n",
      "193-233 nm 300-s mag limit: 22.45000000000002\n"
     ]
    }
   ],
   "source": [
    "light=True\n",
    "siglimit=5\n",
    "\n",
    "\n",
    "exp1 = []\n",
    "exp2 = []\n",
    "sm = []\n",
    "# Compute sky background\n",
    "bgd_ph_rate = bgd_sky_qe_rate(med_zodi=True,\n",
    "                              diameter=diameter,\n",
    "                              band=td1_band,\n",
    "                              pixel_size=pixel_size, real_red=True, light=light)\n",
    "bgd_band1 = trans_eff * efficiency * bgd_ph_rate\n",
    "print('Sky background rate per pixel band1: {}'.format(bgd_band1))\n",
    "\n",
    "\n",
    "bgd_ph_rate = bgd_sky_qe_rate(med_zodi=True,\n",
    "                              diameter=diameter,\n",
    "                              band=td1_band,qe_band=2,\n",
    "                              pixel_size=pixel_size, real_red=True, light=light)\n",
    "bgd_band2 = trans_eff  * efficiency * bgd_ph_rate\n",
    "print('Sky background rate per pixel band2: {}'.format(bgd_band2))\n",
    "\n",
    "for swiftmag in np.arange(21, 24, 0.05):\n",
    "    band1_fluence, band2_fluence = bb_abmag_fluence(swiftmag=swiftmag*u.ABmag, bbtemp=20e3*u.K, light=light)\n",
    "    band1_rate = trans_eff  * efficiency * area * band1_fluence\n",
    "    band2_rate = trans_eff * efficiency * area * band2_fluence\n",
    "\n",
    "    exposure2 = calc_exposure(siglimit, band2_rate, bgd_band2,read_noise, neff)\n",
    "    if (exposure2.value >300.):\n",
    "        print('260-320 nm 300-s mag limit: {}'.format(swiftmag))\n",
    "        break\n",
    "\n",
    "\n",
    "\n",
    "\n",
    "for swiftmag in np.arange(21, 24, 0.05):\n",
    "    band1_fluence, band2_fluence = bb_abmag_fluence(swiftmag=swiftmag*u.ABmag, bbtemp=20e3*u.K, light=light)\n",
    "    band1_rate = trans_eff  * efficiency * area * band1_fluence\n",
    "    band2_rate = trans_eff * efficiency * area * band2_fluence\n",
    "\n",
    "    exposure1 = calc_exposure(siglimit, band1_rate, bgd_band1,read_noise, neff)\n",
    "    if (exposure1.value >300.):\n",
    "        print('193-233 nm 300-s mag limit: {}'.format(swiftmag))\n",
    "        break\n",
    "\n"
   ]
  },
  {
   "cell_type": "code",
   "execution_count": 10,
   "metadata": {
    "collapsed": false
   },
   "outputs": [
    {
     "name": "stdout",
     "output_type": "stream",
     "text": [
      "Sky background rate per pixel band1: 0.043301937298254545 1 / s\n",
      "Sky background rate per pixel band2: 0.4792754576408422 1 / s\n",
      "260-320 nm 600-s mag limit: 21.150000000000002\n",
      "193-233 nm 600-s mag limit: 22.050000000000015\n"
     ]
    }
   ],
   "source": [
    "light=True\n",
    "siglimit=10\n",
    "\n",
    "\n",
    "exp1 = []\n",
    "exp2 = []\n",
    "sm = []\n",
    "# Compute sky background\n",
    "bgd_ph_rate = bgd_sky_qe_rate(med_zodi=True,\n",
    "                              diameter=diameter,\n",
    "                              band=td1_band,\n",
    "                              pixel_size=pixel_size, real_red=True, light=light)\n",
    "bgd_band1 = trans_eff * efficiency * bgd_ph_rate\n",
    "print('Sky background rate per pixel band1: {}'.format(bgd_band1))\n",
    "\n",
    "\n",
    "bgd_ph_rate = bgd_sky_qe_rate(med_zodi=True,\n",
    "                              diameter=diameter,\n",
    "                              band=td1_band,qe_band=2,\n",
    "                              pixel_size=pixel_size, real_red=True, light=light)\n",
    "bgd_band2 = trans_eff  * efficiency * bgd_ph_rate\n",
    "print('Sky background rate per pixel band2: {}'.format(bgd_band2))\n",
    "\n",
    "for swiftmag in np.arange(21, 24, 0.05):\n",
    "    band1_fluence, band2_fluence = bb_abmag_fluence(swiftmag=swiftmag*u.ABmag, bbtemp=20e3*u.K, light=light)\n",
    "    band1_rate = trans_eff  * efficiency * area * band1_fluence\n",
    "    band2_rate = trans_eff * efficiency * area * band2_fluence\n",
    "\n",
    "    exposure2 = calc_exposure(siglimit, band2_rate, bgd_band2,read_noise, neff)\n",
    "    if (exposure2.value >600.):\n",
    "        print('260-320 nm 600-s mag limit: {}'.format(swiftmag))\n",
    "        break\n",
    "\n",
    "\n",
    "\n",
    "for swiftmag in np.arange(21, 24, 0.05):\n",
    "    band1_fluence, band2_fluence = bb_abmag_fluence(swiftmag=swiftmag*u.ABmag, bbtemp=20e3*u.K, light=light)\n",
    "    band1_rate = trans_eff  * efficiency * area * band1_fluence\n",
    "    band2_rate = trans_eff * efficiency * area * band2_fluence\n",
    "\n",
    "    exposure1 = calc_exposure(siglimit, band1_rate, bgd_band1,read_noise, neff)\n",
    "    if (exposure1.value >600.):\n",
    "        print('193-233 nm 600-s mag limit: {}'.format(swiftmag))\n",
    "        break\n",
    "\n",
    "\n",
    "\n"
   ]
  },
  {
   "cell_type": "code",
   "execution_count": 11,
   "metadata": {
    "collapsed": false
   },
   "outputs": [
    {
     "name": "stdout",
     "output_type": "stream",
     "text": [
      "Sky background rate per pixel band1: 0.043301937298254545 1 / s\n",
      "Sky background rate per pixel band2: 0.4792754576408422 1 / s\n",
      "260-320 nm 600-s mag limit: 22.000000000000014\n",
      "193-233 nm 600-s mag limit: 23.05000000000003\n"
     ]
    }
   ],
   "source": [
    "light=True\n",
    "siglimit=5\n",
    "\n",
    "\n",
    "exp1 = []\n",
    "exp2 = []\n",
    "sm = []\n",
    "# Compute sky background\n",
    "bgd_ph_rate = bgd_sky_qe_rate(med_zodi=True,\n",
    "                              diameter=diameter,\n",
    "                              band=td1_band,\n",
    "                              pixel_size=pixel_size, real_red=True, light=light)\n",
    "bgd_band1 = trans_eff * efficiency * bgd_ph_rate\n",
    "print('Sky background rate per pixel band1: {}'.format(bgd_band1))\n",
    "\n",
    "\n",
    "bgd_ph_rate = bgd_sky_qe_rate(med_zodi=True,\n",
    "                              diameter=diameter,\n",
    "                              band=td1_band,qe_band=2,\n",
    "                              pixel_size=pixel_size, real_red=True, light=light)\n",
    "bgd_band2 = trans_eff  * efficiency * bgd_ph_rate\n",
    "print('Sky background rate per pixel band2: {}'.format(bgd_band2))\n",
    "for swiftmag in np.arange(21, 24, 0.05):\n",
    "    band1_fluence, band2_fluence = bb_abmag_fluence(swiftmag=swiftmag*u.ABmag, bbtemp=20e3*u.K, light=light)\n",
    "    band1_rate = trans_eff  * efficiency * area * band1_fluence\n",
    "    band2_rate = trans_eff * efficiency * area * band2_fluence\n",
    "\n",
    "    exposure2 = calc_exposure(siglimit, band2_rate, bgd_band2,read_noise, neff)\n",
    "    if (exposure2.value >600.):\n",
    "        print('260-320 nm 600-s mag limit: {}'.format(swiftmag))\n",
    "        break\n",
    "\n",
    "\n",
    "for swiftmag in np.arange(21, 24, 0.05):\n",
    "    band1_fluence, band2_fluence = bb_abmag_fluence(swiftmag=swiftmag*u.ABmag, bbtemp=20e3*u.K, light=light)\n",
    "    band1_rate = trans_eff  * efficiency * area * band1_fluence\n",
    "    band2_rate = trans_eff * efficiency * area * band2_fluence\n",
    "\n",
    "    exposure1 = calc_exposure(siglimit, band1_rate, bgd_band1,read_noise, neff)\n",
    "    if (exposure1.value >600.):\n",
    "        print('193-233 nm 600-s mag limit: {}'.format(swiftmag))\n",
    "        break\n",
    "\n",
    "\n",
    "\n"
   ]
  },
  {
   "cell_type": "code",
   "execution_count": null,
   "metadata": {
    "collapsed": true
   },
   "outputs": [],
   "source": []
  }
 ],
 "metadata": {
  "anaconda-cloud": {},
  "kernelspec": {
   "display_name": "Python [conda env:tdsat]",
   "language": "python",
   "name": "conda-env-tdsat-py"
  },
  "language_info": {
   "codemirror_mode": {
    "name": "ipython",
    "version": 3
   },
   "file_extension": ".py",
   "mimetype": "text/x-python",
   "name": "python",
   "nbconvert_exporter": "python",
   "pygments_lexer": "ipython3",
   "version": "3.6.8"
  }
 },
 "nbformat": 4,
 "nbformat_minor": 2
}
