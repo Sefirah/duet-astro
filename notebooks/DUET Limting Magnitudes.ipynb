{
 "cells": [
  {
   "cell_type": "code",
   "execution_count": 1,
   "metadata": {
    "collapsed": false
   },
   "outputs": [],
   "source": [
    "import astropy.units as u\n",
    "from tdsat_telescope import load_telescope_parameters\n",
    "from tdsat_sensitivity import src_rate, bgd_sky_qe_rate, bgd_electronics, calc_exposure\n",
    "from tdsat_neff import get_neff\n",
    "from bbmag import bb_abmag_fluence\n",
    "import numpy as np\n",
    "from matplotlib import pyplot as plt\n",
    "from bbmag import bb_abmag_fluence, bb_abmag\n",
    "\n",
    "from astropy.visualization import quantity_support\n",
    "import matplotlib\n",
    "font = {'family' : 'normal',\n",
    "        'weight' : 'bold',\n",
    "        'size'   : 22}\n",
    "\n",
    "matplotlib.rc('font', **font)"
   ]
  },
  {
   "cell_type": "code",
   "execution_count": 2,
   "metadata": {
    "collapsed": false
   },
   "outputs": [
    {
     "name": "stdout",
     "output_type": "stream",
     "text": [
      "Transmission efficiency: 0.8166518036622619\n",
      "Telescope Configuration 11\n",
      "Name: Small Focal Plane CMOS\n",
      "Entrance Pupil diameter 26.0 cm\n",
      "Optical Efficiency 0.7893639053254439\n",
      "PSF FWHM 4.288 arcsec\n",
      "Pixel size 6.4 arcsec\n",
      "Effective Aperture 23.1 cm\n",
      "Effective Area 419.09631397051237 cm2\n",
      "Effective area (used) 459.9605804120816 cm2\n",
      "Effective PSF size 6.6623527375845235 arcsec\n",
      "Number of effective bgd pixels: 2.990374488245114\n",
      "\n"
     ]
    }
   ],
   "source": [
    "siglimit = 10. # sigma\n",
    "read_noise = 3. # Read noise for two frames\n",
    "\n",
    "point_drift = 1*u.arcsec # To be added to the PSF in quadrature\n",
    "point_jitter = 5*u.arcsec\n",
    "\n",
    "\n",
    "# Transmission efficiency\n",
    "trans_eff = (0.975)**8 # from Jim. \n",
    "\n",
    "print('Transmission efficiency: {}'.format(trans_eff))\n",
    "\n",
    "# Load telescope info\n",
    "config=11\n",
    "diameter, qe, psf_size, pixel_size, efficiency = load_telescope_parameters(config)\n",
    "\n",
    "area = np.pi * (diameter*0.5)**2\n",
    "area_onaxis = np.pi * (0.5*24.2*u.cm)**2\n",
    "efficiency = area_onaxis / area\n",
    "\n",
    "print('Effective area (used) {}'.format(area*efficiency))\n",
    "\n",
    "# Add in fuzz...\n",
    "psf_size = (psf_size**2 + point_drift**2 + point_jitter**2)**0.5\n",
    "\n",
    "\n",
    "print('Effective PSF size {}'.format(psf_size))\n",
    "# Get the number of effective background pixels\n",
    "neff = get_neff(psf_size, pixel_size)\n",
    "print('Number of effective bgd pixels: {}'.format(neff))\n",
    "print()\n"
   ]
  },
  {
   "cell_type": "code",
   "execution_count": 3,
   "metadata": {
    "collapsed": false
   },
   "outputs": [
    {
     "name": "stdout",
     "output_type": "stream",
     "text": [
      "Band 1 Photometric Zero Point (Swift UVW2): 20.950000000000042\n",
      "Band 1 Photometric Zero Point: 20.841517476112692 mag(AB)\n",
      "\n",
      "Band 1 Photometric Zero Point (Swift UVW2): 20.75000000000004\n",
      "Band 1 Photometric Zero Point: 20.73219194328544 mag(AB)\n"
     ]
    }
   ],
   "source": [
    "# Band one\n",
    "light=True\n",
    "\n",
    "center = 208\n",
    "width = 53\n",
    "\n",
    "bandone=[center - 0.5*width, center+0.5*width]*u.nm\n",
    "\n",
    "\n",
    "for swiftmag in np.arange(18, 25, 0.05):\n",
    "    band1_fluence, band2_fluence = bb_abmag_fluence(swiftmag=swiftmag*u.ABmag, bbtemp=10e3*u.K, light=light)\n",
    "    band1_rate = trans_eff  * efficiency * area * band1_fluence\n",
    "\n",
    "    if (band1_rate.value < 1.0):\n",
    "        bbmag1, foo = bb_abmag(swiftmag=swiftmag*u.ABmag, bbtemp=10e3*u.K, bandone = bandone)\n",
    "        print('Band 1 Photometric Zero Point (Swift UVW2): {}'.format(swiftmag))\n",
    "        print('Band 1 Photometric Zero Point: {}'.format(bbmag1))\n",
    "\n",
    "\n",
    "        break\n",
    "print()       \n",
    "for swiftmag in np.arange(18, 25, 0.05):\n",
    "    band1_fluence, band2_fluence = bb_abmag_fluence(swiftmag=swiftmag*u.ABmag, bbtemp=20e3*u.K, light=light)\n",
    "    band1_rate = trans_eff  * efficiency * area * band1_fluence\n",
    "\n",
    "    if (band1_rate.value < 1.0):\n",
    "        bbmag1, foo = bb_abmag(swiftmag=swiftmag*u.ABmag, bbtemp=20e3*u.K, bandone = bandone)\n",
    "        print('Band 1 Photometric Zero Point (Swift UVW2): {}'.format(swiftmag))\n",
    "        print('Band 1 Photometric Zero Point: {}'.format(bbmag1))\n",
    "        break\n"
   ]
  },
  {
   "cell_type": "code",
   "execution_count": 4,
   "metadata": {
    "collapsed": false
   },
   "outputs": [
    {
     "name": "stdout",
     "output_type": "stream",
     "text": [
      "Band 2 Photometric Zero Point: 21.750000000000053\n",
      "Band 2 Photometric Zero Point: 20.638294603048834 mag(AB)\n",
      "\n",
      "Band 2 Photometric Zero Point: 20.650000000000038\n",
      "Band 2 Photometric Zero Point: 20.573919385664702 mag(AB)\n"
     ]
    }
   ],
   "source": [
    "light=True\n",
    "\n",
    "center = 284\n",
    "width = 68\n",
    "bandtwo=[center - 0.5*width, center+0.5*width]*u.nm\n",
    "\n",
    "\n",
    "for swiftmag in np.arange(18, 25, 0.05):\n",
    "    band1_fluence, band2_fluence = bb_abmag_fluence(swiftmag=swiftmag*u.ABmag, bbtemp=10e3*u.K, light=light)\n",
    "    band2_rate = trans_eff * efficiency * area * band2_fluence\n",
    "\n",
    "    if (band2_rate.value < 1.0):\n",
    "        foo, bbmag2 = bb_abmag(swiftmag=swiftmag*u.ABmag, bbtemp=10e3*u.K, bandtwo = bandtwo)\n",
    "        print('Band 2 Photometric Zero Point: {}'.format(swiftmag))\n",
    "        print('Band 2 Photometric Zero Point: {}'.format(bbmag2))\n",
    "        break\n",
    "        \n",
    "print()       \n",
    "for swiftmag in np.arange(18, 25, 0.05):\n",
    "    band1_fluence, band2_fluence = bb_abmag_fluence(swiftmag=swiftmag*u.ABmag, bbtemp=20e3*u.K, light=light)\n",
    "    band2_rate = trans_eff * efficiency * area * band2_fluence\n",
    "\n",
    "    if (band2_rate.value < 1.0):\n",
    "        foo, bbmag2 = bb_abmag(swiftmag=swiftmag*u.ABmag, bbtemp=20e3*u.K, bandtwo = bandtwo)\n",
    "        print('Band 2 Photometric Zero Point: {}'.format(swiftmag))\n",
    "        print('Band 2 Photometric Zero Point: {}'.format(bbmag2))\n",
    "        break"
   ]
  },
  {
   "cell_type": "code",
   "execution_count": 7,
   "metadata": {
    "collapsed": false
   },
   "outputs": [
    {
     "name": "stdout",
     "output_type": "stream",
     "text": [
      "Sky background rate per pixel band1: 0.030369732491096913 1 / s\n",
      "Sky background rate per pixel band2: 0.2478588509265617 1 / s\n",
      "\n",
      "\n",
      "Band 1 300-s 5-σ magnitude limit: 22.632191943285438 mag(AB)\n",
      "Band 1 600-s 5-σ magnitude limit: 23.08219194328544 mag(AB)\n",
      "Band 1 900-s 5-σ magnitude limit: 23.382191943285452 mag(AB)\n",
      "\n",
      "Band 1 300-s 10-σ magnitude limit: 21.532191943285422 mag(AB)\n",
      "Band 1 600-s 10-σ magnitude limit: 22.13219194328543 mag(AB)\n",
      "Band 1 900-s 10-σ magnitude limit: 22.432191943285435 mag(AB)\n",
      "\n",
      "\n",
      "Band 2 300-s 5-σ magnitude limit: 21.873919385664692 mag(AB)\n",
      "Band 2 600-s 5-σ magnitude limit: 22.273919385664698 mag(AB)\n",
      "Band 2 900-s 5-σ magnitude limit: 22.523919385664705 mag(AB)\n",
      "Band 2 1200-s 5-σ magnitude limit: 22.723919385664708 mag(AB)\n",
      "\n",
      "Band 2 300-s 10-σ magnitude limit: 20.92391938566468 mag(AB)\n",
      "Band 2 600-s 10-σ magnitude limit: 21.423919385664686 mag(AB)\n",
      "Band 2 900-s 10-σ magnitude limit: 21.67391938566469 mag(AB)\n",
      "Band 2 1200-s 10-σ magnitude limit: 21.873919385664692 mag(AB)\n"
     ]
    }
   ],
   "source": [
    "light=True\n",
    "siglimit=10\n",
    "\n",
    "\n",
    "exp1 = []\n",
    "sm = []\n",
    "\n",
    "# Compute sky background\n",
    "bgd_ph_rate = bgd_sky_qe_rate(low_zodi=True,\n",
    "                              diameter=diameter,\n",
    "                              pixel_size=pixel_size, real_red=True, light=light)\n",
    "bgd_band1 = trans_eff * efficiency * bgd_ph_rate\n",
    "print('Sky background rate per pixel band1: {}'.format(bgd_band1))\n",
    "\n",
    "bgd_ph_rate = bgd_sky_qe_rate(low_zodi=True,\n",
    "                              diameter=diameter,\n",
    "                              qe_band=2,\n",
    "                              pixel_size=pixel_size, real_red=True, light=light)\n",
    "bgd_band2 = trans_eff  * efficiency * bgd_ph_rate\n",
    "print('Sky background rate per pixel band2: {}'.format(bgd_band2))\n",
    "\n",
    "\n",
    "center = 208\n",
    "width = 53\n",
    "bandone=[center - 0.5*width, center+0.5*width]*u.nm\n",
    "\n",
    "center = 284\n",
    "width = 68\n",
    "bandtwo=[center - 0.5*width, center+0.5*width]*u.nm\n",
    "\n",
    "\n",
    "\n",
    "print()\n",
    "for siglimit in [5, 10]:\n",
    "    print()\n",
    "    for nframes, explimit in enumerate([300, 600, 900]):\n",
    "        for swiftmag in np.arange(20, 24, 0.05):\n",
    "            band1_fluence, foo = bb_abmag_fluence(swiftmag=swiftmag*u.ABmag, bbtemp=20e3*u.K, light=light)\n",
    "            band1_rate = trans_eff  * efficiency * area * band1_fluence\n",
    "            exposure1 = calc_exposure(siglimit, band1_rate, bgd_band1,read_noise*(nframes+1)**0.5, neff)\n",
    "            if (exposure1.value > explimit):\n",
    "                bbmag1, foo = bb_abmag(swiftmag=swiftmag*u.ABmag, bbtemp=20e3*u.K, bandone = bandone)\n",
    "                print('Band 1 {}-s {}-σ magnitude limit: {}'.format(explimit, siglimit, bbmag1))\n",
    "                break\n",
    "\n",
    "print()\n",
    "\n",
    "for siglimit in [5, 10]:\n",
    "    print()\n",
    "    for nframes, explimit in enumerate([300, 600, 900, 1200]):\n",
    "        for swiftmag in np.arange(20, 24, 0.05):\n",
    "            foo, band2_fluence = bb_abmag_fluence(swiftmag=swiftmag*u.ABmag, bbtemp=20e3*u.K, light=light)\n",
    "            band2_rate = trans_eff  * efficiency * area * band2_fluence\n",
    "            exposure2 = calc_exposure(siglimit, band2_rate, bgd_band2,read_noise*(nframes+1)**0.5, neff)\n",
    "            if (exposure2.value > explimit):\n",
    "                foo, bbmag2 = bb_abmag(swiftmag=swiftmag*u.ABmag, bbtemp=20e3*u.K, bandtwo = bandtwo)\n",
    "                print('Band 2 {}-s {}-σ magnitude limit: {}'.format(explimit, siglimit, bbmag2))\n",
    "                break"
   ]
  },
  {
   "cell_type": "code",
   "execution_count": null,
   "metadata": {
    "collapsed": true
   },
   "outputs": [],
   "source": []
  }
 ],
 "metadata": {
  "anaconda-cloud": {},
  "kernelspec": {
   "display_name": "Python [conda env:nickenv]",
   "language": "python",
   "name": "conda-env-nickenv-py"
  },
  "language_info": {
   "codemirror_mode": {
    "name": "ipython",
    "version": 3
   },
   "file_extension": ".py",
   "mimetype": "text/x-python",
   "name": "python",
   "nbconvert_exporter": "python",
   "pygments_lexer": "ipython3",
   "version": "3.7.2"
  }
 },
 "nbformat": 4,
 "nbformat_minor": 2
}
