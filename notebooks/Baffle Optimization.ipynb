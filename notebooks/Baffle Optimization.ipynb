{
 "cells": [
  {
   "cell_type": "code",
   "execution_count": 2,
   "metadata": {},
   "outputs": [],
   "source": [
    "import numpy as np\n",
    "\n",
    "from astropy import units as u\n",
    "import matplotlib\n",
    "import matplotlib.pyplot as plt\n",
    "%matplotlib inline\n",
    "font = {'family' : 'normal',\n",
    "        'weight' : 'bold',\n",
    "        'size'   : 20}\n",
    "\n",
    "matplotlib.rc('font', **font)\n",
    "\n",
    "imp = u.imperial\n",
    "faring_height = (82.7 * imp.inch).cgs\n",
    "faring_radius = (13.95*imp.inch).cgs\n",
    "\n",
    "fudge = 5*u.cm\n",
    "faring_diameter = 2 * faring_radius\n",
    "bus_height = 60 * u.cm\n",
    "fudge = 5*u.cm\n",
    "\n",
    "\n",
    "from astroduet.config import Telescope\n",
    "duet = Telescope()\n",
    "\n"
   ]
  },
  {
   "cell_type": "code",
   "execution_count": 28,
   "metadata": {},
   "outputs": [],
   "source": [
    "def extra_length(epd, earth_avoid_angle, **kwargs):\n",
    "    from astropy import units as u\n",
    "    import numpy as np\n",
    "\n",
    "    diag = kwargs.pop('diag', False)\n",
    "    fov = kwargs.pop('fov', 4.0*u.deg)\n",
    "    sun_avoid_angle = kwargs.pop('sun_avoid_angle', 45*u.deg)\n",
    "    \n",
    "    h = epd / np.tan(earth_avoid_angle)\n",
    "    h1 = (np.tan(fov) * epd) / (np.tan(earth_avoid_angle) * (np.tan(earth_avoid_angle) - np.tan(fov)))\n",
    "\n",
    "    baffle_height = h + h1\n",
    "\n",
    "    epd_delta = baffle_height * np.tan(fov)\n",
    "    baffle_opening = epd+2*epd_delta\n",
    "\n",
    "    sh0 = (baffle_opening) / np.tan(sun_avoid_angle)\n",
    "    sh1 = (np.tan(fov) * baffle_opening) / (np.tan(sun_avoid_angle) * (np.tan(sun_avoid_angle) - np.tan(fov)))\n",
    "    \n",
    "    sun_shield = sh0 + sh1\n",
    "    sun_shield_diameter = baffle_opening + 2 * sun_shield*np.tan(fov)\n",
    "    \n",
    "    if diag:\n",
    "        print('Earth baffle diameter at bottom: {}'.format(epd))\n",
    "        print('Earth baffle height for {} earth avoidance is {:.2f}'.format(earth_avoid_angle, baffle_height))\n",
    "        print('Earth baffle diameter at top: {}'.format(baffle_opening))\n",
    "        print('Sun scarf height for {} sun avoidance is {:.2f}'.format(sun_avoid_angle, sun_shield))\n",
    "        print('Sun scarf \"diameter\" at top: {}'.format(sun_shield_diameter))\n",
    "        print('Length of baffle + sun-shield {:.2f}'.format(sun_shield + baffle_height))\n",
    "        \n",
    "    return sun_shield+baffle_height\n",
    "\n",
    "    \n"
   ]
  },
  {
   "cell_type": "code",
   "execution_count": 32,
   "metadata": {},
   "outputs": [
    {
     "name": "stdout",
     "output_type": "stream",
     "text": [
      "Earth Avoidance Angle we can fit: 35.09999999999993 deg\n",
      "Earth baffle diameter at bottom: 27.0 cm\n",
      "Earth baffle height for 35.09999999999993 deg earth avoidance is 42.08 cm\n",
      "Earth baffle diameter at top: 32.147332436295166 cm\n",
      "Sun scarf height for 45.0 deg sun avoidance is 34.24 cm\n",
      "Sun scarf \"diameter\" at top: 36.33594938924952 cm\n",
      "Length of baffle + sun-shield 76.32 cm\n"
     ]
    }
   ],
   "source": [
    "\n",
    "# Margin around EPD opening:\n",
    "\n",
    "epd = duet.EPD + 10*u.mm\n",
    "\n",
    "# Margin below Doug's sun-shield length\n",
    "length_to_match = 773 * u.mm - 10*u.mm\n",
    "\n",
    "# Inputs:\n",
    "sun_avoid = 45*u.deg\n",
    "fov = 3.5*u.deg\n",
    "\n",
    "for angle in np.arange(40, 30, -0.1):\n",
    "    earth_avoid_angle = angle*u.deg\n",
    "    lengths = extra_length(epd, earth_avoid_angle, fov=fov, sun_avoid_angle=sun_avoid)\n",
    "    if lengths > length_to_match:\n",
    "        break\n",
    "    \n",
    "print('Earth Avoidance Angle we can fit: {}'.format(earth_avoid_angle))\n",
    "lengths = extra_length(epd, earth_avoid_angle, fov=fov, sun_avoid_angle=sun_avoid, diag=True)\n",
    "\n",
    "\n"
   ]
  },
  {
   "cell_type": "code",
   "execution_count": null,
   "metadata": {},
   "outputs": [],
   "source": []
  }
 ],
 "metadata": {
  "anaconda-cloud": {},
  "kernelspec": {
   "display_name": "Python (duet)",
   "language": "python",
   "name": "duet"
  },
  "language_info": {
   "codemirror_mode": {
    "name": "ipython",
    "version": 3
   },
   "file_extension": ".py",
   "mimetype": "text/x-python",
   "name": "python",
   "nbconvert_exporter": "python",
   "pygments_lexer": "ipython3",
   "version": "3.6.7"
  }
 },
 "nbformat": 4,
 "nbformat_minor": 2
}
