{
 "cells": [
  {
   "cell_type": "code",
   "execution_count": 134,
   "metadata": {},
   "outputs": [
    {
     "name": "stdout",
     "output_type": "stream",
     "text": [
      "The autoreload extension is already loaded. To reload it, use:\n",
      "  %reload_ext autoreload\n"
     ]
    }
   ],
   "source": [
    "%load_ext autoreload\n",
    "%autoreload 2\n",
    "import numpy as np\n",
    "import numpy as np\n",
    "import matplotlib.pyplot as plt\n",
    "from astropy import units as u\n",
    "from astroduet.bbmag import bb_abmag_fluence\n",
    "from astroduet.image_utils import construct_image, find, ap_phot, run_daophot\n",
    "from astroduet.config import Telescope\n",
    "from astroduet.background import background_pixel_rate\n",
    "from astroduet.utils import duet_abmag_to_fluence\n",
    "from astropy.table import Table\n",
    "from astropy.io import fits\n",
    "from astropy.stats import sigma_clipped_stats\n",
    "from astroduet.diff_image import py_zogy\n",
    "from astroduet.image_utils import estimate_background"
   ]
  },
  {
   "cell_type": "code",
   "execution_count": 127,
   "metadata": {
    "scrolled": false
   },
   "outputs": [
    {
     "name": "stdout",
     "output_type": "stream",
     "text": [
      "-----\n",
      "Background Computation Integrating over Pixel Area\n",
      "Telescope diameter: 26.0 cm\n",
      "Collecting Area: 459.9605804120816 cm2\n",
      "Transmission Efficiency: 0.8166518036622619\n",
      "\n",
      "\n",
      "Pixel Size: 6.4 arcsec\n",
      "Pixel Area: 40.96000000000001 arcsec2\n",
      "\n",
      "Zodi Level: 77\n",
      "Band1 Rate: 0.030369732491096913 ph / s\n",
      "Band2 Rate: 0.2478588509265617 ph / s\n",
      "-----\n",
      "7\n"
     ]
    },
    {
     "name": "stderr",
     "output_type": "stream",
     "text": [
      "/Users/mheida/software/miniconda2/envs/duet/lib/python3.6/site-packages/scipy/stats/_binned_statistic.py:607: FutureWarning: Using a non-tuple sequence for multidimensional indexing is deprecated; use `arr[tuple(seq)]` instead of `arr[seq]`. In the future this will be interpreted as an array index, `arr[np.array(seq)]`, which will result either in an error or a different result.\n",
      "  result = result[core]\n"
     ]
    }
   ],
   "source": [
    "duet = Telescope()\n",
    "[bgd_band1, bgd_band2] = background_pixel_rate(duet, low_zodi = True, diag=True)\n",
    "print(duet.read_noise)"
   ]
  },
  {
   "cell_type": "code",
   "execution_count": 128,
   "metadata": {},
   "outputs": [],
   "source": [
    "hdu_ref20 = fits.open('../astroduet/data/image_library/tel_best/gal_spiral/zodi_low/duet1/best_duet1_spiral_20.0_zodi-low_reference.fits')\n",
    "hdu_ref21 = fits.open('../astroduet/data/image_library/tel_best/gal_spiral/zodi_low/duet1/best_duet1_spiral_21.0_zodi-low_reference.fits')\n",
    "\n",
    "hdu_im20 = fits.open('../astroduet/data/image_library/tel_best/gal_spiral/zodi_low/duet1/best_duet1_spiral_20.0_zodi-low_src-19.80.fits')\n",
    "hdu_im21 = fits.open('../astroduet/data/image_library/tel_best/gal_spiral/zodi_low/duet1/best_duet1_spiral_21.0_zodi-low_src-20.80.fits')"
   ]
  },
  {
   "cell_type": "code",
   "execution_count": 129,
   "metadata": {},
   "outputs": [],
   "source": [
    "image_rate = hdu_im20[1].data / hdu_im20[1].header['EXPTIME'] *u.ph / u.s\n",
    "ref_image_rate = hdu_ref20[2].data / hdu_ref20[2].header['EXPTIME'] *u.ph / u.s"
   ]
  },
  {
   "cell_type": "code",
   "execution_count": 130,
   "metadata": {},
   "outputs": [
    {
     "name": "stdout",
     "output_type": "stream",
     "text": [
      "0.04304141208418194 ph / s 0.043333333333333335 ph / s 0.02399613107906472 ph / s\n"
     ]
    }
   ],
   "source": [
    "image_bkg_mean, image_bkg_median, image_bkg_std = sigma_clipped_stats(image_rate, sigma=2, maxiters=None)\n",
    "ref_bkg_mean, ref_bkg_median, ref_bkg_std = sigma_clipped_stats(ref_image_rate, sigma=1)\n",
    "image_rate_bkgsub, ref_rate_bkgsub = image_rate - image_bkg_median, ref_image_rate - ref_bkg_median\n",
    "print(image_bkg_mean, image_bkg_median, image_bkg_std)"
   ]
  },
  {
   "cell_type": "code",
   "execution_count": 137,
   "metadata": {},
   "outputs": [
    {
     "name": "stdout",
     "output_type": "stream",
     "text": [
      "0.025343850912321955 ph / s\n"
     ]
    }
   ],
   "source": [
    "image_bkg, image_bkg_rms_median = estimate_background(image_rate, bkg_method='1D', diag=True)\n",
    "ref_bkg, ref_bkg_rms_median = estimate_background(ref_image_rate)\n",
    "image_rate_bkgsub2, ref_rate_bkgsub2 = image_rate - image_bkg, ref_image_rate - ref_bkg\n",
    "print(image_bkg_rms_median)"
   ]
  },
  {
   "cell_type": "code",
   "execution_count": 138,
   "metadata": {},
   "outputs": [
    {
     "data": {
      "text/plain": [
       "<matplotlib.colorbar.Colorbar at 0x11cc93c50>"
      ]
     },
     "execution_count": 138,
     "metadata": {},
     "output_type": "execute_result"
    },
    {
     "data": {
      "image/png": "[encoded data removed]",
      "text/plain": [
       "<Figure size 576x432 with 2 Axes>"
      ]
     },
     "metadata": {
      "needs_background": "light"
     },
     "output_type": "display_data"
    }
   ],
   "source": [
    "plt.figure(figsize=[8,6])\n",
    "plt.imshow(ref_image_rate.value, cmap='viridis', aspect=1, origin='lower', vmin=0, vmax=0.1)\n",
    "plt.colorbar()"
   ]
  },
  {
   "cell_type": "code",
   "execution_count": 139,
   "metadata": {},
   "outputs": [
    {
     "data": {
      "text/plain": [
       "<matplotlib.colorbar.Colorbar at 0x11e0ca518>"
      ]
     },
     "execution_count": 139,
     "metadata": {},
     "output_type": "execute_result"
    },
    {
     "data": {
      "image/png": "[encoded data removed]",
      "text/plain": [
       "<Figure size 576x432 with 2 Axes>"
      ]
     },
     "metadata": {
      "needs_background": "light"
     },
     "output_type": "display_data"
    }
   ],
   "source": [
    "plt.figure(figsize=[8,6])\n",
    "plt.imshow(ref_bkg.value, cmap='viridis', aspect=1, origin='lower', vmin=0, vmax=3)\n",
    "plt.colorbar()"
   ]
  },
  {
   "cell_type": "code",
   "execution_count": 140,
   "metadata": {},
   "outputs": [],
   "source": [
    "# Make a 2D array containing the PSF (oversample then bin up for more accurate PSF)\n",
    "\n",
    "oversample = 5\n",
    "pixel_size_init = duet.pixel / oversample\n",
    "\n",
    "psf_model = duet.psf_model(pixel_size=pixel_size_init, x_size=25, y_size=25)\n",
    "\n",
    "psf_os = psf_model.array\n",
    "\n",
    "#psf_os = gaussian_psf(psf_fwhm,(25,25),pixel_size_init)\n",
    "shape = (5, 5, 5, 5)\n",
    "psf_array = psf_os.reshape(shape).sum(-1).sum(1)\n",
    "\n",
    "# Use ZOGY algorithm to create difference image\n",
    "s_n, s_r = np.sqrt(image_rate), np.sqrt(ref_image_rate) # 2D uncertainty (sigma) - that is, noise on the background\n",
    "sn, sr = np.mean(s_n), np.mean(s_r) # Average uncertainty (sigma)\n",
    "dx, dy = 0.1, 0.01 # Astrometric uncertainty (sigma)\n",
    "diff_image2, d_psf2, s_corr2 = py_zogy(image_rate_bkgsub2.value,\n",
    "                                    ref_rate_bkgsub2.value,\n",
    "                                    psf_array,psf_array,\n",
    "                                    s_n.value,s_r.value,\n",
    "                                    sn.value,sr.value,dx,dy)\n",
    "\n",
    "diff_image, d_psf, s_corr = py_zogy(image_rate_bkgsub.value,\n",
    "                                    ref_rate_bkgsub.value,\n",
    "                                    psf_array,psf_array,\n",
    "                                    s_n.value,s_r.value,\n",
    "                                    sn.value,sr.value,dx,dy)\n",
    "\n",
    "\n",
    "diff_image *= image_rate_bkgsub.unit\n",
    "diff_image2 *= image_rate_bkgsub2.unit"
   ]
  },
  {
   "cell_type": "code",
   "execution_count": 141,
   "metadata": {},
   "outputs": [
    {
     "data": {
      "image/png": "[encoded data removed]",
      "text/plain": [
       "<Figure size 432x288 with 2 Axes>"
      ]
     },
     "metadata": {
      "needs_background": "light"
     },
     "output_type": "display_data"
    }
   ],
   "source": [
    "plt.imshow(diff_image.value)\n",
    "plt.colorbar()\n",
    "plt.show()"
   ]
  },
  {
   "cell_type": "code",
   "execution_count": 142,
   "metadata": {},
   "outputs": [
    {
     "data": {
      "image/png": "[encoded data removed]",
      "text/plain": [
       "<Figure size 432x288 with 2 Axes>"
      ]
     },
     "metadata": {
      "needs_background": "light"
     },
     "output_type": "display_data"
    }
   ],
   "source": [
    "plt.imshow(diff_image2.value)\n",
    "plt.colorbar()\n",
    "plt.show()"
   ]
  },
  {
   "cell_type": "code",
   "execution_count": 143,
   "metadata": {},
   "outputs": [
    {
     "name": "stdout",
     "output_type": "stream",
     "text": [
      "0.06228470265477223 ph / s\n"
     ]
    }
   ],
   "source": [
    "diff_bkg, sky = estimate_background(diff_image)\n",
    "print(sky)"
   ]
  },
  {
   "cell_type": "code",
   "execution_count": 144,
   "metadata": {},
   "outputs": [
    {
     "name": "stdout",
     "output_type": "stream",
     "text": [
      "0.29583656042730927 ph / s\n"
     ]
    }
   ],
   "source": [
    "diff_bkg, sky = estimate_background(diff_image2)\n",
    "print(sky)"
   ]
  },
  {
   "cell_type": "code",
   "execution_count": 160,
   "metadata": {},
   "outputs": [
    {
     "name": "stdout",
     "output_type": "stream",
     "text": [
      "0.2362643471925169 ph / s\n"
     ]
    }
   ],
   "source": [
    "diff_bkg_mean, diff_bkg_median, sky = sigma_clipped_stats(diff_image, sigma=100)\n",
    "print(sky)"
   ]
  },
  {
   "cell_type": "code",
   "execution_count": 161,
   "metadata": {},
   "outputs": [
    {
     "name": "stdout",
     "output_type": "stream",
     "text": [
      "0.7860255862675863 ph / s\n"
     ]
    }
   ],
   "source": [
    "diff_bkg_mean, diff_bkg_median, sky = sigma_clipped_stats(diff_image2, sigma=100)\n",
    "print(sky)"
   ]
  },
  {
   "cell_type": "code",
   "execution_count": 62,
   "metadata": {},
   "outputs": [
    {
     "data": {
      "image/png": "[encoded data removed]",
      "text/plain": [
       "<Figure size 432x288 with 2 Axes>"
      ]
     },
     "metadata": {
      "needs_background": "light"
     },
     "output_type": "display_data"
    }
   ],
   "source": [
    "plt.imshow(diff_bkg.value)\n",
    "plt.colorbar()\n",
    "plt.show()"
   ]
  },
  {
   "cell_type": "code",
   "execution_count": null,
   "metadata": {},
   "outputs": [],
   "source": []
  }
 ],
 "metadata": {
  "kernelspec": {
   "display_name": "Python [conda env:duet]",
   "language": "python",
   "name": "conda-env-duet-py"
  },
  "language_info": {
   "codemirror_mode": {
    "name": "ipython",
    "version": 3
   },
   "file_extension": ".py",
   "mimetype": "text/x-python",
   "name": "python",
   "nbconvert_exporter": "python",
   "pygments_lexer": "ipython3",
   "version": "3.6.8"
  }
 },
 "nbformat": 4,
 "nbformat_minor": 2
}
