{
 "cells": [
  {
   "cell_type": "code",
   "execution_count": 1,
   "metadata": {},
   "outputs": [],
   "source": [
    "import astropy.units as u\n",
    "from astroduet.duet_telescope import load_telescope_parameters\n",
    "from astroduet.duet_sensitivity import src_rate, bgd_sky_qe_rate, bgd_electronics, calc_exposure\n",
    "from astroduet.bbmag import bb_abmag_fluence\n",
    "import numpy as np\n",
    "from matplotlib import pyplot as plt\n",
    "from astroduet.bbmag import bb_abmag_fluence, bb_abmag\n",
    "\n",
    "import astroduet.config as config\n",
    "from astroduet.background import background_pixel_rate\n",
    "\n",
    "\n",
    "\n",
    "\n",
    "from astropy.visualization import quantity_support\n",
    "import matplotlib\n",
    "font = {'family' : 'normal',\n",
    "        'weight' : 'bold',\n",
    "        'size'   : 22}\n",
    "\n",
    "matplotlib.rc('font', **font)"
   ]
  },
  {
   "cell_type": "code",
   "execution_count": 2,
   "metadata": {},
   "outputs": [
    {
     "name": "stdout",
     "output_type": "stream",
     "text": [
      "-----\n",
      "DUET Telescope State:\n",
      "Physical Entrance Pupil: 26.0 cm\n",
      "Effective EPD: 24.2 cm\n",
      "Effective Area: 459.9605804120816 cm2\n",
      "Transmission Efficiency: 0.8166518036622619\n",
      "\n",
      "Pixel size: 6.4 arcsec\n",
      "PSF FWHM: 5.0 arcsec\n",
      "Pointing jitter: 5.0 arcsec\n",
      "Effective PSF FWHM: 7.0710678118654755 arcsec\n",
      "N_eff: 3.3581908798935647\n",
      "\n",
      "Band 1: {'eff_wave': <Quantity 202.56878682 nm>, 'eff_width': <Quantity 53.32814342 nm>}\n",
      "Bandpass 1: [175.90471511 229.23285853] nm\n",
      "Band 2: {'eff_wave': <Quantity 281.7531854 nm>, 'eff_width': <Quantity 68.16239088 nm>}\n",
      "Bandpass 2: [247.67198996 315.83438085] nm\n",
      "\n",
      "\n",
      "Dark current: 0.0115 ph / s\n",
      "Read noise (RMS per read): 7\n",
      "-----\n",
      "\n",
      "Number of effective bgd pixels: 3.3581908798935647\n"
     ]
    }
   ],
   "source": [
    "duet = config.Telescope()\n",
    "duet.info()\n",
    "print()\n",
    "neff = duet.neff\n",
    "print('Number of effective bgd pixels: {}'.format(neff))\n",
    "duet.read_noise = 3"
   ]
  },
  {
   "cell_type": "code",
   "execution_count": 16,
   "metadata": {},
   "outputs": [
    {
     "name": "stdout",
     "output_type": "stream",
     "text": [
      "For 15e3 K source\n",
      "Band 1 Photometric Zero Point (Swift UVW2): 20.800000000000026\n",
      "Band 1 Photometric Zero Point: 20.800470091092407 mag(AB)\n",
      "\n"
     ]
    }
   ],
   "source": [
    "# Band one\n",
    "bandone = duet.bandpass1\n",
    "\n",
    "print('For 15e3 K source')\n",
    "for swiftmag in np.arange(19, 25, 0.05):\n",
    "    band1_fluence, band2_fluence = bb_abmag_fluence(duet = duet, swiftmag=swiftmag*u.ABmag, bbtemp=15e3*u.K)\n",
    "    band1_rate = duet.fluence_to_rate(band1_fluence)\n",
    "\n",
    "    if (band1_rate.value < 1.0):\n",
    "        bbmag1, foo = bb_abmag(swiftmag=swiftmag*u.ABmag, bbtemp=15e3*u.K, bandone = bandone)\n",
    "        print('Band 1 Photometric Zero Point (Swift UVW2): {}'.format(swiftmag))\n",
    "        print('Band 1 Photometric Zero Point: {}'.format(bbmag1))\n",
    "        break\n",
    "print()\n"
   ]
  },
  {
   "cell_type": "code",
   "execution_count": 17,
   "metadata": {},
   "outputs": [
    {
     "name": "stdout",
     "output_type": "stream",
     "text": [
      "Band 2 Photometric Zero Point: 21.00000000000003\n",
      "Band 2 Photometric Zero Point: 20.588257363507964 mag(AB)\n",
      "\n"
     ]
    }
   ],
   "source": [
    "# Band Two\n",
    "bandtwo = duet.bandpass2\n",
    "\n",
    "print('For 15e3 K source')\n",
    "for swiftmag in np.arange(19, 25, 0.05):\n",
    "    band1_fluence, band2_fluence = bb_abmag_fluence(duet = duet, swiftmag=swiftmag*u.ABmag, bbtemp=15e3*u.K)\n",
    "    band2_rate = duet.fluence_to_rate(band2_fluence)\n",
    "    if (band2_rate.value < 1.0):\n",
    "        foo, bbmag2 = bb_abmag(swiftmag=swiftmag*u.ABmag, bbtemp=15e3*u.K, bandtwo = bandtwo)\n",
    "        print('Band 2 Photometric Zero Point: {}'.format(swiftmag))\n",
    "        print('Band 2 Photometric Zero Point: {}'.format(bbmag2))\n",
    "        break\n",
    "print()       \n"
   ]
  },
  {
   "cell_type": "code",
   "execution_count": 58,
   "metadata": {},
   "outputs": [
    {
     "name": "stdout",
     "output_type": "stream",
     "text": [
      "Sky background rate per pixel band1: 0.030369732491096913 ph / s\n",
      "Sky background rate per pixel band2: 0.2478588509265617 ph / s\n",
      "\n",
      "\n",
      "Band 1 300.0 s 5-σ magnitude limit: 22.650470091092423 mag(AB)\n",
      "Band 1 600.0 s 5-σ magnitude limit: 23.15047009109243 mag(AB)\n",
      "Band 1 900.0 s 5-σ magnitude limit: 23.40047009109243 mag(AB)\n",
      "Band 1 1200.0 s 5-σ magnitude limit: 23.600470091092433 mag(AB)\n",
      "\n",
      "Band 2 300.0 s 5-σ magnitude limit: 21.83825736350797 mag(AB)\n",
      "Band 2 600.0 s 5-σ magnitude limit: 22.238257363507977 mag(AB)\n",
      "Band 2 900.0 s 5-σ magnitude limit: 22.488257363507977 mag(AB)\n",
      "Band 2 1200.0 s 5-σ magnitude limit: 22.68825736350798 mag(AB)\n",
      "\n",
      "\n",
      "Band 1 300-s 5-σ magnitude limit: 22.65047009109241 mag(AB)\n",
      "Band 1 600-s 5-σ magnitude limit: 23.150470091092416 mag(AB)\n",
      "Band 1 900-s 5-σ magnitude limit: 23.400470091092416 mag(AB)\n",
      "Band 1 1200-s 5-σ magnitude limit: 23.60047009109242 mag(AB)\n",
      "\n",
      "Band 2 300-s 5-σ magnitude limit: 21.838257363507957 mag(AB)\n",
      "Band 2 600-s 5-σ magnitude limit: 22.238257363507962 mag(AB)\n",
      "Band 2 900-s 5-σ magnitude limit: 22.488257363507962 mag(AB)\n",
      "Band 2 1200-s 5-σ magnitude limit: 22.688257363507965 mag(AB)\n"
     ]
    }
   ],
   "source": [
    "# Individual channels\n",
    "# 5-sigma limiting magnitude in 1, 2, 3, and 4 stacked frames.\n",
    "# Assume read noise is 3 e-\n",
    "duet = config.Telescope()\n",
    "duet.read_noise=3\n",
    "\n",
    "[bgd_band1, bgd_band2] = background_pixel_rate(duet, low_zodi=True)\n",
    "print('Sky background rate per pixel band1: {}'.format(bgd_band1))\n",
    "print('Sky background rate per pixel band2: {}'.format(bgd_band2))\n",
    "\n",
    "bandone = duet.bandpass1\n",
    "bandtwo = duet.bandpass2\n",
    "exposure = 300*u.s\n",
    "print()\n",
    "siglimit=5\n",
    "dmag = 0.05\n",
    "print()\n",
    "for nframes in np.arange(1, 5):\n",
    "    snr = 100\n",
    "    swiftmag = 20 \n",
    "    while snr > siglimit:\n",
    "        swiftmag += dmag\n",
    "        band1_fluence, foo = bb_abmag_fluence(duet =duet, swiftmag=swiftmag*u.ABmag, bbtemp=15e3*u.K)\n",
    "        band1_rate = duet.fluence_to_rate(band1_fluence)\n",
    "        snr = duet.calc_snr(exposure, band1_rate, bgd_band1, nint=nframes)\n",
    "    bbmag1, foo = bb_abmag(swiftmag=swiftmag*u.ABmag, bbtemp=15e3*u.K, bandone = bandone)\n",
    "    print('Band 1 {} {}-σ magnitude limit: {}'.format(nframes*exposure, siglimit, bbmag1))\n",
    "print()\n",
    "\n",
    "for nframes in np.arange(1, 5):\n",
    "    snr = 100\n",
    "    swiftmag = 20 \n",
    "    while snr > siglimit:\n",
    "        swiftmag += dmag\n",
    "        foo, band2_fluence = bb_abmag_fluence(duet =duet, swiftmag=swiftmag*u.ABmag, bbtemp=15e3*u.K)\n",
    "        band2_rate = duet.fluence_to_rate(band2_fluence)\n",
    "        snr = duet.calc_snr(exposure, band2_rate, bgd_band2, nint=nframes)\n",
    "    foo, bbmag2 = bb_abmag(swiftmag=swiftmag*u.ABmag, bbtemp=15e3*u.K, bandtwo = bandtwo)\n",
    "    print('Band 2 {} {}-σ magnitude limit: {}'.format(nframes*exposure, siglimit, bbmag2))\n",
    "print()\n"
   ]
  },
  {
   "cell_type": "code",
   "execution_count": 60,
   "metadata": {},
   "outputs": [
    {
     "name": "stdout",
     "output_type": "stream",
     "text": [
      "-----\n",
      "DUET Telescope State:\n",
      "Physical Entrance Pupil: 26.0 cm\n",
      "Effective EPD: 24.2 cm\n",
      "Effective Area: 459.9605804120816 cm2\n",
      "Transmission Efficiency: 0.8166518036622619\n",
      "\n",
      "Pixel size: 6.4 arcsec\n",
      "PSF FWHM: 5.0 arcsec\n",
      "Pointing jitter: 5.0 arcsec\n",
      "Effective PSF FWHM: 7.0710678118654755 arcsec\n",
      "N_eff: 3.3581908798935647\n",
      "\n",
      "Band 1: {'eff_wave': <Quantity 202.56878682 nm>, 'eff_width': <Quantity 53.32814342 nm>}\n",
      "Bandpass 1: [175.90471511 229.23285853] nm\n",
      "Band 2: {'eff_wave': <Quantity 281.7531854 nm>, 'eff_width': <Quantity 68.16239088 nm>}\n",
      "Bandpass 2: [247.67198996 315.83438085] nm\n",
      "\n",
      "\n",
      "Dark current: 0.0115 ph / s\n",
      "Read noise (RMS per read): 4.242640687119286\n",
      "-----\n",
      "Sky background rate per pixel band1: 0.030369732491096913 ph / s\n",
      "Sky background rate per pixel band2: 0.2478588509265617 ph / s\n",
      "\n",
      "\n",
      "Stacked Bands 300.0 s 5-σ magnitude limit: 22.80047009109242 mag(AB)\n",
      "Stacked Bands 600.0 s 5-σ magnitude limit: 23.200470091092427 mag(AB)\n",
      "Stacked Bands 900.0 s 5-σ magnitude limit: 23.450470091092434 mag(AB)\n",
      "Stacked Bands 1200.0 s 5-σ magnitude limit: 23.600470091092433 mag(AB)\n",
      "\n"
     ]
    }
   ],
   "source": [
    "# Individual channels\n",
    "# 5-sigma limiting magnitude in 1, 2, 3, and 4 stacked frames.\n",
    "duet = config.Telescope()\n",
    "\n",
    "# Account for the fact that you're co-adding the two frames here:\n",
    "duet.read_noise = (2**0.5) * 3\n",
    "duet.info()\n",
    "[bgd_band1, bgd_band2] = background_pixel_rate(duet, low_zodi=True)\n",
    "print('Sky background rate per pixel band1: {}'.format(bgd_band1))\n",
    "print('Sky background rate per pixel band2: {}'.format(bgd_band2))\n",
    "\n",
    "tot_bgd_rate = bgd_band1 + bgd_band2\n",
    "bandone = duet.bandpass1\n",
    "bandtwo = duet.bandpass2\n",
    "exposure = 300*u.s\n",
    "print()\n",
    "siglimit=5\n",
    "dmag = 0.05\n",
    "print()\n",
    "for nframes in np.arange(1, 5):\n",
    "    snr = 100\n",
    "    swiftmag = 20 \n",
    "    while snr > siglimit:\n",
    "        swiftmag += dmag\n",
    "        band1_fluence, band2_fluence = bb_abmag_fluence(duet =duet, swiftmag=swiftmag*u.ABmag, bbtemp=15e3*u.K)\n",
    "        band1_rate = duet.fluence_to_rate(band1_fluence)\n",
    "        band2_rate = duet.fluence_to_rate(band2_fluence)\n",
    "        src_rate = band1_rate + band2_rate\n",
    "        \n",
    "        snr = duet.calc_snr(exposure, src_rate, tot_bgd_rate, nint=nframes)\n",
    "    bbmag1, bbmag2 = bb_abmag(swiftmag=swiftmag*u.ABmag, bbtemp=15e3*u.K, bandone = bandone, bandtwo=bandtwo)\n",
    "    print('Stacked Bands {} {}-σ magnitude limit: {}'.format(nframes*exposure, siglimit, bbmag1))\n",
    "print()\n",
    "\n",
    "\n"
   ]
  },
  {
   "cell_type": "code",
   "execution_count": 12,
   "metadata": {},
   "outputs": [
    {
     "name": "stdout",
     "output_type": "stream",
     "text": [
      "151.18485439999114 seconds\n"
     ]
    }
   ],
   "source": [
    "# FOM: Time to 22 ABmag for this configuration for DUET1\n",
    "# Old FOM for this \n",
    "duet = config.Telescope()\n",
    "duet.read_noise = 3\n",
    "\n",
    "[bgd_band1, bgd_band2] = background_pixel_rate(duet, low_zodi=True)\n",
    "bandone = duet.bandpass1\n",
    "bandtwo = duet.bandpass2\n",
    "\n",
    "siglimit=5\n",
    "swiftmag = 21\n",
    "dmag = 0.05\n",
    "bbmag1 = 5*u.ABmag\n",
    "bbmag_target = 22*u.ABmag\n",
    "while bbmag1 < bbmag_target:\n",
    "    swiftmag+=dmag\n",
    "    bbmag1, bbmag2 = bb_abmag(swiftmag=swiftmag*u.ABmag, bbtemp=15e3*u.K, bandone = bandone, bandtwo=bandtwo)\n",
    "\n",
    "band1_fluence, foo = bb_abmag_fluence(swiftmag=swiftmag*u.ABmag, bbtemp=15e3*u.K)\n",
    "band1_rate = duet.fluence_to_rate(band1_fluence)\n",
    "req_exp = calc_exposure(siglimit, band1_rate, bgd_band1, duet.read_noise, duet.neff)\n",
    "print('{} seconds'.format(req_exp.value))\n",
    "\n",
    "# Note, a bit faster than previous FOM. Probably due to improved bandpass range?"
   ]
  },
  {
   "cell_type": "code",
   "execution_count": 20,
   "metadata": {},
   "outputs": [
    {
     "name": "stdout",
     "output_type": "stream",
     "text": [
      "Low-Zodi 10-sig, 472.7113937270214 seconds\n",
      "High-Zodi 10-sig, 964.1895106193286 seconds\n",
      "High-Zodi 5-sig, 261.494643494549 seconds\n"
     ]
    }
   ],
   "source": [
    "# FOM: Time to 22 ABmag for this configuration for DUET1\n",
    "# Old FOM for this \n",
    "duet = config.Telescope()\n",
    "duet.read_noise = 3\n",
    "\n",
    "\n",
    "bandone = duet.bandpass1\n",
    "bandtwo = duet.bandpass2\n",
    "\n",
    "siglimit=10\n",
    "swiftmag = 21\n",
    "dmag = 0.05\n",
    "bbmag1 = 5*u.ABmag\n",
    "bbmag_target = 22*u.ABmag\n",
    "while bbmag1 < bbmag_target:\n",
    "    swiftmag+=dmag\n",
    "    bbmag1, bbmag2 = bb_abmag(swiftmag=swiftmag*u.ABmag, bbtemp=15e3*u.K, bandone = bandone, bandtwo=bandtwo)\n",
    "\n",
    "\n",
    "# Low Zodi, 10-sigma case\n",
    "[bgd_band1, bgd_band2] = background_pixel_rate(duet, low_zodi=True)\n",
    "band1_fluence, foo = bb_abmag_fluence(duet = duet, swiftmag=swiftmag*u.ABmag, bbtemp=15e3*u.K)\n",
    "band1_rate = duet.fluence_to_rate(band1_fluence)\n",
    "req_exp = calc_exposure(siglimit, band1_rate, bgd_band1, duet.read_noise, duet.neff)\n",
    "print('Low-Zodi {}-sig, {} seconds'.format(siglimit, req_exp.value))\n",
    "\n",
    "\n",
    "# High Zodi, 10-sigma case.\n",
    "siglimit=10\n",
    "[bgd_band1, bgd_band2] = background_pixel_rate(duet, high_zodi=True)\n",
    "band1_fluence, foo = bb_abmag_fluence(duet = duet, swiftmag=swiftmag*u.ABmag, bbtemp=15e3*u.K)\n",
    "band1_rate = duet.fluence_to_rate(band1_fluence)\n",
    "req_exp = calc_exposure(siglimit, band1_rate, bgd_band1, duet.read_noise, duet.neff)\n",
    "print('High-Zodi {}-sig, {} seconds'.format(siglimit, req_exp.value))\n",
    "\n",
    "# High Zodi, 5-sigma case\n",
    "siglimit=5\n",
    "[bgd_band1, bgd_band2] = background_pixel_rate(duet, high_zodi=True)\n",
    "band1_fluence, foo = bb_abmag_fluence(duet = duet, swiftmag=swiftmag*u.ABmag, bbtemp=15e3*u.K)\n",
    "band1_rate = duet.fluence_to_rate(band1_fluence)\n",
    "\n",
    "req_exp = calc_exposure(siglimit, band1_rate, bgd_band1, duet.read_noise, duet.neff)\n",
    "print('High-Zodi {}-sig, {} seconds'.format(siglimit, req_exp.value))\n",
    "\n"
   ]
  },
  {
   "cell_type": "code",
   "execution_count": null,
   "metadata": {},
   "outputs": [],
   "source": []
  }
 ],
 "metadata": {
  "anaconda-cloud": {},
  "kernelspec": {
   "display_name": "Python 3",
   "language": "python",
   "name": "python3"
  },
  "language_info": {
   "codemirror_mode": {
    "name": "ipython",
    "version": 3
   },
   "file_extension": ".py",
   "mimetype": "text/x-python",
   "name": "python",
   "nbconvert_exporter": "python",
   "pygments_lexer": "ipython3",
   "version": "3.6.7"
  }
 },
 "nbformat": 4,
 "nbformat_minor": 2
}
