{
 "cells": [
  {
   "cell_type": "code",
   "execution_count": 2,
   "metadata": {
    "collapsed": true
   },
   "outputs": [],
   "source": [
    "from astroduet import config, utils\n",
    "from astropy import units as u\n",
    "import numpy as np"
   ]
  },
  {
   "cell_type": "code",
   "execution_count": 3,
   "metadata": {
    "collapsed": true
   },
   "outputs": [],
   "source": [
    "duet = config.Telescope()"
   ]
  },
  {
   "cell_type": "code",
   "execution_count": 4,
   "metadata": {
    "collapsed": false
   },
   "outputs": [
    {
     "name": "stdout",
     "output_type": "stream",
     "text": [
      "17.40000000000005 17824.063002088533 ph\n"
     ]
    }
   ],
   "source": [
    "exposure = 300*u.s\n",
    "\n",
    "\n",
    "for abmag in np.arange(14, 18, 0.05):\n",
    "    counts = exposure * duet.fluence_to_rate(utils.duet_abmag_to_fluence(abmag*u.ABmag, band = duet.bandpass1))\n",
    "    \n",
    "    if counts.value < 18e3:\n",
    "        print(abmag, counts)\n",
    "        break"
   ]
  },
  {
   "cell_type": "code",
   "execution_count": 24,
   "metadata": {
    "collapsed": false
   },
   "outputs": [
    {
     "name": "stdout",
     "output_type": "stream",
     "text": [
      "16.346000000000007 17296.520402368573 ph\n"
     ]
    }
   ],
   "source": [
    "exposure = 120*u.s\n",
    "\n",
    "\n",
    "for abmag in np.arange(14, 18, 0.051):\n",
    "    counts = exposure * duet.fluence_to_rate(utils.duet_abmag_to_fluence(abmag*u.ABmag, band = duet.bandpass2))\n",
    "    if counts.value < 18e3:\n",
    "        print(abmag, counts)\n",
    "        break"
   ]
  },
  {
   "cell_type": "code",
   "execution_count": 25,
   "metadata": {
    "collapsed": false
   },
   "outputs": [],
   "source": [
    "def saturation_distance(abs_mag = -17, sat_mag = 16.75):\n",
    "    \n",
    "    dist = ((10 * 10**((sat_mag - abs_mag) / 5))*u.pc).to(u.Mpc)\n",
    "    return dist"
   ]
  },
  {
   "cell_type": "code",
   "execution_count": 26,
   "metadata": {
    "collapsed": false
   },
   "outputs": [
    {
     "data": {
      "text/latex": [
       "$125.89254 \\; \\mathrm{Mpc}$"
      ],
      "text/plain": [
       "<Quantity 125.89254118 Mpc>"
      ]
     },
     "execution_count": 26,
     "metadata": {},
     "output_type": "execute_result"
    }
   ],
   "source": [
    "saturation_distance(abs_mag = -18, sat_mag=17.5)"
   ]
  }
 ],
 "metadata": {
  "kernelspec": {
   "display_name": "Python (duet)",
   "language": "python",
   "name": "duet"
  },
  "language_info": {
   "codemirror_mode": {
    "name": "ipython",
    "version": 3
   },
   "file_extension": ".py",
   "mimetype": "text/x-python",
   "name": "python",
   "nbconvert_exporter": "python",
   "pygments_lexer": "ipython3",
   "version": "3.6.7"
  }
 },
 "nbformat": 4,
 "nbformat_minor": 2
}
