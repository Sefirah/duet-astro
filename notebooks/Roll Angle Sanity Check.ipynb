{
 "cells": [
  {
   "cell_type": "code",
   "execution_count": 2,
   "metadata": {},
   "outputs": [],
   "source": [
    "from astropy import units as u\n",
    "import numpy as np"
   ]
  },
  {
   "cell_type": "code",
   "execution_count": 16,
   "metadata": {},
   "outputs": [
    {
     "name": "stdout",
     "output_type": "stream",
     "text": [
      "Distance 5.303300858899107 deg\n",
      "Roll Error == 2.5 arcsec translation: 27.00948933033796 arcsec\n",
      "\n",
      "Distance 3.75 deg\n",
      "Roll Error == 2.5 arcsec translation: 38.197185905415814 arcsec\n"
     ]
    }
   ],
   "source": [
    "rms = 2.5 * u.arcsec\n",
    "\n",
    "fov = 7.5 * u.deg\n",
    "furthest = 0.5*fov * np.sqrt(2)\n",
    "\n",
    "print('Distance {}'.format(furthest))\n",
    "print('Roll Error == {} translation: {}'.format(rms, np.arctan(rms/furthest).to(u.arcsec)))\n",
    "\n",
    "print()\n",
    "\n",
    "edge = fov * 0.5\n",
    "print('Distance {}'.format(edge))\n",
    "print('Roll Error == {} translation: {}'.format(rms, np.arctan(rms/edge).to(u.arcsec)))\n",
    "\n"
   ]
  },
  {
   "cell_type": "code",
   "execution_count": 18,
   "metadata": {},
   "outputs": [],
   "source": [
    "from astroduet.config import Telescope"
   ]
  },
  {
   "cell_type": "code",
   "execution_count": 19,
   "metadata": {},
   "outputs": [
    {
     "name": "stdout",
     "output_type": "stream",
     "text": [
      "-----\n",
      "        DUET Telescope State: minimum_mass\n",
      "        Physical Entrance Pupil: 26.0 cm\n",
      "        Effective EPD: 24.5 cm\n",
      "        Effective Area: 471.43524757931834 cm2\n",
      "        \n",
      "        Pixel size: 6.67 arcsec\n",
      "        Pointing RMS: 2.5 arcsec\n",
      "        DIQ RMS: 3.335 arcsec\n",
      "        Effective PSF FWHM: 11.5 arcsec\n",
      "        N_eff: 7.862666177549524\n",
      "\n",
      "        Band 1: {'eff_wave': <Quantity 199.29610824 nm>, 'eff_width': <Quantity 40.67279065 nm>}\n",
      "        Bandpass 1: [178.95971292 219.63250357] nm\n",
      "        Band 2: {'eff_wave': <Quantity 280.56077333 nm>, 'eff_width': <Quantity 51.25641246 nm>}\n",
      "        Bandpass 2: [254.9325671  306.18897956] nm\n",
      "\n",
      "        Dark current: 0.0115 ph / s\n",
      "        Read noise (RMS per read): 7\n",
      "        -----\n",
      "        \n"
     ]
    },
    {
     "data": {
      "text/plain": [
       "\"-----\\n        DUET Telescope State: minimum_mass\\n        Physical Entrance Pupil: 26.0 cm\\n        Effective EPD: 24.5 cm\\n        Effective Area: 471.43524757931834 cm2\\n        \\n        Pixel size: 6.67 arcsec\\n        Pointing RMS: 2.5 arcsec\\n        DIQ RMS: 3.335 arcsec\\n        Effective PSF FWHM: 11.5 arcsec\\n        N_eff: 7.862666177549524\\n\\n        Band 1: {'eff_wave': <Quantity 199.29610824 nm>, 'eff_width': <Quantity 40.67279065 nm>}\\n        Bandpass 1: [178.95971292 219.63250357] nm\\n        Band 2: {'eff_wave': <Quantity 280.56077333 nm>, 'eff_width': <Quantity 51.25641246 nm>}\\n        Bandpass 2: [254.9325671  306.18897956] nm\\n\\n        Dark current: 0.0115 ph / s\\n        Read noise (RMS per read): 7\\n        -----\\n        \""
      ]
     },
     "execution_count": 19,
     "metadata": {},
     "output_type": "execute_result"
    }
   ],
   "source": [
    "duet = Telescope()\n",
    "duet.info()"
   ]
  },
  {
   "cell_type": "code",
   "execution_count": 20,
   "metadata": {},
   "outputs": [
    {
     "name": "stdout",
     "output_type": "stream",
     "text": [
      "Distance 5.303300858899107 deg\n",
      "Roll Error == 3.75 arcsec translation: 40.514233706053396 arcsec\n",
      "\n",
      "Distance 3.75 deg\n",
      "Roll Error == 3.75 arcsec translation: 57.29577803942551 arcsec\n"
     ]
    }
   ],
   "source": [
    "rms = 3.75 * u.arcsec\n",
    "\n",
    "fov = 7.5 * u.deg\n",
    "furthest = 0.5*fov * np.sqrt(2)\n",
    "\n",
    "print('Distance {}'.format(furthest))\n",
    "print('Roll Error == {} translation: {}'.format(rms, np.arctan(rms/furthest).to(u.arcsec)))\n",
    "\n",
    "print()\n",
    "\n",
    "edge = fov * 0.5\n",
    "print('Distance {}'.format(edge))\n",
    "print('Roll Error == {} translation: {}'.format(rms, np.arctan(rms/edge).to(u.arcsec)))\n",
    "\n",
    "\n"
   ]
  },
  {
   "cell_type": "code",
   "execution_count": null,
   "metadata": {},
   "outputs": [],
   "source": []
  }
 ],
 "metadata": {
  "kernelspec": {
   "display_name": "Python (duet)",
   "language": "python",
   "name": "duet"
  },
  "language_info": {
   "codemirror_mode": {
    "name": "ipython",
    "version": 3
   },
   "file_extension": ".py",
   "mimetype": "text/x-python",
   "name": "python",
   "nbconvert_exporter": "python",
   "pygments_lexer": "ipython3",
   "version": "3.6.7"
  }
 },
 "nbformat": 4,
 "nbformat_minor": 2
}
