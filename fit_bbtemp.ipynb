{
 "cells": [
  {
   "cell_type": "code",
   "execution_count": 39,
   "metadata": {},
   "outputs": [],
   "source": [
    "import numpy as np\n",
    "import matplotlib.pyplot as plt\n",
    "import astropy.units as ur\n",
    "from bbmag import bb_abmag, sigerr\n",
    "from tdsat_sensitivity import find_limit, compute_snr\n",
    "from tdsat_telescope import load_telescope_parameters\n",
    "from astropy.visualization import quantity_support\n",
    "from astropy.modeling import models, fitting\n",
    "from astropy.modeling.blackbody import FLAM, FNU\n",
    "from scipy.optimize import curve_fit\n",
    "\n",
    "%matplotlib inline"
   ]
  },
  {
   "cell_type": "code",
   "execution_count": 2,
   "metadata": {},
   "outputs": [],
   "source": [
    "plt.rcParams['figure.figsize'] = [15,10]"
   ]
  },
  {
   "cell_type": "code",
   "execution_count": 3,
   "metadata": {},
   "outputs": [
    {
     "name": "stdout",
     "output_type": "stream",
     "text": [
      "Telescope Configuration 2\n",
      "Entrance Pupil diameter 30.0 cm\n",
      "Optical Effifiency 0.65\n",
      "PSF FWHM 9.0 arcsec\n",
      "Effective Aperture 24.18677324489565 cm\n",
      "Effective Area 459.45792558750725 cm2\n"
     ]
    }
   ],
   "source": [
    "# Setup:\n",
    "td1_band = [180,220]*ur.nm\n",
    "\n",
    "td2_bandwidth = [40,60,80,100,120,140,160,180,200]\n",
    "td2 = []\n",
    "for w in td2_bandwidth:\n",
    "    td2.append([260,260+w])\n",
    "    \n",
    "td2_band = td2*ur.nm\n",
    "    \n",
    "bbtemp = [15000,20000,30000]*ur.K\n",
    "\n",
    "dist = [100,200]*ur.Mpc\n",
    "\n",
    "# For the shock model after 1 hr:\n",
    "swiftmag_sh = -16.5*ur.ABmag\n",
    "\n",
    "# For the blue kilonova model after 1 hr:\n",
    "swiftmag_bk = -13.6*ur.ABmag\n",
    "\n",
    "# Satellite details:\n",
    "diameter, qe, psf_fwhm, efficiency = load_telescope_parameters(2, diag=True)\n",
    "outofband_qe = 0.001\n",
    "exposure = 300*ur.s"
   ]
  },
  {
   "cell_type": "code",
   "execution_count": 18,
   "metadata": {},
   "outputs": [],
   "source": [
    "bbmag = bb_abmag(bbtemp=bbtemp[0], bandone=td1_band, \n",
    "                                  bandtwo=td2_band[0], swiftmag=swiftmag_sh, \n",
    "                                  dist=dist[0], val=True)\n",
    "bbmag = bbmag*ur.ABmag"
   ]
  },
  {
   "cell_type": "code",
   "execution_count": 19,
   "metadata": {},
   "outputs": [],
   "source": [
    "snr = [0,0]\n",
    "snr[0] = compute_snr(td1_band,bbmag[0],\n",
    "                                  low_zodi=True,diameter=diameter,\n",
    "                                  exposure = exposure,\n",
    "                                  efficiency = efficiency, qe = qe,\n",
    "                                  outofband_qe = outofband_qe, psf_size = psf_fwhm)\n",
    "\n",
    "snr[1] = compute_snr(td2_band[0],bbmag[1],\n",
    "                                  low_zodi=True,diameter=diameter,\n",
    "                                  exposure = exposure,\n",
    "                                  efficiency = efficiency, qe = qe,\n",
    "                                  outofband_qe = outofband_qe, psf_size = psf_fwhm)\n",
    "\n",
    "sig = 2.5*np.log10(1.+1./np.array(snr))"
   ]
  },
  {
   "cell_type": "code",
   "execution_count": 62,
   "metadata": {},
   "outputs": [],
   "source": [
    "bb_init = models.BlackBody1D(temperature=10000*ur.K)\n",
    "fit_bb = fitting.LevMarLSQFitter()\n",
    "bb_fden = bbmag.to(FLAM,equivalencies=ur.spectral_density([200,280]*ur.nm))\n",
    "bb_fnu = bbmag.to(FNU,equivalencies=ur.spectral_density([200,280]*ur.nm))\n",
    "bb_err = bb_fden/snr"
   ]
  },
  {
   "cell_type": "code",
   "execution_count": 48,
   "metadata": {},
   "outputs": [],
   "source": [
    "bb = fit_bb(bb_init,[200,280]*ur.nm,bb_fnu)"
   ]
  },
  {
   "cell_type": "code",
   "execution_count": 64,
   "metadata": {},
   "outputs": [
    {
     "name": "stdout",
     "output_type": "stream",
     "text": [
      "[1.06367987e-15 8.04506008e-16] erg / (Angstrom cm2 s) [1.59286268e-17 1.19894451e-17] erg / (Angstrom cm2 s)\n"
     ]
    }
   ],
   "source": [
    "print(bb_fden,bb_err)"
   ]
  },
  {
   "cell_type": "code",
   "execution_count": 49,
   "metadata": {},
   "outputs": [
    {
     "name": "stdout",
     "output_type": "stream",
     "text": [
      "Model: BlackBody1D\n",
      "Inputs: ('x',)\n",
      "Outputs: ('y',)\n",
      "Model set size: 1\n",
      "Parameters:\n",
      "       temperature        bolometric_flux    \n",
      "            K              erg / (cm2 s)     \n",
      "    ------------------ ----------------------\n",
      "    14907.214006153004 3.1505847372874166e-12\n"
     ]
    }
   ],
   "source": [
    "print(bb)"
   ]
  },
  {
   "cell_type": "code",
   "execution_count": 56,
   "metadata": {},
   "outputs": [
    {
     "data": {
      "text/plain": [
       "0.00015501623025437233"
      ]
     },
     "execution_count": 56,
     "metadata": {},
     "output_type": "execute_result"
    }
   ],
   "source": [
    "bbfunc(200,10000,1.)"
   ]
  },
  {
   "cell_type": "code",
   "execution_count": 52,
   "metadata": {},
   "outputs": [
    {
     "data": {
      "text/latex": [
       "$0.00015501623 \\; \\mathrm{\\frac{erg}{\\mathring{A}\\,s\\,cm^{2}}}$"
      ],
      "text/plain": [
       "<Quantity 0.00015502 erg / (Angstrom cm2 s)>"
      ]
     },
     "execution_count": 52,
     "metadata": {},
     "output_type": "execute_result"
    }
   ],
   "source": [
    "bb_init(200*ur.nm).to(FLAM,equivalencies=ur.spectral_density(200*ur.nm))"
   ]
  },
  {
   "cell_type": "code",
   "execution_count": 55,
   "metadata": {},
   "outputs": [],
   "source": [
    "def bbfunc(x,*par):\n",
    "    temp,norm = par\n",
    "    mod = models.BlackBody1D(temperature=temp*ur.K,bolometric_flux = norm*ur.erg/(ur.cm**2 * ur.s))\n",
    "    return mod(x*ur.nm).to(FLAM, ur.spectral_density(x*ur.nm)).value"
   ]
  },
  {
   "cell_type": "code",
   "execution_count": 65,
   "metadata": {},
   "outputs": [],
   "source": [
    "coeff, var_matrix = curve_fit(bbfunc,[200,280],bb_fden.value,p0=[10000,3.E-12],sigma=bb_err.value,absolute_sigma=True)"
   ]
  },
  {
   "cell_type": "code",
   "execution_count": 66,
   "metadata": {},
   "outputs": [
    {
     "data": {
      "text/plain": [
       "array([1.49072140e+04, 3.15058474e-12])"
      ]
     },
     "execution_count": 66,
     "metadata": {},
     "output_type": "execute_result"
    }
   ],
   "source": [
    "coeff"
   ]
  },
  {
   "cell_type": "code",
   "execution_count": 67,
   "metadata": {},
   "outputs": [
    {
     "data": {
      "text/plain": [
       "array([[ 5.82927999e+04, -2.58006048e-12],\n",
       "       [-2.58006048e-12,  1.22179824e-27]])"
      ]
     },
     "execution_count": 67,
     "metadata": {},
     "output_type": "execute_result"
    }
   ],
   "source": [
    "var_matrix"
   ]
  },
  {
   "cell_type": "code",
   "execution_count": 68,
   "metadata": {},
   "outputs": [],
   "source": [
    "perr = np.sqrt(np.diag(var_matrix))"
   ]
  },
  {
   "cell_type": "code",
   "execution_count": 69,
   "metadata": {},
   "outputs": [
    {
     "data": {
      "text/plain": [
       "array([2.41439019e+02, 3.49542307e-14])"
      ]
     },
     "execution_count": 69,
     "metadata": {},
     "output_type": "execute_result"
    }
   ],
   "source": [
    "perr"
   ]
  },
  {
   "cell_type": "code",
   "execution_count": 73,
   "metadata": {},
   "outputs": [],
   "source": [
    "test = [21,22]*ur.ABmag"
   ]
  },
  {
   "cell_type": "code",
   "execution_count": 74,
   "metadata": {},
   "outputs": [],
   "source": [
    "test_fden = test.to(FLAM,equivalencies=ur.spectral_density([200,280]*ur.nm))"
   ]
  },
  {
   "cell_type": "code",
   "execution_count": null,
   "metadata": {},
   "outputs": [],
   "source": []
  }
 ],
 "metadata": {
  "kernelspec": {
   "display_name": "Python [conda env:envpy3]",
   "language": "python",
   "name": "conda-env-envpy3-py"
  },
  "language_info": {
   "codemirror_mode": {
    "name": "ipython",
    "version": 3
   },
   "file_extension": ".py",
   "mimetype": "text/x-python",
   "name": "python",
   "nbconvert_exporter": "python",
   "pygments_lexer": "ipython3",
   "version": "3.6.8"
  }
 },
 "nbformat": 4,
 "nbformat_minor": 2
}
