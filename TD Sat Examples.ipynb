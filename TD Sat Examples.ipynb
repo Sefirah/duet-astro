{
 "cells": [
  {
   "cell_type": "code",
   "execution_count": 1,
   "metadata": {
    "collapsed": false
   },
   "outputs": [],
   "source": [
    "import numpy as np\n",
    "import astropy\n",
    "import astropy.units as ur\n",
    "import astropy.constants as cr\n",
    "%matplotlib inline\n",
    "from tdsat_sensitivity import find_limit, compute_snr\n",
    "import matplotlib.pyplot as plt\n"
   ]
  },
  {
   "cell_type": "code",
   "execution_count": 2,
   "metadata": {
    "collapsed": false
   },
   "outputs": [
    {
     "name": "stdout",
     "output_type": "stream",
     "text": [
      "Telescope effective area 744.1097819476445 cm2\n"
     ]
    }
   ],
   "source": [
    "# Set inputs here. Currently set at Ultrasat values to compare with Rick\n",
    "diameter=33*ur.cm\n",
    "qe = 0.8\n",
    "exposure = 300*ur.s\n",
    "psf_size = 10*ur.arcsec\n",
    "efficiency = 0.87\n",
    "\n",
    "\n",
    "td1_band = [180, 220]*ur.nm\n",
    "td2_band = [260, 320]*ur.nm\n",
    "td3_band = [340, 380]*ur.nm\n",
    "\n",
    "Area_Tel = efficiency*np.pi*(0.5*diameter)**2\n",
    "print('Telescope effective area {}'.format(Area_Tel))\n",
    "\n",
    "\n"
   ]
  },
  {
   "cell_type": "code",
   "execution_count": 3,
   "metadata": {
    "collapsed": false
   },
   "outputs": [
    {
     "name": "stdout",
     "output_type": "stream",
     "text": [
      "Signal to noise for 13.247789656722295 AB mag in [ 180.  220.] nm band\n"
     ]
    }
   ],
   "source": [
    "# Example of how to check the SNR for a given ABmag in a given band\n",
    "\n",
    "ABmag = 22 *ur.ABmag\n",
    "snr = compute_snr(td1_band,ABmag,\n",
    "                  high_zodi=False,diameter=diameter,\n",
    "                  efficiency = efficiency,exposure=exposure,\n",
    "                  qe = qe, psf_size = psf_size)\n",
    "print('Signal to noise for {} AB mag in {} band'.format(snr, td1_band))\n",
    "\n"
   ]
  },
  {
   "cell_type": "code",
   "execution_count": 4,
   "metadata": {
    "collapsed": false
   },
   "outputs": [
    {
     "name": "stdout",
     "output_type": "stream",
     "text": [
      "\n",
      "SNR Computation\n",
      "Inputs: \n",
      "Exposure 300.0 s\n",
      "Efficiency 0.87\n",
      "Optics Diameter: 33.0 cm\n",
      "PSF Size: 10.0 arcsec\n",
      "\n",
      "Outputs:\n",
      "Source Counts: 440.5128364928447\n",
      "Background Counts: 156.12402068870605\n",
      "Magnitude limit: 23.6 mag(AB)\n",
      "Signal to noise ratio: 9.415113989500618\n",
      "\n",
      "Limiting magnitude is 23.6 mag(AB) for 10 σ detection in [ 180.  220.] nm\n"
     ]
    }
   ],
   "source": [
    "# Example of how to find the limiting magnitude for a given band.\n",
    "\n",
    "# # For the ABmag where you hit a N-sigma detection, where N is:\n",
    "snr_limit = 10\n",
    "maglimit = find_limit(td1_band,snr_limit,snr_diag=True,bgd_diag=False, \n",
    "                      high_zodi=True, diameter=diameter, exposure=exposure,\n",
    "                      psf_size=psf_size, efficiency=efficiency, qe = qe)\n",
    "print('Limiting magnitude is {} for {} σ detection in {}'.format(maglimit, snr_limit, td1_band))"
   ]
  }
 ],
 "metadata": {
  "anaconda-cloud": {},
  "kernelspec": {
   "display_name": "Python [default]",
   "language": "python",
   "name": "python3"
  },
  "language_info": {
   "codemirror_mode": {
    "name": "ipython",
    "version": 3
   },
   "file_extension": ".py",
   "mimetype": "text/x-python",
   "name": "python",
   "nbconvert_exporter": "python",
   "pygments_lexer": "ipython3",
   "version": "3.5.1"
  }
 },
 "nbformat": 4,
 "nbformat_minor": 2
}
