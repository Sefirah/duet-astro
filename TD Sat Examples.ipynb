{
 "cells": [
  {
   "cell_type": "code",
   "execution_count": 3,
   "metadata": {
    "collapsed": false
   },
   "outputs": [],
   "source": [
    "from importlib import reload\n",
    "import numpy as np\n",
    "import astropy\n",
    "import astropy.units as ur\n",
    "import astropy.constants as cr\n",
    "%matplotlib inline\n",
    "from tdsat_sensitivity import find_limit, compute_snr\n",
    "from tdsat_telescope import load_telescope_parameters\n",
    "import matplotlib.pyplot as plt\n",
    "import warnings\n",
    "warnings.filterwarnings(\"ignore\", category=FutureWarning)"
   ]
  },
  {
   "cell_type": "code",
   "execution_count": 10,
   "metadata": {
    "collapsed": false
   },
   "outputs": [
    {
     "name": "stdout",
     "output_type": "stream",
     "text": [
      "Telescope Configuration 5\n",
      "Entrance Pupil diameter 33.0 cm\n",
      "Optical Effifiency 0.8824609733700643\n",
      "PSF FWHM 9.288 arcsec\n",
      "Pixel size 4.3 arcsec\n",
      "Effective Aperture 31.0 cm\n",
      "Effective Area 754.7676350249478 cm2\n"
     ]
    }
   ],
   "source": [
    "# Load a telescope version. 0-4 should be depricated. 5 is the \"Big Schmidt\" from Jim McGuire\n",
    "\n",
    "diameter, qe, psf_size, pixel_size, efficiency = load_telescope_parameters(5, diag=True)\n",
    "\n",
    "\n",
    "# Set bands here (eventually to be depricated by actual QE curves)\n",
    "td1_band = [180, 220]*ur.nm\n",
    "td2_band = [260, 320]*ur.nm\n",
    "exposure = 300*ur.s\n"
   ]
  },
  {
   "cell_type": "code",
   "execution_count": 11,
   "metadata": {
    "collapsed": false
   },
   "outputs": [
    {
     "name": "stdout",
     "output_type": "stream",
     "text": [
      "\n",
      "SNR Computation\n",
      "Inputs: \n",
      "Exposure 300.0 s\n",
      "Efficiency 0.8824609733700643\n",
      "Optics Diameter: 33.0 cm\n",
      "PSF Size: 9.288 arcsec\n",
      "ABMag: 22.0 mag(AB)\n",
      "\n",
      "Outputs:\n",
      "Source rate (ph / s): 1.0487626915645907 1 / s\n",
      "Source Photons: 314.6288074693772\n",
      "Source Electrons: 1950.4500085939721\n",
      "\n",
      "In-band sky background photons: 4.961181226573186\n",
      "Out-of-band sky background photons: 27.996647548534753\n",
      "Electronics Background: 294.0\n",
      "Total Background Counts: 326.9578287751079\n",
      "\n",
      "Signal to noise ratio: 10.109710104483996\n",
      "\n",
      "Signal to noise is 10.109710104483996 for 22.0 mag(AB) AB mag in [ 180.  220.] nm band\n"
     ]
    }
   ],
   "source": [
    "# Example of how to check the SNR for a given ABmag in a given band\n",
    "\n",
    "ABmag = 22 *ur.ABmag\n",
    "snr = compute_snr(td1_band,ABmag,\n",
    "                  high_zodi=False,diameter=diameter,\n",
    "                  efficiency = efficiency,exposure=exposure,\n",
    "                  qe = qe, psf_size = psf_size, diag=True)\n",
    "print('Signal to noise is {} for {} AB mag in {} band'.format(snr, ABmag, td1_band))\n",
    "\n"
   ]
  },
  {
   "cell_type": "code",
   "execution_count": 12,
   "metadata": {
    "collapsed": false
   },
   "outputs": [
    {
     "name": "stdout",
     "output_type": "stream",
     "text": [
      "\n",
      "SNR Computation\n",
      "Inputs: \n",
      "Exposure 300.0 s\n",
      "Efficiency 0.8824609733700643\n",
      "Optics Diameter: 33.0 cm\n",
      "PSF Size: 9.288 arcsec\n",
      "ABMag: 22.0 mag(AB)\n",
      "\n",
      "Outputs:\n",
      "Source rate (ph / s): 1.0487626915645907 1 / s\n",
      "Source Photons: 314.6288074693772\n",
      "Source Electrons: 1950.4500085939721\n",
      "\n",
      "In-band sky background photons: 386.585550122586\n",
      "Out-of-band sky background photons: 2043.0177363318987\n",
      "Electronics Background: 294.0\n",
      "Total Background Counts: 2723.6032864544845\n",
      "\n",
      "Signal to noise ratio: 4.144938213952869\n",
      "\n",
      "Signal to noise is 4.144938213952869 for 22.0 mag(AB) AB mag in [ 180.  220.] nm band\n"
     ]
    }
   ],
   "source": [
    "# Example of how to check the SNR for a given ABmag in a given band with high zodiacal background\n",
    "\n",
    "ABmag = 22 *ur.ABmag\n",
    "snr = compute_snr(td1_band,ABmag,\n",
    "                  high_zodi=True,diameter=diameter,\n",
    "                  efficiency = efficiency,exposure=exposure,\n",
    "                  qe = qe, psf_size = psf_size, diag=True)\n",
    "print('Signal to noise is {} for {} AB mag in {} band'.format(snr, ABmag, td1_band))\n",
    "\n",
    "\n"
   ]
  },
  {
   "cell_type": "code",
   "execution_count": 13,
   "metadata": {
    "collapsed": false
   },
   "outputs": [
    {
     "name": "stdout",
     "output_type": "stream",
     "text": [
      "\n",
      "SNR Computation\n",
      "Inputs: \n",
      "Exposure 300.0 s\n",
      "Efficiency 0.8824609733700643\n",
      "Optics Diameter: 33.0 cm\n",
      "PSF Size: 9.288 arcsec\n",
      "\n",
      "Outputs:\n",
      "Source Counts: 286.9448827856949\n",
      "Background Counts: 58.38532656698356\n",
      "Magnitude limit: 22.1 mag(AB)\n",
      "Signal to noise ratio: 9.354829077170992\n",
      "\n",
      "Limiting magnitude is 22.1 mag(AB) for 10 σ detection in [ 180.  220.] nm\n"
     ]
    }
   ],
   "source": [
    "# Example of how to find the limiting magnitude for a given band.\n",
    "\n",
    "# # For the ABmag where you hit a N-sigma detection, where N is:\n",
    "snr_limit = 10\n",
    "maglimit = find_limit(td1_band,snr_limit,snr_diag=True,bgd_diag=False, \n",
    "                      high_zodi=False, diameter=diameter, exposure=exposure,\n",
    "                      psf_size=psf_size, efficiency=efficiency, qe = qe)\n",
    "print('Limiting magnitude is {} for {} σ detection in {}'.format(maglimit, snr_limit, td1_band))"
   ]
  }
 ],
 "metadata": {
  "anaconda-cloud": {},
  "kernelspec": {
   "display_name": "Python [default]",
   "language": "python",
   "name": "python3"
  },
  "language_info": {
   "codemirror_mode": {
    "name": "ipython",
    "version": 3
   },
   "file_extension": ".py",
   "mimetype": "text/x-python",
   "name": "python",
   "nbconvert_exporter": "python",
   "pygments_lexer": "ipython3",
   "version": "3.5.1"
  }
 },
 "nbformat": 4,
 "nbformat_minor": 2
}
