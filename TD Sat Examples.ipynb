{
 "cells": [
  {
   "cell_type": "code",
   "execution_count": 6,
   "metadata": {
    "collapsed": false
   },
   "outputs": [],
   "source": [
    "from importlib import reload\n",
    "import numpy as np\n",
    "import astropy\n",
    "import astropy.units as ur\n",
    "import astropy.constants as cr\n",
    "%matplotlib inline\n",
    "from tdsat_sensitivity import find_limit, compute_snr\n",
    "import matplotlib.pyplot as plt\n",
    "import warnings\n",
    "warnings.filterwarnings(\"ignore\", category=FutureWarning)"
   ]
  },
  {
   "cell_type": "code",
   "execution_count": 7,
   "metadata": {
    "collapsed": false
   },
   "outputs": [
    {
     "name": "stdout",
     "output_type": "stream",
     "text": [
      "Telescope effective area 744.1097819476445 cm2\n"
     ]
    }
   ],
   "source": [
    "# Set inputs here. Currently set at Ultrasat values to compare with Rick\n",
    "diameter=33*ur.cm\n",
    "qe = 0.8\n",
    "exposure = 300*ur.s\n",
    "psf_size = 10*ur.arcsec\n",
    "efficiency = 0.87\n",
    "\n",
    "\n",
    "td1_band = [180, 220]*ur.nm\n",
    "td2_band = [260, 320]*ur.nm\n",
    "td3_band = [340, 380]*ur.nm\n",
    "\n",
    "Area_Tel = efficiency*np.pi*(0.5*diameter)**2\n",
    "print('Telescope effective area {}'.format(Area_Tel))\n",
    "\n",
    "\n"
   ]
  },
  {
   "cell_type": "code",
   "execution_count": 8,
   "metadata": {
    "collapsed": false
   },
   "outputs": [
    {
     "name": "stdout",
     "output_type": "stream",
     "text": [
      "\n",
      "SNR Computation\n",
      "Inputs: \n",
      "Exposure 300.0 s\n",
      "Efficiency 0.87\n",
      "Optics Diameter: 33.0 cm\n",
      "PSF Size: 10.0 arcsec\n",
      "ABMag: 22.0 mag(AB)\n",
      "\n",
      "Outputs:\n",
      "Source rate (ph / s): 1.0339534202591467 1 / s\n",
      "Source Photons: 310.18602607774403\n",
      "Source Electrons: 1922.908274341506\n",
      "\n",
      "In-band sky background photons: 5.669756699786098\n",
      "Out-of-band sky background photons: 31.99523919014276\n",
      "Electronics Background: 294.0\n",
      "Total Background Counts: 331.66499588992883\n",
      "\n",
      "Signal to noise ratio: 9.941471643156758\n",
      "\n",
      "Signal to noise is 9.941471643156758 for 22.0 mag(AB) AB mag in [180. 220.] nm band\n"
     ]
    }
   ],
   "source": [
    "# Example of how to check the SNR for a given ABmag in a given band\n",
    "\n",
    "ABmag = 22 *ur.ABmag\n",
    "snr = compute_snr(td1_band,ABmag,\n",
    "                  high_zodi=False,diameter=diameter,\n",
    "                  efficiency = efficiency,exposure=exposure,\n",
    "                  qe = qe, psf_size = psf_size, diag=True)\n",
    "print('Signal to noise is {} for {} AB mag in {} band'.format(snr, ABmag, td1_band))\n",
    "\n"
   ]
  },
  {
   "cell_type": "code",
   "execution_count": 9,
   "metadata": {
    "collapsed": false
   },
   "outputs": [
    {
     "name": "stdout",
     "output_type": "stream",
     "text": [
      "\n",
      "SNR Computation\n",
      "Inputs: \n",
      "Exposure 300.0 s\n",
      "Efficiency 0.87\n",
      "Optics Diameter: 33.0 cm\n",
      "PSF Size: 10.0 arcsec\n",
      "ABMag: 22.0 mag(AB)\n",
      "\n",
      "Outputs:\n",
      "Source rate (ph / s): 1.0339534202591467 1 / s\n",
      "Source Photons: 310.18602607774403\n",
      "Source Electrons: 1922.908274341506\n",
      "\n",
      "In-band sky background photons: 441.7992233599558\n",
      "Out-of-band sky background photons: 2334.8095885524767\n",
      "Electronics Background: 294.0\n",
      "Total Background Counts: 3070.6088119124324\n",
      "\n",
      "Signal to noise ratio: 3.861847509967809\n",
      "\n",
      "Signal to noise is 3.861847509967809 for 22.0 mag(AB) AB mag in [180. 220.] nm band\n"
     ]
    }
   ],
   "source": [
    "# Example of how to check the SNR for a given ABmag in a given band\n",
    "\n",
    "ABmag = 22 *ur.ABmag\n",
    "snr = compute_snr(td1_band,ABmag,\n",
    "                  high_zodi=True,diameter=diameter,\n",
    "                  efficiency = efficiency,exposure=exposure,\n",
    "                  qe = qe, psf_size = psf_size, diag=True)\n",
    "print('Signal to noise is {} for {} AB mag in {} band'.format(snr, ABmag, td1_band))\n",
    "\n",
    "\n"
   ]
  },
  {
   "cell_type": "code",
   "execution_count": 10,
   "metadata": {
    "collapsed": false
   },
   "outputs": [
    {
     "name": "stdout",
     "output_type": "stream",
     "text": [
      "\n",
      "SNR Computation\n",
      "Inputs: \n",
      "Exposure 300.0 s\n",
      "Efficiency 0.87\n",
      "Optics Diameter: 33.0 cm\n",
      "PSF Size: 10.0 arcsec\n",
      "\n",
      "Outputs:\n",
      "Source Counts: 779.1520701485623\n",
      "Background Counts: 548.3230021272201\n",
      "Magnitude limit: 21.0 mag(AB)\n",
      "Signal to noise ratio: 9.366073921203986\n",
      "\n",
      "Limiting magnitude is 21.0 mag(AB) for 10 σ detection in [180. 220.] nm\n"
     ]
    }
   ],
   "source": [
    "# Example of how to find the limiting magnitude for a given band.\n",
    "\n",
    "# # For the ABmag where you hit a N-sigma detection, where N is:\n",
    "snr_limit = 10\n",
    "maglimit = find_limit(td1_band,snr_limit,snr_diag=True,bgd_diag=False, \n",
    "                      high_zodi=True, diameter=diameter, exposure=exposure,\n",
    "                      psf_size=psf_size, efficiency=efficiency, qe = qe)\n",
    "print('Limiting magnitude is {} for {} σ detection in {}'.format(maglimit, snr_limit, td1_band))"
   ]
  },
  {
   "cell_type": "code",
   "execution_count": null,
   "metadata": {
    "collapsed": true
   },
   "outputs": [],
   "source": []
  }
 ],
 "metadata": {
  "anaconda-cloud": {},
  "kernelspec": {
   "display_name": "Python [default]",
   "language": "python",
   "name": "python3"
  },
  "language_info": {
   "codemirror_mode": {
    "name": "ipython",
    "version": 3
   },
   "file_extension": ".py",
   "mimetype": "text/x-python",
   "name": "python",
   "nbconvert_exporter": "python",
   "pygments_lexer": "ipython3",
   "version": "3.5.5"
  }
 },
 "nbformat": 4,
 "nbformat_minor": 2
}
